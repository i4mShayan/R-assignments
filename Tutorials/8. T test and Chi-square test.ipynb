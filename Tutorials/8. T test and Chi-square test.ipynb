{
 "cells": [
  {
   "cell_type": "markdown",
   "id": "d809c8c7",
   "metadata": {},
   "source": [
    "## T Distribution"
   ]
  },
  {
   "cell_type": "code",
   "execution_count": 1,
   "id": "d5f73e79",
   "metadata": {},
   "outputs": [
    {
     "data": {
      "image/png": "[encoded data removed]",
      "text/plain": [
       "Plot with title \"t-Distribution with Different Degrees of Freedom\""
      ]
     },
     "metadata": {
      "image/png": {
       "height": 420,
       "width": 420
      }
     },
     "output_type": "display_data"
    }
   ],
   "source": [
    "x <- seq(-4, 4, length = 200)\n",
    "\n",
    "t_df1 <- dt(x, df = 1)\n",
    "t_df5 <- dt(x, df = 5)\n",
    "t_df10 <- dt(x, df = 10)\n",
    "t_df30 <- dt(x, df = 30)\n",
    "\n",
    "plot(x, t_df1, type = \"l\", col = \"red\", lwd = 2, ylim = c(0, 0.4),\n",
    "     xlab = \"t Value\", ylab = \"Density\", main = \"t-Distribution with Different Degrees of Freedom\")\n",
    "lines(x, t_df5, col = \"blue\", lwd = 2)\n",
    "lines(x, t_df10, col = \"green\", lwd = 2)\n",
    "lines(x, t_df30, col = \"purple\", lwd = 2)\n",
    "\n",
    "legend(\"topright\", legend = c(\"df = 1\", \"df = 5\", \"df = 10\", \"df = 30\"),\n",
    "       col = c(\"red\", \"blue\", \"green\", \"purple\"), lwd = 2)"
   ]
  },
  {
   "cell_type": "markdown",
   "id": "f57f65a0",
   "metadata": {},
   "source": [
    "## <div dir=rtl>آزمون t تک نمونه‌ای (One-Sample t-test)"
   ]
  },
  {
   "cell_type": "markdown",
   "id": "1e95054d",
   "metadata": {},
   "source": [
    "فرض کنید گروهی از افراد میانگین قدی برابر با 170 سانتی‌متر دارند و می‌خواهیم بررسی کنیم که آیا میانگین قد یک نمونه از این افراد با 170 سانتی‌متر تفاوت معناداری دارد یا خیر."
   ]
  },
  {
   "cell_type": "code",
   "execution_count": 2,
   "id": "121df44d",
   "metadata": {},
   "outputs": [
    {
     "name": "stdout",
     "output_type": "stream",
     "text": [
      "\n",
      "\tOne Sample t-test\n",
      "\n",
      "data:  height\n",
      "t = 0.647, df = 9, p-value = 0.5338\n",
      "alternative hypothesis: true mean is not equal to 170\n",
      "95 percent confidence interval:\n",
      " 169.0014 171.7986\n",
      "sample estimates:\n",
      "mean of x \n",
      "    170.4 \n",
      "\n"
     ]
    }
   ],
   "source": [
    "height <- c(172, 168, 169, 171, 174, 169, 170, 172, 168, 171)\n",
    "\n",
    "t_test_result <- t.test(height, mu = 170)\n",
    "\n",
    "print(t_test_result)\n"
   ]
  },
  {
   "cell_type": "markdown",
   "id": "3e2fef19",
   "metadata": {},
   "source": [
    "<div dir=rtl>فرض صفر: میانگین قد نمونه برابر با 170 است. ||| \n",
    "فرض جایگزین: میانگین قد نمونه برابر با 170 نیست. ||| \n",
    "مقدار p-value برابر با 0.5338 است، که بیشتر از 0.05 است. بنابراین، فرض صفر را رد نمی‌کنیم. ||| \n",
    "نتیجه: شواهد کافی برای اثبات تفاوت میانگین نمونه با 170 وجود ندارد."
   ]
  },
  {
   "cell_type": "markdown",
   "id": "6fbaec48",
   "metadata": {},
   "source": [
    "*******************************************************************************"
   ]
  },
  {
   "cell_type": "markdown",
   "id": "f81d328d",
   "metadata": {},
   "source": [
    "### <div dir=rtl>آزمون t تک نمونه‌ای یک طرفه:\n",
    "آیا میانگین بیشتر از 170 است؟"
   ]
  },
  {
   "cell_type": "code",
   "execution_count": 3,
   "id": "908a5186",
   "metadata": {},
   "outputs": [
    {
     "name": "stdout",
     "output_type": "stream",
     "text": [
      "\n",
      "\tOne Sample t-test\n",
      "\n",
      "data:  height\n",
      "t = 0.647, df = 9, p-value = 0.2669\n",
      "alternative hypothesis: true mean is greater than 170\n",
      "95 percent confidence interval:\n",
      " 169.2667      Inf\n",
      "sample estimates:\n",
      "mean of x \n",
      "    170.4 \n",
      "\n"
     ]
    }
   ],
   "source": [
    "t_test_one_sample <- t.test(height, mu = 170, alternative = \"greater\")\n",
    "print(t_test_one_sample)"
   ]
  },
  {
   "cell_type": "markdown",
   "id": "4e24a39f",
   "metadata": {},
   "source": [
    "## <div dir=rtl>آزمون t دو نمونه‌ای (Independent Two-Sample t-test)"
   ]
  },
  {
   "cell_type": "markdown",
   "id": "2396c15e",
   "metadata": {},
   "source": [
    "<div dir=rtl>مثال: آیا میانگین قد دانشجویان دختر و پسر یک دانشگاه متفاوت است؟"
   ]
  },
  {
   "cell_type": "code",
   "execution_count": 4,
   "id": "af3ab274",
   "metadata": {},
   "outputs": [
    {
     "name": "stdout",
     "output_type": "stream",
     "text": [
      "\n",
      "\tWelch Two Sample t-test\n",
      "\n",
      "data:  group1 and group2\n",
      "t = 4.0475, df = 17.991, p-value = 0.0007563\n",
      "alternative hypothesis: true difference in means is not equal to 0\n",
      "95 percent confidence interval:\n",
      " 1.683181 5.316819\n",
      "sample estimates:\n",
      "mean of x mean of y \n",
      "    170.4     166.9 \n",
      "\n"
     ]
    }
   ],
   "source": [
    "group1 <- c(172, 168, 169, 171, 174, 169, 170, 172, 168, 171)\n",
    "group2 <- c(165, 167, 166, 164, 169, 168, 167, 170, 168, 165)\n",
    "\n",
    "t_test_result_two_sample <- t.test(group1, group2)\n",
    "\n",
    "print(t_test_result_two_sample)\n"
   ]
  },
  {
   "cell_type": "markdown",
   "id": "68d1c81d",
   "metadata": {},
   "source": [
    "### <div dir=rtl>آزمون t دو نمونه‌ای یک طرفه با فرض برابری واریانس‌ها:"
   ]
  },
  {
   "cell_type": "code",
   "execution_count": 9,
   "id": "ebec0916",
   "metadata": {},
   "outputs": [
    {
     "name": "stdout",
     "output_type": "stream",
     "text": [
      "\n",
      "\tTwo Sample t-test\n",
      "\n",
      "data:  group1 and group2\n",
      "t = 4.0475, df = 18, p-value = 0.0007556\n",
      "alternative hypothesis: true difference in means is not equal to 0\n",
      "95 percent confidence interval:\n",
      " 1.683246 5.316754\n",
      "sample estimates:\n",
      "mean of x mean of y \n",
      "    170.4     166.9 \n",
      "\n"
     ]
    }
   ],
   "source": [
    "t_test_two_sample <- t.test(group1, group2, var.equal = TRUE)\n",
    "print(t_test_two_sample)"
   ]
  },
  {
   "cell_type": "markdown",
   "id": "34894452",
   "metadata": {},
   "source": [
    "## <div dir=rtl>آزمون t زوجی (Paired t-test)"
   ]
  },
  {
   "cell_type": "markdown",
   "id": "bcb5a966",
   "metadata": {},
   "source": [
    "<div dir=rtl>مثال: آیا میانگین فشار خون بیماران قبل و بعد از مصرف دارو تغییر کرده است؟"
   ]
  },
  {
   "cell_type": "code",
   "execution_count": 6,
   "id": "fac76cba",
   "metadata": {},
   "outputs": [
    {
     "data": {
      "text/plain": [
       "\n",
       "\tPaired t-test\n",
       "\n",
       "data:  before and after\n",
       "t = 5.7155, df = 4, p-value = 0.004636\n",
       "alternative hypothesis: true mean difference is not equal to 0\n",
       "95 percent confidence interval:\n",
       "  3.599563 10.400437\n",
       "sample estimates:\n",
       "mean difference \n",
       "              7 \n"
      ]
     },
     "metadata": {},
     "output_type": "display_data"
    }
   ],
   "source": [
    "before <- c(120, 115, 130, 125, 135)\n",
    "after <- c(110, 105, 125, 120, 130)\n",
    "t.test(before, after, paired = TRUE)"
   ]
  },
  {
   "cell_type": "markdown",
   "id": "9b10cf9c",
   "metadata": {},
   "source": [
    "## Chi-Square Distribution"
   ]
  },
  {
   "cell_type": "code",
   "execution_count": 7,
   "id": "4215ec66",
   "metadata": {},
   "outputs": [
    {
     "data": {
      "image/png": "[encoded data removed]",
      "text/plain": [
       "Plot with title \"Chi-Square Distribution\""
      ]
     },
     "metadata": {
      "image/png": {
       "height": 420,
       "width": 420
      }
     },
     "output_type": "display_data"
    }
   ],
   "source": [
    "x <- seq(0, 20, length = 200)\n",
    "\n",
    "chi_sq_df1 <- dchisq(x, df = 1)\n",
    "chi_sq_df3 <- dchisq(x, df = 3)\n",
    "chi_sq_df5 <- dchisq(x, df = 5)\n",
    "chi_sq_df10 <- dchisq(x, df = 10)\n",
    "\n",
    "plot(x, chi_sq_df1, type = \"l\", lwd = 2, col = \"red\", ylim = c(0, 0.4),\n",
    "     ylab = \"Density\", xlab = \"Chi-Square Value\", main = \"Chi-Square Distribution\")\n",
    "lines(x, chi_sq_df3, col = \"blue\", lwd = 2)\n",
    "lines(x, chi_sq_df5, col = \"green\", lwd = 2)\n",
    "lines(x, chi_sq_df10, col = \"purple\", lwd = 2)\n",
    "\n",
    "legend(\"topright\", legend = c(\"df = 1\", \"df = 3\", \"df = 5\", \"df = 10\"),\n",
    "       col = c(\"red\", \"blue\", \"green\", \"purple\"), lwd = 2)"
   ]
  },
  {
   "cell_type": "markdown",
   "id": "b4990bd6",
   "metadata": {},
   "source": [
    "## <div dir=rtl>آزمون Chi-square (کای دو)"
   ]
  },
  {
   "cell_type": "markdown",
   "id": "7cc7c770",
   "metadata": {},
   "source": [
    "<div dir=rtl>آزمون استقلال (Chi-Square Test of Independence): بررسی می‌کند که آیا دو متغیر کیفی مستقل هستند یا نه."
   ]
  },
  {
   "cell_type": "markdown",
   "id": "bc78af8f",
   "metadata": {},
   "source": [
    "<div dir=rtl>مثال: آیا جنسیت (مرد/زن) و نوع ورزش مورد علاقه (فوتبال/بسکتبال) به هم وابسته هستند؟"
   ]
  },
  {
   "cell_type": "code",
   "execution_count": 12,
   "id": "c849fad9",
   "metadata": {},
   "outputs": [
    {
     "name": "stdout",
     "output_type": "stream",
     "text": [
      "       Football Basketball\n",
      "Male         20         15\n",
      "Female       25         30\n",
      "\n",
      "\tPearson's Chi-squared test with Yates' continuity correction\n",
      "\n",
      "data:  gender_sport\n",
      "X-squared = 0.74805, df = 1, p-value = 0.3871\n",
      "\n"
     ]
    }
   ],
   "source": [
    "gender_sport <- matrix(c(20, 15, 25, 30), nrow = 2, byrow = TRUE)\n",
    "rownames(gender_sport) <- c(\"Male\", \"Female\")\n",
    "colnames(gender_sport) <- c(\"Football\", \"Basketball\")\n",
    "\n",
    "print(gender_sport)\n",
    "\n",
    "chi_square_result <- chisq.test(gender_sport)\n",
    "\n",
    "print(chi_square_result)\n"
   ]
  },
  {
   "cell_type": "markdown",
   "id": "07c4d64a",
   "metadata": {},
   "source": [
    "### <div dir=rtl> آزمون برازش (Goodness of Fit Test)"
   ]
  },
  {
   "cell_type": "markdown",
   "id": "5176779e",
   "metadata": {},
   "source": [
    "<div dir=rtl>بررسی می‌کند که آیا توزیع مشاهده شده با توزیع مورد انتظار تفاوت معناداری دارد."
   ]
  },
  {
   "cell_type": "markdown",
   "id": "043439a7",
   "metadata": {},
   "source": [
    "<div dir=rtl>مثال: آیا توزیع انتخاب رشته‌های تحصیلی دانشجویان با توزیع مورد انتظار سازگار است؟"
   ]
  },
  {
   "cell_type": "code",
   "execution_count": 10,
   "id": "f3200463",
   "metadata": {},
   "outputs": [
    {
     "data": {
      "text/plain": [
       "\n",
       "\tChi-squared test for given probabilities\n",
       "\n",
       "data:  observed\n",
       "X-squared = 5, df = 2, p-value = 0.08208\n"
      ]
     },
     "metadata": {},
     "output_type": "display_data"
    }
   ],
   "source": [
    "observed <- c(50, 30, 20)\n",
    "expected <- c(40, 40, 20)\n",
    "\n",
    "chisq.test(x = observed, p = expected / sum(expected))"
   ]
  }
 ],
 "metadata": {
  "kernelspec": {
   "display_name": "R",
   "language": "R",
   "name": "ir"
  },
  "language_info": {
   "codemirror_mode": "r",
   "file_extension": ".r",
   "mimetype": "text/x-r-source",
   "name": "R",
   "pygments_lexer": "r",
   "version": "4.4.1"
  }
 },
 "nbformat": 4,
 "nbformat_minor": 5
}
