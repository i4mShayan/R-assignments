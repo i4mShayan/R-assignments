{
 "cells": [
  {
   "cell_type": "markdown",
   "id": "7937c2b8",
   "metadata": {},
   "source": [
    "# Dataframe Basics\n",
    "We've learned about vectors and their two-dimensional counterpart, matrices. Now we will learn about Dataframes, one of the main tools for data analysis with R! Matrix inputs were limited because all the data inside of the matrix had to be of the same data type (numerics, logicals, etc). With Dataframes we will be able to organize and mix data types to create a very powerful data structure tool!\n",
    "\n",
    "R actually has built in DataFrames for quick reference to play around with! Check out the following dataframes that are built-in!"
   ]
  },
  {
   "cell_type": "code",
   "execution_count": 31,
   "id": "8dc3a4c2",
   "metadata": {},
   "outputs": [
    {
     "data": {
      "text/html": [
       "<table class=\"dataframe\">\n",
       "<caption>A matrix: 50 × 8 of type dbl</caption>\n",
       "<thead>\n",
       "\t<tr><th></th><th scope=col>Population</th><th scope=col>Income</th><th scope=col>Illiteracy</th><th scope=col>Life Exp</th><th scope=col>Murder</th><th scope=col>HS Grad</th><th scope=col>Frost</th><th scope=col>Area</th></tr>\n",
       "</thead>\n",
       "<tbody>\n",
       "\t<tr><th scope=row>Alabama</th><td> 3615</td><td>3624</td><td>2.1</td><td>69.05</td><td>15.1</td><td>41.3</td><td> 20</td><td> 50708</td></tr>\n",
       "\t<tr><th scope=row>Alaska</th><td>  365</td><td>6315</td><td>1.5</td><td>69.31</td><td>11.3</td><td>66.7</td><td>152</td><td>566432</td></tr>\n",
       "\t<tr><th scope=row>Arizona</th><td> 2212</td><td>4530</td><td>1.8</td><td>70.55</td><td> 7.8</td><td>58.1</td><td> 15</td><td>113417</td></tr>\n",
       "\t<tr><th scope=row>Arkansas</th><td> 2110</td><td>3378</td><td>1.9</td><td>70.66</td><td>10.1</td><td>39.9</td><td> 65</td><td> 51945</td></tr>\n",
       "\t<tr><th scope=row>California</th><td>21198</td><td>5114</td><td>1.1</td><td>71.71</td><td>10.3</td><td>62.6</td><td> 20</td><td>156361</td></tr>\n",
       "\t<tr><th scope=row>Colorado</th><td> 2541</td><td>4884</td><td>0.7</td><td>72.06</td><td> 6.8</td><td>63.9</td><td>166</td><td>103766</td></tr>\n",
       "\t<tr><th scope=row>Connecticut</th><td> 3100</td><td>5348</td><td>1.1</td><td>72.48</td><td> 3.1</td><td>56.0</td><td>139</td><td>  4862</td></tr>\n",
       "\t<tr><th scope=row>Delaware</th><td>  579</td><td>4809</td><td>0.9</td><td>70.06</td><td> 6.2</td><td>54.6</td><td>103</td><td>  1982</td></tr>\n",
       "\t<tr><th scope=row>Florida</th><td> 8277</td><td>4815</td><td>1.3</td><td>70.66</td><td>10.7</td><td>52.6</td><td> 11</td><td> 54090</td></tr>\n",
       "\t<tr><th scope=row>Georgia</th><td> 4931</td><td>4091</td><td>2.0</td><td>68.54</td><td>13.9</td><td>40.6</td><td> 60</td><td> 58073</td></tr>\n",
       "\t<tr><th scope=row>Hawaii</th><td>  868</td><td>4963</td><td>1.9</td><td>73.60</td><td> 6.2</td><td>61.9</td><td>  0</td><td>  6425</td></tr>\n",
       "\t<tr><th scope=row>Idaho</th><td>  813</td><td>4119</td><td>0.6</td><td>71.87</td><td> 5.3</td><td>59.5</td><td>126</td><td> 82677</td></tr>\n",
       "\t<tr><th scope=row>Illinois</th><td>11197</td><td>5107</td><td>0.9</td><td>70.14</td><td>10.3</td><td>52.6</td><td>127</td><td> 55748</td></tr>\n",
       "\t<tr><th scope=row>Indiana</th><td> 5313</td><td>4458</td><td>0.7</td><td>70.88</td><td> 7.1</td><td>52.9</td><td>122</td><td> 36097</td></tr>\n",
       "\t<tr><th scope=row>Iowa</th><td> 2861</td><td>4628</td><td>0.5</td><td>72.56</td><td> 2.3</td><td>59.0</td><td>140</td><td> 55941</td></tr>\n",
       "\t<tr><th scope=row>Kansas</th><td> 2280</td><td>4669</td><td>0.6</td><td>72.58</td><td> 4.5</td><td>59.9</td><td>114</td><td> 81787</td></tr>\n",
       "\t<tr><th scope=row>Kentucky</th><td> 3387</td><td>3712</td><td>1.6</td><td>70.10</td><td>10.6</td><td>38.5</td><td> 95</td><td> 39650</td></tr>\n",
       "\t<tr><th scope=row>Louisiana</th><td> 3806</td><td>3545</td><td>2.8</td><td>68.76</td><td>13.2</td><td>42.2</td><td> 12</td><td> 44930</td></tr>\n",
       "\t<tr><th scope=row>Maine</th><td> 1058</td><td>3694</td><td>0.7</td><td>70.39</td><td> 2.7</td><td>54.7</td><td>161</td><td> 30920</td></tr>\n",
       "\t<tr><th scope=row>Maryland</th><td> 4122</td><td>5299</td><td>0.9</td><td>70.22</td><td> 8.5</td><td>52.3</td><td>101</td><td>  9891</td></tr>\n",
       "\t<tr><th scope=row>Massachusetts</th><td> 5814</td><td>4755</td><td>1.1</td><td>71.83</td><td> 3.3</td><td>58.5</td><td>103</td><td>  7826</td></tr>\n",
       "\t<tr><th scope=row>Michigan</th><td> 9111</td><td>4751</td><td>0.9</td><td>70.63</td><td>11.1</td><td>52.8</td><td>125</td><td> 56817</td></tr>\n",
       "\t<tr><th scope=row>Minnesota</th><td> 3921</td><td>4675</td><td>0.6</td><td>72.96</td><td> 2.3</td><td>57.6</td><td>160</td><td> 79289</td></tr>\n",
       "\t<tr><th scope=row>Mississippi</th><td> 2341</td><td>3098</td><td>2.4</td><td>68.09</td><td>12.5</td><td>41.0</td><td> 50</td><td> 47296</td></tr>\n",
       "\t<tr><th scope=row>Missouri</th><td> 4767</td><td>4254</td><td>0.8</td><td>70.69</td><td> 9.3</td><td>48.8</td><td>108</td><td> 68995</td></tr>\n",
       "\t<tr><th scope=row>Montana</th><td>  746</td><td>4347</td><td>0.6</td><td>70.56</td><td> 5.0</td><td>59.2</td><td>155</td><td>145587</td></tr>\n",
       "\t<tr><th scope=row>Nebraska</th><td> 1544</td><td>4508</td><td>0.6</td><td>72.60</td><td> 2.9</td><td>59.3</td><td>139</td><td> 76483</td></tr>\n",
       "\t<tr><th scope=row>Nevada</th><td>  590</td><td>5149</td><td>0.5</td><td>69.03</td><td>11.5</td><td>65.2</td><td>188</td><td>109889</td></tr>\n",
       "\t<tr><th scope=row>New Hampshire</th><td>  812</td><td>4281</td><td>0.7</td><td>71.23</td><td> 3.3</td><td>57.6</td><td>174</td><td>  9027</td></tr>\n",
       "\t<tr><th scope=row>New Jersey</th><td> 7333</td><td>5237</td><td>1.1</td><td>70.93</td><td> 5.2</td><td>52.5</td><td>115</td><td>  7521</td></tr>\n",
       "\t<tr><th scope=row>New Mexico</th><td> 1144</td><td>3601</td><td>2.2</td><td>70.32</td><td> 9.7</td><td>55.2</td><td>120</td><td>121412</td></tr>\n",
       "\t<tr><th scope=row>New York</th><td>18076</td><td>4903</td><td>1.4</td><td>70.55</td><td>10.9</td><td>52.7</td><td> 82</td><td> 47831</td></tr>\n",
       "\t<tr><th scope=row>North Carolina</th><td> 5441</td><td>3875</td><td>1.8</td><td>69.21</td><td>11.1</td><td>38.5</td><td> 80</td><td> 48798</td></tr>\n",
       "\t<tr><th scope=row>North Dakota</th><td>  637</td><td>5087</td><td>0.8</td><td>72.78</td><td> 1.4</td><td>50.3</td><td>186</td><td> 69273</td></tr>\n",
       "\t<tr><th scope=row>Ohio</th><td>10735</td><td>4561</td><td>0.8</td><td>70.82</td><td> 7.4</td><td>53.2</td><td>124</td><td> 40975</td></tr>\n",
       "\t<tr><th scope=row>Oklahoma</th><td> 2715</td><td>3983</td><td>1.1</td><td>71.42</td><td> 6.4</td><td>51.6</td><td> 82</td><td> 68782</td></tr>\n",
       "\t<tr><th scope=row>Oregon</th><td> 2284</td><td>4660</td><td>0.6</td><td>72.13</td><td> 4.2</td><td>60.0</td><td> 44</td><td> 96184</td></tr>\n",
       "\t<tr><th scope=row>Pennsylvania</th><td>11860</td><td>4449</td><td>1.0</td><td>70.43</td><td> 6.1</td><td>50.2</td><td>126</td><td> 44966</td></tr>\n",
       "\t<tr><th scope=row>Rhode Island</th><td>  931</td><td>4558</td><td>1.3</td><td>71.90</td><td> 2.4</td><td>46.4</td><td>127</td><td>  1049</td></tr>\n",
       "\t<tr><th scope=row>South Carolina</th><td> 2816</td><td>3635</td><td>2.3</td><td>67.96</td><td>11.6</td><td>37.8</td><td> 65</td><td> 30225</td></tr>\n",
       "\t<tr><th scope=row>South Dakota</th><td>  681</td><td>4167</td><td>0.5</td><td>72.08</td><td> 1.7</td><td>53.3</td><td>172</td><td> 75955</td></tr>\n",
       "\t<tr><th scope=row>Tennessee</th><td> 4173</td><td>3821</td><td>1.7</td><td>70.11</td><td>11.0</td><td>41.8</td><td> 70</td><td> 41328</td></tr>\n",
       "\t<tr><th scope=row>Texas</th><td>12237</td><td>4188</td><td>2.2</td><td>70.90</td><td>12.2</td><td>47.4</td><td> 35</td><td>262134</td></tr>\n",
       "\t<tr><th scope=row>Utah</th><td> 1203</td><td>4022</td><td>0.6</td><td>72.90</td><td> 4.5</td><td>67.3</td><td>137</td><td> 82096</td></tr>\n",
       "\t<tr><th scope=row>Vermont</th><td>  472</td><td>3907</td><td>0.6</td><td>71.64</td><td> 5.5</td><td>57.1</td><td>168</td><td>  9267</td></tr>\n",
       "\t<tr><th scope=row>Virginia</th><td> 4981</td><td>4701</td><td>1.4</td><td>70.08</td><td> 9.5</td><td>47.8</td><td> 85</td><td> 39780</td></tr>\n",
       "\t<tr><th scope=row>Washington</th><td> 3559</td><td>4864</td><td>0.6</td><td>71.72</td><td> 4.3</td><td>63.5</td><td> 32</td><td> 66570</td></tr>\n",
       "\t<tr><th scope=row>West Virginia</th><td> 1799</td><td>3617</td><td>1.4</td><td>69.48</td><td> 6.7</td><td>41.6</td><td>100</td><td> 24070</td></tr>\n",
       "\t<tr><th scope=row>Wisconsin</th><td> 4589</td><td>4468</td><td>0.7</td><td>72.48</td><td> 3.0</td><td>54.5</td><td>149</td><td> 54464</td></tr>\n",
       "\t<tr><th scope=row>Wyoming</th><td>  376</td><td>4566</td><td>0.6</td><td>70.29</td><td> 6.9</td><td>62.9</td><td>173</td><td> 97203</td></tr>\n",
       "</tbody>\n",
       "</table>\n"
      ],
      "text/latex": [
       "A matrix: 50 × 8 of type dbl\n",
       "\\begin{tabular}{r|llllllll}\n",
       "  & Population & Income & Illiteracy & Life Exp & Murder & HS Grad & Frost & Area\\\\\n",
       "\\hline\n",
       "\tAlabama &  3615 & 3624 & 2.1 & 69.05 & 15.1 & 41.3 &  20 &  50708\\\\\n",
       "\tAlaska &   365 & 6315 & 1.5 & 69.31 & 11.3 & 66.7 & 152 & 566432\\\\\n",
       "\tArizona &  2212 & 4530 & 1.8 & 70.55 &  7.8 & 58.1 &  15 & 113417\\\\\n",
       "\tArkansas &  2110 & 3378 & 1.9 & 70.66 & 10.1 & 39.9 &  65 &  51945\\\\\n",
       "\tCalifornia & 21198 & 5114 & 1.1 & 71.71 & 10.3 & 62.6 &  20 & 156361\\\\\n",
       "\tColorado &  2541 & 4884 & 0.7 & 72.06 &  6.8 & 63.9 & 166 & 103766\\\\\n",
       "\tConnecticut &  3100 & 5348 & 1.1 & 72.48 &  3.1 & 56.0 & 139 &   4862\\\\\n",
       "\tDelaware &   579 & 4809 & 0.9 & 70.06 &  6.2 & 54.6 & 103 &   1982\\\\\n",
       "\tFlorida &  8277 & 4815 & 1.3 & 70.66 & 10.7 & 52.6 &  11 &  54090\\\\\n",
       "\tGeorgia &  4931 & 4091 & 2.0 & 68.54 & 13.9 & 40.6 &  60 &  58073\\\\\n",
       "\tHawaii &   868 & 4963 & 1.9 & 73.60 &  6.2 & 61.9 &   0 &   6425\\\\\n",
       "\tIdaho &   813 & 4119 & 0.6 & 71.87 &  5.3 & 59.5 & 126 &  82677\\\\\n",
       "\tIllinois & 11197 & 5107 & 0.9 & 70.14 & 10.3 & 52.6 & 127 &  55748\\\\\n",
       "\tIndiana &  5313 & 4458 & 0.7 & 70.88 &  7.1 & 52.9 & 122 &  36097\\\\\n",
       "\tIowa &  2861 & 4628 & 0.5 & 72.56 &  2.3 & 59.0 & 140 &  55941\\\\\n",
       "\tKansas &  2280 & 4669 & 0.6 & 72.58 &  4.5 & 59.9 & 114 &  81787\\\\\n",
       "\tKentucky &  3387 & 3712 & 1.6 & 70.10 & 10.6 & 38.5 &  95 &  39650\\\\\n",
       "\tLouisiana &  3806 & 3545 & 2.8 & 68.76 & 13.2 & 42.2 &  12 &  44930\\\\\n",
       "\tMaine &  1058 & 3694 & 0.7 & 70.39 &  2.7 & 54.7 & 161 &  30920\\\\\n",
       "\tMaryland &  4122 & 5299 & 0.9 & 70.22 &  8.5 & 52.3 & 101 &   9891\\\\\n",
       "\tMassachusetts &  5814 & 4755 & 1.1 & 71.83 &  3.3 & 58.5 & 103 &   7826\\\\\n",
       "\tMichigan &  9111 & 4751 & 0.9 & 70.63 & 11.1 & 52.8 & 125 &  56817\\\\\n",
       "\tMinnesota &  3921 & 4675 & 0.6 & 72.96 &  2.3 & 57.6 & 160 &  79289\\\\\n",
       "\tMississippi &  2341 & 3098 & 2.4 & 68.09 & 12.5 & 41.0 &  50 &  47296\\\\\n",
       "\tMissouri &  4767 & 4254 & 0.8 & 70.69 &  9.3 & 48.8 & 108 &  68995\\\\\n",
       "\tMontana &   746 & 4347 & 0.6 & 70.56 &  5.0 & 59.2 & 155 & 145587\\\\\n",
       "\tNebraska &  1544 & 4508 & 0.6 & 72.60 &  2.9 & 59.3 & 139 &  76483\\\\\n",
       "\tNevada &   590 & 5149 & 0.5 & 69.03 & 11.5 & 65.2 & 188 & 109889\\\\\n",
       "\tNew Hampshire &   812 & 4281 & 0.7 & 71.23 &  3.3 & 57.6 & 174 &   9027\\\\\n",
       "\tNew Jersey &  7333 & 5237 & 1.1 & 70.93 &  5.2 & 52.5 & 115 &   7521\\\\\n",
       "\tNew Mexico &  1144 & 3601 & 2.2 & 70.32 &  9.7 & 55.2 & 120 & 121412\\\\\n",
       "\tNew York & 18076 & 4903 & 1.4 & 70.55 & 10.9 & 52.7 &  82 &  47831\\\\\n",
       "\tNorth Carolina &  5441 & 3875 & 1.8 & 69.21 & 11.1 & 38.5 &  80 &  48798\\\\\n",
       "\tNorth Dakota &   637 & 5087 & 0.8 & 72.78 &  1.4 & 50.3 & 186 &  69273\\\\\n",
       "\tOhio & 10735 & 4561 & 0.8 & 70.82 &  7.4 & 53.2 & 124 &  40975\\\\\n",
       "\tOklahoma &  2715 & 3983 & 1.1 & 71.42 &  6.4 & 51.6 &  82 &  68782\\\\\n",
       "\tOregon &  2284 & 4660 & 0.6 & 72.13 &  4.2 & 60.0 &  44 &  96184\\\\\n",
       "\tPennsylvania & 11860 & 4449 & 1.0 & 70.43 &  6.1 & 50.2 & 126 &  44966\\\\\n",
       "\tRhode Island &   931 & 4558 & 1.3 & 71.90 &  2.4 & 46.4 & 127 &   1049\\\\\n",
       "\tSouth Carolina &  2816 & 3635 & 2.3 & 67.96 & 11.6 & 37.8 &  65 &  30225\\\\\n",
       "\tSouth Dakota &   681 & 4167 & 0.5 & 72.08 &  1.7 & 53.3 & 172 &  75955\\\\\n",
       "\tTennessee &  4173 & 3821 & 1.7 & 70.11 & 11.0 & 41.8 &  70 &  41328\\\\\n",
       "\tTexas & 12237 & 4188 & 2.2 & 70.90 & 12.2 & 47.4 &  35 & 262134\\\\\n",
       "\tUtah &  1203 & 4022 & 0.6 & 72.90 &  4.5 & 67.3 & 137 &  82096\\\\\n",
       "\tVermont &   472 & 3907 & 0.6 & 71.64 &  5.5 & 57.1 & 168 &   9267\\\\\n",
       "\tVirginia &  4981 & 4701 & 1.4 & 70.08 &  9.5 & 47.8 &  85 &  39780\\\\\n",
       "\tWashington &  3559 & 4864 & 0.6 & 71.72 &  4.3 & 63.5 &  32 &  66570\\\\\n",
       "\tWest Virginia &  1799 & 3617 & 1.4 & 69.48 &  6.7 & 41.6 & 100 &  24070\\\\\n",
       "\tWisconsin &  4589 & 4468 & 0.7 & 72.48 &  3.0 & 54.5 & 149 &  54464\\\\\n",
       "\tWyoming &   376 & 4566 & 0.6 & 70.29 &  6.9 & 62.9 & 173 &  97203\\\\\n",
       "\\end{tabular}\n"
      ],
      "text/markdown": [
       "\n",
       "A matrix: 50 × 8 of type dbl\n",
       "\n",
       "| <!--/--> | Population | Income | Illiteracy | Life Exp | Murder | HS Grad | Frost | Area |\n",
       "|---|---|---|---|---|---|---|---|---|\n",
       "| Alabama |  3615 | 3624 | 2.1 | 69.05 | 15.1 | 41.3 |  20 |  50708 |\n",
       "| Alaska |   365 | 6315 | 1.5 | 69.31 | 11.3 | 66.7 | 152 | 566432 |\n",
       "| Arizona |  2212 | 4530 | 1.8 | 70.55 |  7.8 | 58.1 |  15 | 113417 |\n",
       "| Arkansas |  2110 | 3378 | 1.9 | 70.66 | 10.1 | 39.9 |  65 |  51945 |\n",
       "| California | 21198 | 5114 | 1.1 | 71.71 | 10.3 | 62.6 |  20 | 156361 |\n",
       "| Colorado |  2541 | 4884 | 0.7 | 72.06 |  6.8 | 63.9 | 166 | 103766 |\n",
       "| Connecticut |  3100 | 5348 | 1.1 | 72.48 |  3.1 | 56.0 | 139 |   4862 |\n",
       "| Delaware |   579 | 4809 | 0.9 | 70.06 |  6.2 | 54.6 | 103 |   1982 |\n",
       "| Florida |  8277 | 4815 | 1.3 | 70.66 | 10.7 | 52.6 |  11 |  54090 |\n",
       "| Georgia |  4931 | 4091 | 2.0 | 68.54 | 13.9 | 40.6 |  60 |  58073 |\n",
       "| Hawaii |   868 | 4963 | 1.9 | 73.60 |  6.2 | 61.9 |   0 |   6425 |\n",
       "| Idaho |   813 | 4119 | 0.6 | 71.87 |  5.3 | 59.5 | 126 |  82677 |\n",
       "| Illinois | 11197 | 5107 | 0.9 | 70.14 | 10.3 | 52.6 | 127 |  55748 |\n",
       "| Indiana |  5313 | 4458 | 0.7 | 70.88 |  7.1 | 52.9 | 122 |  36097 |\n",
       "| Iowa |  2861 | 4628 | 0.5 | 72.56 |  2.3 | 59.0 | 140 |  55941 |\n",
       "| Kansas |  2280 | 4669 | 0.6 | 72.58 |  4.5 | 59.9 | 114 |  81787 |\n",
       "| Kentucky |  3387 | 3712 | 1.6 | 70.10 | 10.6 | 38.5 |  95 |  39650 |\n",
       "| Louisiana |  3806 | 3545 | 2.8 | 68.76 | 13.2 | 42.2 |  12 |  44930 |\n",
       "| Maine |  1058 | 3694 | 0.7 | 70.39 |  2.7 | 54.7 | 161 |  30920 |\n",
       "| Maryland |  4122 | 5299 | 0.9 | 70.22 |  8.5 | 52.3 | 101 |   9891 |\n",
       "| Massachusetts |  5814 | 4755 | 1.1 | 71.83 |  3.3 | 58.5 | 103 |   7826 |\n",
       "| Michigan |  9111 | 4751 | 0.9 | 70.63 | 11.1 | 52.8 | 125 |  56817 |\n",
       "| Minnesota |  3921 | 4675 | 0.6 | 72.96 |  2.3 | 57.6 | 160 |  79289 |\n",
       "| Mississippi |  2341 | 3098 | 2.4 | 68.09 | 12.5 | 41.0 |  50 |  47296 |\n",
       "| Missouri |  4767 | 4254 | 0.8 | 70.69 |  9.3 | 48.8 | 108 |  68995 |\n",
       "| Montana |   746 | 4347 | 0.6 | 70.56 |  5.0 | 59.2 | 155 | 145587 |\n",
       "| Nebraska |  1544 | 4508 | 0.6 | 72.60 |  2.9 | 59.3 | 139 |  76483 |\n",
       "| Nevada |   590 | 5149 | 0.5 | 69.03 | 11.5 | 65.2 | 188 | 109889 |\n",
       "| New Hampshire |   812 | 4281 | 0.7 | 71.23 |  3.3 | 57.6 | 174 |   9027 |\n",
       "| New Jersey |  7333 | 5237 | 1.1 | 70.93 |  5.2 | 52.5 | 115 |   7521 |\n",
       "| New Mexico |  1144 | 3601 | 2.2 | 70.32 |  9.7 | 55.2 | 120 | 121412 |\n",
       "| New York | 18076 | 4903 | 1.4 | 70.55 | 10.9 | 52.7 |  82 |  47831 |\n",
       "| North Carolina |  5441 | 3875 | 1.8 | 69.21 | 11.1 | 38.5 |  80 |  48798 |\n",
       "| North Dakota |   637 | 5087 | 0.8 | 72.78 |  1.4 | 50.3 | 186 |  69273 |\n",
       "| Ohio | 10735 | 4561 | 0.8 | 70.82 |  7.4 | 53.2 | 124 |  40975 |\n",
       "| Oklahoma |  2715 | 3983 | 1.1 | 71.42 |  6.4 | 51.6 |  82 |  68782 |\n",
       "| Oregon |  2284 | 4660 | 0.6 | 72.13 |  4.2 | 60.0 |  44 |  96184 |\n",
       "| Pennsylvania | 11860 | 4449 | 1.0 | 70.43 |  6.1 | 50.2 | 126 |  44966 |\n",
       "| Rhode Island |   931 | 4558 | 1.3 | 71.90 |  2.4 | 46.4 | 127 |   1049 |\n",
       "| South Carolina |  2816 | 3635 | 2.3 | 67.96 | 11.6 | 37.8 |  65 |  30225 |\n",
       "| South Dakota |   681 | 4167 | 0.5 | 72.08 |  1.7 | 53.3 | 172 |  75955 |\n",
       "| Tennessee |  4173 | 3821 | 1.7 | 70.11 | 11.0 | 41.8 |  70 |  41328 |\n",
       "| Texas | 12237 | 4188 | 2.2 | 70.90 | 12.2 | 47.4 |  35 | 262134 |\n",
       "| Utah |  1203 | 4022 | 0.6 | 72.90 |  4.5 | 67.3 | 137 |  82096 |\n",
       "| Vermont |   472 | 3907 | 0.6 | 71.64 |  5.5 | 57.1 | 168 |   9267 |\n",
       "| Virginia |  4981 | 4701 | 1.4 | 70.08 |  9.5 | 47.8 |  85 |  39780 |\n",
       "| Washington |  3559 | 4864 | 0.6 | 71.72 |  4.3 | 63.5 |  32 |  66570 |\n",
       "| West Virginia |  1799 | 3617 | 1.4 | 69.48 |  6.7 | 41.6 | 100 |  24070 |\n",
       "| Wisconsin |  4589 | 4468 | 0.7 | 72.48 |  3.0 | 54.5 | 149 |  54464 |\n",
       "| Wyoming |   376 | 4566 | 0.6 | 70.29 |  6.9 | 62.9 | 173 |  97203 |\n",
       "\n"
      ],
      "text/plain": [
       "               Population Income Illiteracy Life Exp Murder HS Grad Frost\n",
       "Alabama         3615      3624   2.1        69.05    15.1   41.3     20  \n",
       "Alaska           365      6315   1.5        69.31    11.3   66.7    152  \n",
       "Arizona         2212      4530   1.8        70.55     7.8   58.1     15  \n",
       "Arkansas        2110      3378   1.9        70.66    10.1   39.9     65  \n",
       "California     21198      5114   1.1        71.71    10.3   62.6     20  \n",
       "Colorado        2541      4884   0.7        72.06     6.8   63.9    166  \n",
       "Connecticut     3100      5348   1.1        72.48     3.1   56.0    139  \n",
       "Delaware         579      4809   0.9        70.06     6.2   54.6    103  \n",
       "Florida         8277      4815   1.3        70.66    10.7   52.6     11  \n",
       "Georgia         4931      4091   2.0        68.54    13.9   40.6     60  \n",
       "Hawaii           868      4963   1.9        73.60     6.2   61.9      0  \n",
       "Idaho            813      4119   0.6        71.87     5.3   59.5    126  \n",
       "Illinois       11197      5107   0.9        70.14    10.3   52.6    127  \n",
       "Indiana         5313      4458   0.7        70.88     7.1   52.9    122  \n",
       "Iowa            2861      4628   0.5        72.56     2.3   59.0    140  \n",
       "Kansas          2280      4669   0.6        72.58     4.5   59.9    114  \n",
       "Kentucky        3387      3712   1.6        70.10    10.6   38.5     95  \n",
       "Louisiana       3806      3545   2.8        68.76    13.2   42.2     12  \n",
       "Maine           1058      3694   0.7        70.39     2.7   54.7    161  \n",
       "Maryland        4122      5299   0.9        70.22     8.5   52.3    101  \n",
       "Massachusetts   5814      4755   1.1        71.83     3.3   58.5    103  \n",
       "Michigan        9111      4751   0.9        70.63    11.1   52.8    125  \n",
       "Minnesota       3921      4675   0.6        72.96     2.3   57.6    160  \n",
       "Mississippi     2341      3098   2.4        68.09    12.5   41.0     50  \n",
       "Missouri        4767      4254   0.8        70.69     9.3   48.8    108  \n",
       "Montana          746      4347   0.6        70.56     5.0   59.2    155  \n",
       "Nebraska        1544      4508   0.6        72.60     2.9   59.3    139  \n",
       "Nevada           590      5149   0.5        69.03    11.5   65.2    188  \n",
       "New Hampshire    812      4281   0.7        71.23     3.3   57.6    174  \n",
       "New Jersey      7333      5237   1.1        70.93     5.2   52.5    115  \n",
       "New Mexico      1144      3601   2.2        70.32     9.7   55.2    120  \n",
       "New York       18076      4903   1.4        70.55    10.9   52.7     82  \n",
       "North Carolina  5441      3875   1.8        69.21    11.1   38.5     80  \n",
       "North Dakota     637      5087   0.8        72.78     1.4   50.3    186  \n",
       "Ohio           10735      4561   0.8        70.82     7.4   53.2    124  \n",
       "Oklahoma        2715      3983   1.1        71.42     6.4   51.6     82  \n",
       "Oregon          2284      4660   0.6        72.13     4.2   60.0     44  \n",
       "Pennsylvania   11860      4449   1.0        70.43     6.1   50.2    126  \n",
       "Rhode Island     931      4558   1.3        71.90     2.4   46.4    127  \n",
       "South Carolina  2816      3635   2.3        67.96    11.6   37.8     65  \n",
       "South Dakota     681      4167   0.5        72.08     1.7   53.3    172  \n",
       "Tennessee       4173      3821   1.7        70.11    11.0   41.8     70  \n",
       "Texas          12237      4188   2.2        70.90    12.2   47.4     35  \n",
       "Utah            1203      4022   0.6        72.90     4.5   67.3    137  \n",
       "Vermont          472      3907   0.6        71.64     5.5   57.1    168  \n",
       "Virginia        4981      4701   1.4        70.08     9.5   47.8     85  \n",
       "Washington      3559      4864   0.6        71.72     4.3   63.5     32  \n",
       "West Virginia   1799      3617   1.4        69.48     6.7   41.6    100  \n",
       "Wisconsin       4589      4468   0.7        72.48     3.0   54.5    149  \n",
       "Wyoming          376      4566   0.6        70.29     6.9   62.9    173  \n",
       "               Area  \n",
       "Alabama         50708\n",
       "Alaska         566432\n",
       "Arizona        113417\n",
       "Arkansas        51945\n",
       "California     156361\n",
       "Colorado       103766\n",
       "Connecticut      4862\n",
       "Delaware         1982\n",
       "Florida         54090\n",
       "Georgia         58073\n",
       "Hawaii           6425\n",
       "Idaho           82677\n",
       "Illinois        55748\n",
       "Indiana         36097\n",
       "Iowa            55941\n",
       "Kansas          81787\n",
       "Kentucky        39650\n",
       "Louisiana       44930\n",
       "Maine           30920\n",
       "Maryland         9891\n",
       "Massachusetts    7826\n",
       "Michigan        56817\n",
       "Minnesota       79289\n",
       "Mississippi     47296\n",
       "Missouri        68995\n",
       "Montana        145587\n",
       "Nebraska        76483\n",
       "Nevada         109889\n",
       "New Hampshire    9027\n",
       "New Jersey       7521\n",
       "New Mexico     121412\n",
       "New York        47831\n",
       "North Carolina  48798\n",
       "North Dakota    69273\n",
       "Ohio            40975\n",
       "Oklahoma        68782\n",
       "Oregon          96184\n",
       "Pennsylvania    44966\n",
       "Rhode Island     1049\n",
       "South Carolina  30225\n",
       "South Dakota    75955\n",
       "Tennessee       41328\n",
       "Texas          262134\n",
       "Utah            82096\n",
       "Vermont          9267\n",
       "Virginia        39780\n",
       "Washington      66570\n",
       "West Virginia   24070\n",
       "Wisconsin       54464\n",
       "Wyoming         97203"
      ]
     },
     "metadata": {},
     "output_type": "display_data"
    }
   ],
   "source": [
    "# Dataframe about states\n",
    "state.x77"
   ]
  },
  {
   "cell_type": "code",
   "execution_count": 32,
   "id": "c6cfb048",
   "metadata": {},
   "outputs": [
    {
     "data": {
      "text/html": [
       "<table class=\"dataframe\">\n",
       "<caption>A matrix: 5 × 5 of type dbl</caption>\n",
       "<thead>\n",
       "\t<tr><th></th><th scope=col>1940</th><th scope=col>1945</th><th scope=col>1950</th><th scope=col>1955</th><th scope=col>1960</th></tr>\n",
       "</thead>\n",
       "<tbody>\n",
       "\t<tr><th scope=row>Food and Tobacco</th><td>22.200</td><td>44.500</td><td>59.60</td><td>73.2</td><td>86.80</td></tr>\n",
       "\t<tr><th scope=row>Household Operation</th><td>10.500</td><td>15.500</td><td>29.00</td><td>36.5</td><td>46.20</td></tr>\n",
       "\t<tr><th scope=row>Medical and Health</th><td> 3.530</td><td> 5.760</td><td> 9.71</td><td>14.0</td><td>21.10</td></tr>\n",
       "\t<tr><th scope=row>Personal Care</th><td> 1.040</td><td> 1.980</td><td> 2.45</td><td> 3.4</td><td> 5.40</td></tr>\n",
       "\t<tr><th scope=row>Private Education</th><td> 0.341</td><td> 0.974</td><td> 1.80</td><td> 2.6</td><td> 3.64</td></tr>\n",
       "</tbody>\n",
       "</table>\n"
      ],
      "text/latex": [
       "A matrix: 5 × 5 of type dbl\n",
       "\\begin{tabular}{r|lllll}\n",
       "  & 1940 & 1945 & 1950 & 1955 & 1960\\\\\n",
       "\\hline\n",
       "\tFood and Tobacco & 22.200 & 44.500 & 59.60 & 73.2 & 86.80\\\\\n",
       "\tHousehold Operation & 10.500 & 15.500 & 29.00 & 36.5 & 46.20\\\\\n",
       "\tMedical and Health &  3.530 &  5.760 &  9.71 & 14.0 & 21.10\\\\\n",
       "\tPersonal Care &  1.040 &  1.980 &  2.45 &  3.4 &  5.40\\\\\n",
       "\tPrivate Education &  0.341 &  0.974 &  1.80 &  2.6 &  3.64\\\\\n",
       "\\end{tabular}\n"
      ],
      "text/markdown": [
       "\n",
       "A matrix: 5 × 5 of type dbl\n",
       "\n",
       "| <!--/--> | 1940 | 1945 | 1950 | 1955 | 1960 |\n",
       "|---|---|---|---|---|---|\n",
       "| Food and Tobacco | 22.200 | 44.500 | 59.60 | 73.2 | 86.80 |\n",
       "| Household Operation | 10.500 | 15.500 | 29.00 | 36.5 | 46.20 |\n",
       "| Medical and Health |  3.530 |  5.760 |  9.71 | 14.0 | 21.10 |\n",
       "| Personal Care |  1.040 |  1.980 |  2.45 |  3.4 |  5.40 |\n",
       "| Private Education |  0.341 |  0.974 |  1.80 |  2.6 |  3.64 |\n",
       "\n"
      ],
      "text/plain": [
       "                    1940   1945   1950  1955 1960 \n",
       "Food and Tobacco    22.200 44.500 59.60 73.2 86.80\n",
       "Household Operation 10.500 15.500 29.00 36.5 46.20\n",
       "Medical and Health   3.530  5.760  9.71 14.0 21.10\n",
       "Personal Care        1.040  1.980  2.45  3.4  5.40\n",
       "Private Education    0.341  0.974  1.80  2.6  3.64"
      ]
     },
     "metadata": {},
     "output_type": "display_data"
    }
   ],
   "source": [
    "# US personal expense\n",
    "USPersonalExpenditure"
   ]
  },
  {
   "cell_type": "code",
   "execution_count": 33,
   "id": "dea2a1aa",
   "metadata": {},
   "outputs": [
    {
     "data": {
      "text/html": [
       "<table class=\"dataframe\">\n",
       "<caption>A data.frame: 15 × 2</caption>\n",
       "<thead>\n",
       "\t<tr><th scope=col>height</th><th scope=col>weight</th></tr>\n",
       "\t<tr><th scope=col>&lt;dbl&gt;</th><th scope=col>&lt;dbl&gt;</th></tr>\n",
       "</thead>\n",
       "<tbody>\n",
       "\t<tr><td>58</td><td>115</td></tr>\n",
       "\t<tr><td>59</td><td>117</td></tr>\n",
       "\t<tr><td>60</td><td>120</td></tr>\n",
       "\t<tr><td>61</td><td>123</td></tr>\n",
       "\t<tr><td>62</td><td>126</td></tr>\n",
       "\t<tr><td>63</td><td>129</td></tr>\n",
       "\t<tr><td>64</td><td>132</td></tr>\n",
       "\t<tr><td>65</td><td>135</td></tr>\n",
       "\t<tr><td>66</td><td>139</td></tr>\n",
       "\t<tr><td>67</td><td>142</td></tr>\n",
       "\t<tr><td>68</td><td>146</td></tr>\n",
       "\t<tr><td>69</td><td>150</td></tr>\n",
       "\t<tr><td>70</td><td>154</td></tr>\n",
       "\t<tr><td>71</td><td>159</td></tr>\n",
       "\t<tr><td>72</td><td>164</td></tr>\n",
       "</tbody>\n",
       "</table>\n"
      ],
      "text/latex": [
       "A data.frame: 15 × 2\n",
       "\\begin{tabular}{ll}\n",
       " height & weight\\\\\n",
       " <dbl> & <dbl>\\\\\n",
       "\\hline\n",
       "\t 58 & 115\\\\\n",
       "\t 59 & 117\\\\\n",
       "\t 60 & 120\\\\\n",
       "\t 61 & 123\\\\\n",
       "\t 62 & 126\\\\\n",
       "\t 63 & 129\\\\\n",
       "\t 64 & 132\\\\\n",
       "\t 65 & 135\\\\\n",
       "\t 66 & 139\\\\\n",
       "\t 67 & 142\\\\\n",
       "\t 68 & 146\\\\\n",
       "\t 69 & 150\\\\\n",
       "\t 70 & 154\\\\\n",
       "\t 71 & 159\\\\\n",
       "\t 72 & 164\\\\\n",
       "\\end{tabular}\n"
      ],
      "text/markdown": [
       "\n",
       "A data.frame: 15 × 2\n",
       "\n",
       "| height &lt;dbl&gt; | weight &lt;dbl&gt; |\n",
       "|---|---|\n",
       "| 58 | 115 |\n",
       "| 59 | 117 |\n",
       "| 60 | 120 |\n",
       "| 61 | 123 |\n",
       "| 62 | 126 |\n",
       "| 63 | 129 |\n",
       "| 64 | 132 |\n",
       "| 65 | 135 |\n",
       "| 66 | 139 |\n",
       "| 67 | 142 |\n",
       "| 68 | 146 |\n",
       "| 69 | 150 |\n",
       "| 70 | 154 |\n",
       "| 71 | 159 |\n",
       "| 72 | 164 |\n",
       "\n"
      ],
      "text/plain": [
       "   height weight\n",
       "1  58     115   \n",
       "2  59     117   \n",
       "3  60     120   \n",
       "4  61     123   \n",
       "5  62     126   \n",
       "6  63     129   \n",
       "7  64     132   \n",
       "8  65     135   \n",
       "9  66     139   \n",
       "10 67     142   \n",
       "11 68     146   \n",
       "12 69     150   \n",
       "13 70     154   \n",
       "14 71     159   \n",
       "15 72     164   "
      ]
     },
     "metadata": {},
     "output_type": "display_data"
    }
   ],
   "source": [
    "# Women \n",
    "women"
   ]
  },
  {
   "cell_type": "code",
   "execution_count": 34,
   "id": "7ae8d97f",
   "metadata": {},
   "outputs": [],
   "source": [
    "# To get a list of all available built-in dataframes, use:\n",
    "data()"
   ]
  },
  {
   "cell_type": "markdown",
   "id": "93df7d48",
   "metadata": {},
   "source": [
    "## Working with DataFrames\n",
    "You'll notice the states dataframe was really big, we can use the head() and tail() functions to view the first and last 6 rows respectively. Let's take a look:"
   ]
  },
  {
   "cell_type": "code",
   "execution_count": 35,
   "id": "a8fac5b0",
   "metadata": {},
   "outputs": [],
   "source": [
    "# Quick variable assignment to save typing\n",
    "states <- state.x77"
   ]
  },
  {
   "cell_type": "code",
   "execution_count": 36,
   "id": "f608cc35",
   "metadata": {},
   "outputs": [
    {
     "data": {
      "text/html": [
       "<table class=\"dataframe\">\n",
       "<caption>A matrix: 6 × 8 of type dbl</caption>\n",
       "<thead>\n",
       "\t<tr><th></th><th scope=col>Population</th><th scope=col>Income</th><th scope=col>Illiteracy</th><th scope=col>Life Exp</th><th scope=col>Murder</th><th scope=col>HS Grad</th><th scope=col>Frost</th><th scope=col>Area</th></tr>\n",
       "</thead>\n",
       "<tbody>\n",
       "\t<tr><th scope=row>Alabama</th><td> 3615</td><td>3624</td><td>2.1</td><td>69.05</td><td>15.1</td><td>41.3</td><td> 20</td><td> 50708</td></tr>\n",
       "\t<tr><th scope=row>Alaska</th><td>  365</td><td>6315</td><td>1.5</td><td>69.31</td><td>11.3</td><td>66.7</td><td>152</td><td>566432</td></tr>\n",
       "\t<tr><th scope=row>Arizona</th><td> 2212</td><td>4530</td><td>1.8</td><td>70.55</td><td> 7.8</td><td>58.1</td><td> 15</td><td>113417</td></tr>\n",
       "\t<tr><th scope=row>Arkansas</th><td> 2110</td><td>3378</td><td>1.9</td><td>70.66</td><td>10.1</td><td>39.9</td><td> 65</td><td> 51945</td></tr>\n",
       "\t<tr><th scope=row>California</th><td>21198</td><td>5114</td><td>1.1</td><td>71.71</td><td>10.3</td><td>62.6</td><td> 20</td><td>156361</td></tr>\n",
       "\t<tr><th scope=row>Colorado</th><td> 2541</td><td>4884</td><td>0.7</td><td>72.06</td><td> 6.8</td><td>63.9</td><td>166</td><td>103766</td></tr>\n",
       "</tbody>\n",
       "</table>\n"
      ],
      "text/latex": [
       "A matrix: 6 × 8 of type dbl\n",
       "\\begin{tabular}{r|llllllll}\n",
       "  & Population & Income & Illiteracy & Life Exp & Murder & HS Grad & Frost & Area\\\\\n",
       "\\hline\n",
       "\tAlabama &  3615 & 3624 & 2.1 & 69.05 & 15.1 & 41.3 &  20 &  50708\\\\\n",
       "\tAlaska &   365 & 6315 & 1.5 & 69.31 & 11.3 & 66.7 & 152 & 566432\\\\\n",
       "\tArizona &  2212 & 4530 & 1.8 & 70.55 &  7.8 & 58.1 &  15 & 113417\\\\\n",
       "\tArkansas &  2110 & 3378 & 1.9 & 70.66 & 10.1 & 39.9 &  65 &  51945\\\\\n",
       "\tCalifornia & 21198 & 5114 & 1.1 & 71.71 & 10.3 & 62.6 &  20 & 156361\\\\\n",
       "\tColorado &  2541 & 4884 & 0.7 & 72.06 &  6.8 & 63.9 & 166 & 103766\\\\\n",
       "\\end{tabular}\n"
      ],
      "text/markdown": [
       "\n",
       "A matrix: 6 × 8 of type dbl\n",
       "\n",
       "| <!--/--> | Population | Income | Illiteracy | Life Exp | Murder | HS Grad | Frost | Area |\n",
       "|---|---|---|---|---|---|---|---|---|\n",
       "| Alabama |  3615 | 3624 | 2.1 | 69.05 | 15.1 | 41.3 |  20 |  50708 |\n",
       "| Alaska |   365 | 6315 | 1.5 | 69.31 | 11.3 | 66.7 | 152 | 566432 |\n",
       "| Arizona |  2212 | 4530 | 1.8 | 70.55 |  7.8 | 58.1 |  15 | 113417 |\n",
       "| Arkansas |  2110 | 3378 | 1.9 | 70.66 | 10.1 | 39.9 |  65 |  51945 |\n",
       "| California | 21198 | 5114 | 1.1 | 71.71 | 10.3 | 62.6 |  20 | 156361 |\n",
       "| Colorado |  2541 | 4884 | 0.7 | 72.06 |  6.8 | 63.9 | 166 | 103766 |\n",
       "\n"
      ],
      "text/plain": [
       "           Population Income Illiteracy Life Exp Murder HS Grad Frost Area  \n",
       "Alabama     3615      3624   2.1        69.05    15.1   41.3     20    50708\n",
       "Alaska       365      6315   1.5        69.31    11.3   66.7    152   566432\n",
       "Arizona     2212      4530   1.8        70.55     7.8   58.1     15   113417\n",
       "Arkansas    2110      3378   1.9        70.66    10.1   39.9     65    51945\n",
       "California 21198      5114   1.1        71.71    10.3   62.6     20   156361\n",
       "Colorado    2541      4884   0.7        72.06     6.8   63.9    166   103766"
      ]
     },
     "metadata": {},
     "output_type": "display_data"
    }
   ],
   "source": [
    "head(states)"
   ]
  },
  {
   "cell_type": "code",
   "execution_count": 37,
   "id": "8297547e",
   "metadata": {},
   "outputs": [
    {
     "data": {
      "text/html": [
       "<table class=\"dataframe\">\n",
       "<caption>A matrix: 6 × 8 of type dbl</caption>\n",
       "<thead>\n",
       "\t<tr><th></th><th scope=col>Population</th><th scope=col>Income</th><th scope=col>Illiteracy</th><th scope=col>Life Exp</th><th scope=col>Murder</th><th scope=col>HS Grad</th><th scope=col>Frost</th><th scope=col>Area</th></tr>\n",
       "</thead>\n",
       "<tbody>\n",
       "\t<tr><th scope=row>Vermont</th><td> 472</td><td>3907</td><td>0.6</td><td>71.64</td><td>5.5</td><td>57.1</td><td>168</td><td> 9267</td></tr>\n",
       "\t<tr><th scope=row>Virginia</th><td>4981</td><td>4701</td><td>1.4</td><td>70.08</td><td>9.5</td><td>47.8</td><td> 85</td><td>39780</td></tr>\n",
       "\t<tr><th scope=row>Washington</th><td>3559</td><td>4864</td><td>0.6</td><td>71.72</td><td>4.3</td><td>63.5</td><td> 32</td><td>66570</td></tr>\n",
       "\t<tr><th scope=row>West Virginia</th><td>1799</td><td>3617</td><td>1.4</td><td>69.48</td><td>6.7</td><td>41.6</td><td>100</td><td>24070</td></tr>\n",
       "\t<tr><th scope=row>Wisconsin</th><td>4589</td><td>4468</td><td>0.7</td><td>72.48</td><td>3.0</td><td>54.5</td><td>149</td><td>54464</td></tr>\n",
       "\t<tr><th scope=row>Wyoming</th><td> 376</td><td>4566</td><td>0.6</td><td>70.29</td><td>6.9</td><td>62.9</td><td>173</td><td>97203</td></tr>\n",
       "</tbody>\n",
       "</table>\n"
      ],
      "text/latex": [
       "A matrix: 6 × 8 of type dbl\n",
       "\\begin{tabular}{r|llllllll}\n",
       "  & Population & Income & Illiteracy & Life Exp & Murder & HS Grad & Frost & Area\\\\\n",
       "\\hline\n",
       "\tVermont &  472 & 3907 & 0.6 & 71.64 & 5.5 & 57.1 & 168 &  9267\\\\\n",
       "\tVirginia & 4981 & 4701 & 1.4 & 70.08 & 9.5 & 47.8 &  85 & 39780\\\\\n",
       "\tWashington & 3559 & 4864 & 0.6 & 71.72 & 4.3 & 63.5 &  32 & 66570\\\\\n",
       "\tWest Virginia & 1799 & 3617 & 1.4 & 69.48 & 6.7 & 41.6 & 100 & 24070\\\\\n",
       "\tWisconsin & 4589 & 4468 & 0.7 & 72.48 & 3.0 & 54.5 & 149 & 54464\\\\\n",
       "\tWyoming &  376 & 4566 & 0.6 & 70.29 & 6.9 & 62.9 & 173 & 97203\\\\\n",
       "\\end{tabular}\n"
      ],
      "text/markdown": [
       "\n",
       "A matrix: 6 × 8 of type dbl\n",
       "\n",
       "| <!--/--> | Population | Income | Illiteracy | Life Exp | Murder | HS Grad | Frost | Area |\n",
       "|---|---|---|---|---|---|---|---|---|\n",
       "| Vermont |  472 | 3907 | 0.6 | 71.64 | 5.5 | 57.1 | 168 |  9267 |\n",
       "| Virginia | 4981 | 4701 | 1.4 | 70.08 | 9.5 | 47.8 |  85 | 39780 |\n",
       "| Washington | 3559 | 4864 | 0.6 | 71.72 | 4.3 | 63.5 |  32 | 66570 |\n",
       "| West Virginia | 1799 | 3617 | 1.4 | 69.48 | 6.7 | 41.6 | 100 | 24070 |\n",
       "| Wisconsin | 4589 | 4468 | 0.7 | 72.48 | 3.0 | 54.5 | 149 | 54464 |\n",
       "| Wyoming |  376 | 4566 | 0.6 | 70.29 | 6.9 | 62.9 | 173 | 97203 |\n",
       "\n"
      ],
      "text/plain": [
       "              Population Income Illiteracy Life Exp Murder HS Grad Frost Area \n",
       "Vermont        472       3907   0.6        71.64    5.5    57.1    168    9267\n",
       "Virginia      4981       4701   1.4        70.08    9.5    47.8     85   39780\n",
       "Washington    3559       4864   0.6        71.72    4.3    63.5     32   66570\n",
       "West Virginia 1799       3617   1.4        69.48    6.7    41.6    100   24070\n",
       "Wisconsin     4589       4468   0.7        72.48    3.0    54.5    149   54464\n",
       "Wyoming        376       4566   0.6        70.29    6.9    62.9    173   97203"
      ]
     },
     "metadata": {},
     "output_type": "display_data"
    }
   ],
   "source": [
    "tail(states)"
   ]
  },
  {
   "cell_type": "markdown",
   "id": "f15ed2fb",
   "metadata": {},
   "source": [
    "### DataFrames - Overview of information¶\n",
    "We can use the str() to get the structure of a dataframe, which gives information on the structure of the dataframe and the data it contains, such as variable names and data types. We can use summary() to get a quick statistical summary of all the columns of a DataFrame, depending on the data, this may or may not be useful!"
   ]
  },
  {
   "cell_type": "code",
   "execution_count": 38,
   "id": "147ca829",
   "metadata": {},
   "outputs": [
    {
     "data": {
      "text/plain": [
       "   Population        Income       Illiteracy       Life Exp    \n",
       " Min.   :  365   Min.   :3098   Min.   :0.500   Min.   :67.96  \n",
       " 1st Qu.: 1080   1st Qu.:3993   1st Qu.:0.625   1st Qu.:70.12  \n",
       " Median : 2838   Median :4519   Median :0.950   Median :70.67  \n",
       " Mean   : 4246   Mean   :4436   Mean   :1.170   Mean   :70.88  \n",
       " 3rd Qu.: 4968   3rd Qu.:4814   3rd Qu.:1.575   3rd Qu.:71.89  \n",
       " Max.   :21198   Max.   :6315   Max.   :2.800   Max.   :73.60  \n",
       "     Murder          HS Grad          Frost             Area       \n",
       " Min.   : 1.400   Min.   :37.80   Min.   :  0.00   Min.   :  1049  \n",
       " 1st Qu.: 4.350   1st Qu.:48.05   1st Qu.: 66.25   1st Qu.: 36985  \n",
       " Median : 6.850   Median :53.25   Median :114.50   Median : 54277  \n",
       " Mean   : 7.378   Mean   :53.11   Mean   :104.46   Mean   : 70736  \n",
       " 3rd Qu.:10.675   3rd Qu.:59.15   3rd Qu.:139.75   3rd Qu.: 81163  \n",
       " Max.   :15.100   Max.   :67.30   Max.   :188.00   Max.   :566432  "
      ]
     },
     "metadata": {},
     "output_type": "display_data"
    }
   ],
   "source": [
    "# Statistical summary of data\n",
    "summary(states)"
   ]
  },
  {
   "cell_type": "code",
   "execution_count": 39,
   "id": "3212d3ad",
   "metadata": {},
   "outputs": [
    {
     "name": "stdout",
     "output_type": "stream",
     "text": [
      " num [1:50, 1:8] 3615 365 2212 2110 21198 ...\n",
      " - attr(*, \"dimnames\")=List of 2\n",
      "  ..$ : chr [1:50] \"Alabama\" \"Alaska\" \"Arizona\" \"Arkansas\" ...\n",
      "  ..$ : chr [1:8] \"Population\" \"Income\" \"Illiteracy\" \"Life Exp\" ...\n"
     ]
    }
   ],
   "source": [
    "# Structure of Data\n",
    "str(states)"
   ]
  },
  {
   "cell_type": "markdown",
   "id": "18987644",
   "metadata": {},
   "source": [
    "### Creating Data frames¶\n",
    "A quick note some people write Dataframe as one word, but in R its more commonly written as two words: data frame. Not a very huge deal either way, but if someone writes DataFrame they may be referring to a Python/pandas DataFrame, so keep that in mind!\n",
    "\n",
    "We can create data frames using the data.frame() function and pass vectors as arguments, which will then convert the vectors into columns of the data frame. Let's see a simple example:"
   ]
  },
  {
   "cell_type": "code",
   "execution_count": 40,
   "id": "f2929c0b",
   "metadata": {},
   "outputs": [],
   "source": [
    "# Some made up weather data\n",
    "days <- c('mon','tue','wed','thu','fri')\n",
    "temp <- c(22.2,21,23,24.3,25)\n",
    "rain <- c(TRUE, TRUE, FALSE, FALSE, TRUE)"
   ]
  },
  {
   "cell_type": "code",
   "execution_count": 41,
   "id": "13bee224",
   "metadata": {},
   "outputs": [],
   "source": [
    "# Pass in the vectors:\n",
    "df <- data.frame(days,temp,rain)"
   ]
  },
  {
   "cell_type": "code",
   "execution_count": 42,
   "id": "9863721d",
   "metadata": {},
   "outputs": [
    {
     "data": {
      "text/html": [
       "<table class=\"dataframe\">\n",
       "<caption>A data.frame: 5 × 3</caption>\n",
       "<thead>\n",
       "\t<tr><th scope=col>days</th><th scope=col>temp</th><th scope=col>rain</th></tr>\n",
       "\t<tr><th scope=col>&lt;chr&gt;</th><th scope=col>&lt;dbl&gt;</th><th scope=col>&lt;lgl&gt;</th></tr>\n",
       "</thead>\n",
       "<tbody>\n",
       "\t<tr><td>mon</td><td>22.2</td><td> TRUE</td></tr>\n",
       "\t<tr><td>tue</td><td>21.0</td><td> TRUE</td></tr>\n",
       "\t<tr><td>wed</td><td>23.0</td><td>FALSE</td></tr>\n",
       "\t<tr><td>thu</td><td>24.3</td><td>FALSE</td></tr>\n",
       "\t<tr><td>fri</td><td>25.0</td><td> TRUE</td></tr>\n",
       "</tbody>\n",
       "</table>\n"
      ],
      "text/latex": [
       "A data.frame: 5 × 3\n",
       "\\begin{tabular}{lll}\n",
       " days & temp & rain\\\\\n",
       " <chr> & <dbl> & <lgl>\\\\\n",
       "\\hline\n",
       "\t mon & 22.2 &  TRUE\\\\\n",
       "\t tue & 21.0 &  TRUE\\\\\n",
       "\t wed & 23.0 & FALSE\\\\\n",
       "\t thu & 24.3 & FALSE\\\\\n",
       "\t fri & 25.0 &  TRUE\\\\\n",
       "\\end{tabular}\n"
      ],
      "text/markdown": [
       "\n",
       "A data.frame: 5 × 3\n",
       "\n",
       "| days &lt;chr&gt; | temp &lt;dbl&gt; | rain &lt;lgl&gt; |\n",
       "|---|---|---|\n",
       "| mon | 22.2 |  TRUE |\n",
       "| tue | 21.0 |  TRUE |\n",
       "| wed | 23.0 | FALSE |\n",
       "| thu | 24.3 | FALSE |\n",
       "| fri | 25.0 |  TRUE |\n",
       "\n"
      ],
      "text/plain": [
       "  days temp rain \n",
       "1 mon  22.2  TRUE\n",
       "2 tue  21.0  TRUE\n",
       "3 wed  23.0 FALSE\n",
       "4 thu  24.3 FALSE\n",
       "5 fri  25.0  TRUE"
      ]
     },
     "metadata": {},
     "output_type": "display_data"
    }
   ],
   "source": [
    "df"
   ]
  },
  {
   "cell_type": "code",
   "execution_count": 43,
   "id": "e0e1ff7a",
   "metadata": {},
   "outputs": [
    {
     "name": "stdout",
     "output_type": "stream",
     "text": [
      "'data.frame':\t5 obs. of  3 variables:\n",
      " $ days: chr  \"mon\" \"tue\" \"wed\" \"thu\" ...\n",
      " $ temp: num  22.2 21 23 24.3 25\n",
      " $ rain: logi  TRUE TRUE FALSE FALSE TRUE\n"
     ]
    }
   ],
   "source": [
    "# Check structure\n",
    "str(df)"
   ]
  },
  {
   "cell_type": "code",
   "execution_count": 44,
   "id": "f1ab443c",
   "metadata": {},
   "outputs": [
    {
     "data": {
      "text/plain": [
       "     days                temp         rain        \n",
       " Length:5           Min.   :21.0   Mode :logical  \n",
       " Class :character   1st Qu.:22.2   FALSE:2        \n",
       " Mode  :character   Median :23.0   TRUE :3        \n",
       "                    Mean   :23.1                  \n",
       "                    3rd Qu.:24.3                  \n",
       "                    Max.   :25.0                  "
      ]
     },
     "metadata": {},
     "output_type": "display_data"
    }
   ],
   "source": [
    "summary(df)"
   ]
  },
  {
   "cell_type": "markdown",
   "id": "f576a3f7",
   "metadata": {},
   "source": [
    "## Data Frame Selection and Indexing\n",
    "We've seen how to call built-in data frames and how to create them using data.frame() along with vectors. Let's revisit our weather data frame and learn how to select elements from within the dataframe using bracket notation:"
   ]
  },
  {
   "cell_type": "code",
   "execution_count": 45,
   "id": "0c18e3ac",
   "metadata": {},
   "outputs": [],
   "source": [
    "# Some made up weather data\n",
    "days <- c('mon','tue','wed','thu','fri')\n",
    "temp <- c(22.2,21,23,24.3,25)\n",
    "rain <- c(TRUE, TRUE, FALSE, FALSE, TRUE)\n",
    "\n",
    "# Pass in the vectors:\n",
    "df <- data.frame(days,temp,rain)"
   ]
  },
  {
   "cell_type": "code",
   "execution_count": 46,
   "id": "f7abe55c",
   "metadata": {},
   "outputs": [
    {
     "data": {
      "text/html": [
       "<table class=\"dataframe\">\n",
       "<caption>A data.frame: 5 × 3</caption>\n",
       "<thead>\n",
       "\t<tr><th scope=col>days</th><th scope=col>temp</th><th scope=col>rain</th></tr>\n",
       "\t<tr><th scope=col>&lt;chr&gt;</th><th scope=col>&lt;dbl&gt;</th><th scope=col>&lt;lgl&gt;</th></tr>\n",
       "</thead>\n",
       "<tbody>\n",
       "\t<tr><td>mon</td><td>22.2</td><td> TRUE</td></tr>\n",
       "\t<tr><td>tue</td><td>21.0</td><td> TRUE</td></tr>\n",
       "\t<tr><td>wed</td><td>23.0</td><td>FALSE</td></tr>\n",
       "\t<tr><td>thu</td><td>24.3</td><td>FALSE</td></tr>\n",
       "\t<tr><td>fri</td><td>25.0</td><td> TRUE</td></tr>\n",
       "</tbody>\n",
       "</table>\n"
      ],
      "text/latex": [
       "A data.frame: 5 × 3\n",
       "\\begin{tabular}{lll}\n",
       " days & temp & rain\\\\\n",
       " <chr> & <dbl> & <lgl>\\\\\n",
       "\\hline\n",
       "\t mon & 22.2 &  TRUE\\\\\n",
       "\t tue & 21.0 &  TRUE\\\\\n",
       "\t wed & 23.0 & FALSE\\\\\n",
       "\t thu & 24.3 & FALSE\\\\\n",
       "\t fri & 25.0 &  TRUE\\\\\n",
       "\\end{tabular}\n"
      ],
      "text/markdown": [
       "\n",
       "A data.frame: 5 × 3\n",
       "\n",
       "| days &lt;chr&gt; | temp &lt;dbl&gt; | rain &lt;lgl&gt; |\n",
       "|---|---|---|\n",
       "| mon | 22.2 |  TRUE |\n",
       "| tue | 21.0 |  TRUE |\n",
       "| wed | 23.0 | FALSE |\n",
       "| thu | 24.3 | FALSE |\n",
       "| fri | 25.0 |  TRUE |\n",
       "\n"
      ],
      "text/plain": [
       "  days temp rain \n",
       "1 mon  22.2  TRUE\n",
       "2 tue  21.0  TRUE\n",
       "3 wed  23.0 FALSE\n",
       "4 thu  24.3 FALSE\n",
       "5 fri  25.0  TRUE"
      ]
     },
     "metadata": {},
     "output_type": "display_data"
    }
   ],
   "source": [
    "df"
   ]
  },
  {
   "cell_type": "markdown",
   "id": "c0903fbc",
   "metadata": {},
   "source": [
    "We can use the same bracket notation we used for matrices:\n",
    "\n",
    "df[rows,columns]"
   ]
  },
  {
   "cell_type": "code",
   "execution_count": 47,
   "id": "c5c4a2cc",
   "metadata": {},
   "outputs": [
    {
     "data": {
      "text/html": [
       "<table class=\"dataframe\">\n",
       "<caption>A data.frame: 1 × 3</caption>\n",
       "<thead>\n",
       "\t<tr><th></th><th scope=col>days</th><th scope=col>temp</th><th scope=col>rain</th></tr>\n",
       "\t<tr><th></th><th scope=col>&lt;chr&gt;</th><th scope=col>&lt;dbl&gt;</th><th scope=col>&lt;lgl&gt;</th></tr>\n",
       "</thead>\n",
       "<tbody>\n",
       "\t<tr><th scope=row>1</th><td>mon</td><td>22.2</td><td>TRUE</td></tr>\n",
       "</tbody>\n",
       "</table>\n"
      ],
      "text/latex": [
       "A data.frame: 1 × 3\n",
       "\\begin{tabular}{r|lll}\n",
       "  & days & temp & rain\\\\\n",
       "  & <chr> & <dbl> & <lgl>\\\\\n",
       "\\hline\n",
       "\t1 & mon & 22.2 & TRUE\\\\\n",
       "\\end{tabular}\n"
      ],
      "text/markdown": [
       "\n",
       "A data.frame: 1 × 3\n",
       "\n",
       "| <!--/--> | days &lt;chr&gt; | temp &lt;dbl&gt; | rain &lt;lgl&gt; |\n",
       "|---|---|---|---|\n",
       "| 1 | mon | 22.2 | TRUE |\n",
       "\n"
      ],
      "text/plain": [
       "  days temp rain\n",
       "1 mon  22.2 TRUE"
      ]
     },
     "metadata": {},
     "output_type": "display_data"
    }
   ],
   "source": [
    "# Everything from first row\n",
    "df[1,]"
   ]
  },
  {
   "cell_type": "code",
   "execution_count": 48,
   "id": "1d64bca7",
   "metadata": {},
   "outputs": [
    {
     "data": {
      "text/html": [
       "<style>\n",
       ".list-inline {list-style: none; margin:0; padding: 0}\n",
       ".list-inline>li {display: inline-block}\n",
       ".list-inline>li:not(:last-child)::after {content: \"\\00b7\"; padding: 0 .5ex}\n",
       "</style>\n",
       "<ol class=list-inline><li>'mon'</li><li>'tue'</li><li>'wed'</li><li>'thu'</li><li>'fri'</li></ol>\n"
      ],
      "text/latex": [
       "\\begin{enumerate*}\n",
       "\\item 'mon'\n",
       "\\item 'tue'\n",
       "\\item 'wed'\n",
       "\\item 'thu'\n",
       "\\item 'fri'\n",
       "\\end{enumerate*}\n"
      ],
      "text/markdown": [
       "1. 'mon'\n",
       "2. 'tue'\n",
       "3. 'wed'\n",
       "4. 'thu'\n",
       "5. 'fri'\n",
       "\n",
       "\n"
      ],
      "text/plain": [
       "[1] \"mon\" \"tue\" \"wed\" \"thu\" \"fri\""
      ]
     },
     "metadata": {},
     "output_type": "display_data"
    }
   ],
   "source": [
    "#Everything from first column\n",
    "df[,1]"
   ]
  },
  {
   "cell_type": "code",
   "execution_count": 49,
   "id": "e4c09d8e",
   "metadata": {},
   "outputs": [
    {
     "data": {
      "text/html": [
       "<table class=\"dataframe\">\n",
       "<caption>A data.frame: 1 × 3</caption>\n",
       "<thead>\n",
       "\t<tr><th></th><th scope=col>days</th><th scope=col>temp</th><th scope=col>rain</th></tr>\n",
       "\t<tr><th></th><th scope=col>&lt;chr&gt;</th><th scope=col>&lt;dbl&gt;</th><th scope=col>&lt;lgl&gt;</th></tr>\n",
       "</thead>\n",
       "<tbody>\n",
       "\t<tr><th scope=row>5</th><td>fri</td><td>25</td><td>TRUE</td></tr>\n",
       "</tbody>\n",
       "</table>\n"
      ],
      "text/latex": [
       "A data.frame: 1 × 3\n",
       "\\begin{tabular}{r|lll}\n",
       "  & days & temp & rain\\\\\n",
       "  & <chr> & <dbl> & <lgl>\\\\\n",
       "\\hline\n",
       "\t5 & fri & 25 & TRUE\\\\\n",
       "\\end{tabular}\n"
      ],
      "text/markdown": [
       "\n",
       "A data.frame: 1 × 3\n",
       "\n",
       "| <!--/--> | days &lt;chr&gt; | temp &lt;dbl&gt; | rain &lt;lgl&gt; |\n",
       "|---|---|---|---|\n",
       "| 5 | fri | 25 | TRUE |\n",
       "\n"
      ],
      "text/plain": [
       "  days temp rain\n",
       "5 fri  25   TRUE"
      ]
     },
     "metadata": {},
     "output_type": "display_data"
    }
   ],
   "source": [
    "# Grab Friday data\n",
    "df[5,]"
   ]
  },
  {
   "cell_type": "markdown",
   "id": "10f393db",
   "metadata": {},
   "source": [
    "### Selecting using column names\n",
    "Here is where data frames become very powerful, we can use column names to select data for the columns instead of having to remember numbers. So for example:"
   ]
  },
  {
   "cell_type": "code",
   "execution_count": 50,
   "id": "9f833929",
   "metadata": {},
   "outputs": [
    {
     "data": {
      "text/html": [
       "<style>\n",
       ".list-inline {list-style: none; margin:0; padding: 0}\n",
       ".list-inline>li {display: inline-block}\n",
       ".list-inline>li:not(:last-child)::after {content: \"\\00b7\"; padding: 0 .5ex}\n",
       "</style>\n",
       "<ol class=list-inline><li>TRUE</li><li>TRUE</li><li>FALSE</li><li>FALSE</li><li>TRUE</li></ol>\n"
      ],
      "text/latex": [
       "\\begin{enumerate*}\n",
       "\\item TRUE\n",
       "\\item TRUE\n",
       "\\item FALSE\n",
       "\\item FALSE\n",
       "\\item TRUE\n",
       "\\end{enumerate*}\n"
      ],
      "text/markdown": [
       "1. TRUE\n",
       "2. TRUE\n",
       "3. FALSE\n",
       "4. FALSE\n",
       "5. TRUE\n",
       "\n",
       "\n"
      ],
      "text/plain": [
       "[1]  TRUE  TRUE FALSE FALSE  TRUE"
      ]
     },
     "metadata": {},
     "output_type": "display_data"
    }
   ],
   "source": [
    "# All rain values\n",
    "df[,'rain']"
   ]
  },
  {
   "cell_type": "code",
   "execution_count": 51,
   "id": "b16a30ee",
   "metadata": {},
   "outputs": [
    {
     "data": {
      "text/html": [
       "<table class=\"dataframe\">\n",
       "<caption>A data.frame: 5 × 2</caption>\n",
       "<thead>\n",
       "\t<tr><th></th><th scope=col>days</th><th scope=col>temp</th></tr>\n",
       "\t<tr><th></th><th scope=col>&lt;chr&gt;</th><th scope=col>&lt;dbl&gt;</th></tr>\n",
       "</thead>\n",
       "<tbody>\n",
       "\t<tr><th scope=row>1</th><td>mon</td><td>22.2</td></tr>\n",
       "\t<tr><th scope=row>2</th><td>tue</td><td>21.0</td></tr>\n",
       "\t<tr><th scope=row>3</th><td>wed</td><td>23.0</td></tr>\n",
       "\t<tr><th scope=row>4</th><td>thu</td><td>24.3</td></tr>\n",
       "\t<tr><th scope=row>5</th><td>fri</td><td>25.0</td></tr>\n",
       "</tbody>\n",
       "</table>\n"
      ],
      "text/latex": [
       "A data.frame: 5 × 2\n",
       "\\begin{tabular}{r|ll}\n",
       "  & days & temp\\\\\n",
       "  & <chr> & <dbl>\\\\\n",
       "\\hline\n",
       "\t1 & mon & 22.2\\\\\n",
       "\t2 & tue & 21.0\\\\\n",
       "\t3 & wed & 23.0\\\\\n",
       "\t4 & thu & 24.3\\\\\n",
       "\t5 & fri & 25.0\\\\\n",
       "\\end{tabular}\n"
      ],
      "text/markdown": [
       "\n",
       "A data.frame: 5 × 2\n",
       "\n",
       "| <!--/--> | days &lt;chr&gt; | temp &lt;dbl&gt; |\n",
       "|---|---|---|\n",
       "| 1 | mon | 22.2 |\n",
       "| 2 | tue | 21.0 |\n",
       "| 3 | wed | 23.0 |\n",
       "| 4 | thu | 24.3 |\n",
       "| 5 | fri | 25.0 |\n",
       "\n"
      ],
      "text/plain": [
       "  days temp\n",
       "1 mon  22.2\n",
       "2 tue  21.0\n",
       "3 wed  23.0\n",
       "4 thu  24.3\n",
       "5 fri  25.0"
      ]
     },
     "metadata": {},
     "output_type": "display_data"
    }
   ],
   "source": [
    "# First 5 rows for days and temps\n",
    "df[1:5,c('days','temp')]"
   ]
  },
  {
   "cell_type": "markdown",
   "id": "d7ab64d4",
   "metadata": {},
   "source": [
    "If you want all the values of a particular column you can use the dollar sign directly after the dataframe as follows:\n",
    "\n",
    "df.name$column.name"
   ]
  },
  {
   "cell_type": "code",
   "execution_count": 52,
   "id": "144c3ae6",
   "metadata": {},
   "outputs": [
    {
     "data": {
      "text/html": [
       "<style>\n",
       ".list-inline {list-style: none; margin:0; padding: 0}\n",
       ".list-inline>li {display: inline-block}\n",
       ".list-inline>li:not(:last-child)::after {content: \"\\00b7\"; padding: 0 .5ex}\n",
       "</style>\n",
       "<ol class=list-inline><li>TRUE</li><li>TRUE</li><li>FALSE</li><li>FALSE</li><li>TRUE</li></ol>\n"
      ],
      "text/latex": [
       "\\begin{enumerate*}\n",
       "\\item TRUE\n",
       "\\item TRUE\n",
       "\\item FALSE\n",
       "\\item FALSE\n",
       "\\item TRUE\n",
       "\\end{enumerate*}\n"
      ],
      "text/markdown": [
       "1. TRUE\n",
       "2. TRUE\n",
       "3. FALSE\n",
       "4. FALSE\n",
       "5. TRUE\n",
       "\n",
       "\n"
      ],
      "text/plain": [
       "[1]  TRUE  TRUE FALSE FALSE  TRUE"
      ]
     },
     "metadata": {},
     "output_type": "display_data"
    }
   ],
   "source": [
    "df$rain"
   ]
  },
  {
   "cell_type": "code",
   "execution_count": 136,
   "id": "a41efe3f",
   "metadata": {},
   "outputs": [
    {
     "data": {
      "text/plain": [
       "NULL"
      ]
     },
     "metadata": {},
     "output_type": "display_data"
    }
   ],
   "source": [
    "df$days"
   ]
  },
  {
   "cell_type": "code",
   "execution_count": 137,
   "id": "a38281fc",
   "metadata": {},
   "outputs": [
    {
     "ename": "ERROR",
     "evalue": "Error in parse(text = x, srcfile = src): <text>:1:4: unexpected numeric constant\n1: df$1\n       ^\n",
     "output_type": "error",
     "traceback": [
      "Error in parse(text = x, srcfile = src): <text>:1:4: unexpected numeric constant\n1: df$1\n       ^\nTraceback:\n"
     ]
    }
   ],
   "source": [
    "df$1"
   ]
  },
  {
   "cell_type": "markdown",
   "id": "92565a07",
   "metadata": {},
   "source": [
    "You can also use bracket notation to return a data frame format of the same information:"
   ]
  },
  {
   "cell_type": "code",
   "execution_count": 54,
   "id": "82d89f0a",
   "metadata": {},
   "outputs": [
    {
     "data": {
      "text/html": [
       "<table class=\"dataframe\">\n",
       "<caption>A data.frame: 5 × 1</caption>\n",
       "<thead>\n",
       "\t<tr><th scope=col>rain</th></tr>\n",
       "\t<tr><th scope=col>&lt;lgl&gt;</th></tr>\n",
       "</thead>\n",
       "<tbody>\n",
       "\t<tr><td> TRUE</td></tr>\n",
       "\t<tr><td> TRUE</td></tr>\n",
       "\t<tr><td>FALSE</td></tr>\n",
       "\t<tr><td>FALSE</td></tr>\n",
       "\t<tr><td> TRUE</td></tr>\n",
       "</tbody>\n",
       "</table>\n"
      ],
      "text/latex": [
       "A data.frame: 5 × 1\n",
       "\\begin{tabular}{l}\n",
       " rain\\\\\n",
       " <lgl>\\\\\n",
       "\\hline\n",
       "\t  TRUE\\\\\n",
       "\t  TRUE\\\\\n",
       "\t FALSE\\\\\n",
       "\t FALSE\\\\\n",
       "\t  TRUE\\\\\n",
       "\\end{tabular}\n"
      ],
      "text/markdown": [
       "\n",
       "A data.frame: 5 × 1\n",
       "\n",
       "| rain &lt;lgl&gt; |\n",
       "|---|\n",
       "|  TRUE |\n",
       "|  TRUE |\n",
       "| FALSE |\n",
       "| FALSE |\n",
       "|  TRUE |\n",
       "\n"
      ],
      "text/plain": [
       "  rain \n",
       "1  TRUE\n",
       "2  TRUE\n",
       "3 FALSE\n",
       "4 FALSE\n",
       "5  TRUE"
      ]
     },
     "metadata": {},
     "output_type": "display_data"
    }
   ],
   "source": [
    "df['rain']"
   ]
  },
  {
   "cell_type": "code",
   "execution_count": 55,
   "id": "568eec7b",
   "metadata": {},
   "outputs": [
    {
     "data": {
      "text/html": [
       "<table class=\"dataframe\">\n",
       "<caption>A data.frame: 5 × 1</caption>\n",
       "<thead>\n",
       "\t<tr><th scope=col>days</th></tr>\n",
       "\t<tr><th scope=col>&lt;chr&gt;</th></tr>\n",
       "</thead>\n",
       "<tbody>\n",
       "\t<tr><td>mon</td></tr>\n",
       "\t<tr><td>tue</td></tr>\n",
       "\t<tr><td>wed</td></tr>\n",
       "\t<tr><td>thu</td></tr>\n",
       "\t<tr><td>fri</td></tr>\n",
       "</tbody>\n",
       "</table>\n"
      ],
      "text/latex": [
       "A data.frame: 5 × 1\n",
       "\\begin{tabular}{l}\n",
       " days\\\\\n",
       " <chr>\\\\\n",
       "\\hline\n",
       "\t mon\\\\\n",
       "\t tue\\\\\n",
       "\t wed\\\\\n",
       "\t thu\\\\\n",
       "\t fri\\\\\n",
       "\\end{tabular}\n"
      ],
      "text/markdown": [
       "\n",
       "A data.frame: 5 × 1\n",
       "\n",
       "| days &lt;chr&gt; |\n",
       "|---|\n",
       "| mon |\n",
       "| tue |\n",
       "| wed |\n",
       "| thu |\n",
       "| fri |\n",
       "\n"
      ],
      "text/plain": [
       "  days\n",
       "1 mon \n",
       "2 tue \n",
       "3 wed \n",
       "4 thu \n",
       "5 fri "
      ]
     },
     "metadata": {},
     "output_type": "display_data"
    }
   ],
   "source": [
    "df['days']"
   ]
  },
  {
   "cell_type": "markdown",
   "id": "af48a0b6",
   "metadata": {},
   "source": [
    "### Filtering with a subset condition¶\n",
    "We can use the subset() function to grab a subset of values from our data frame based off some condition. So for example, imagin we wanted to grab the days where it rained (rain=True), we can use the subset() function as follows:"
   ]
  },
  {
   "cell_type": "code",
   "execution_count": 56,
   "id": "26f9235f",
   "metadata": {},
   "outputs": [
    {
     "data": {
      "text/html": [
       "<table class=\"dataframe\">\n",
       "<caption>A data.frame: 3 × 3</caption>\n",
       "<thead>\n",
       "\t<tr><th></th><th scope=col>days</th><th scope=col>temp</th><th scope=col>rain</th></tr>\n",
       "\t<tr><th></th><th scope=col>&lt;chr&gt;</th><th scope=col>&lt;dbl&gt;</th><th scope=col>&lt;lgl&gt;</th></tr>\n",
       "</thead>\n",
       "<tbody>\n",
       "\t<tr><th scope=row>1</th><td>mon</td><td>22.2</td><td>TRUE</td></tr>\n",
       "\t<tr><th scope=row>2</th><td>tue</td><td>21.0</td><td>TRUE</td></tr>\n",
       "\t<tr><th scope=row>5</th><td>fri</td><td>25.0</td><td>TRUE</td></tr>\n",
       "</tbody>\n",
       "</table>\n"
      ],
      "text/latex": [
       "A data.frame: 3 × 3\n",
       "\\begin{tabular}{r|lll}\n",
       "  & days & temp & rain\\\\\n",
       "  & <chr> & <dbl> & <lgl>\\\\\n",
       "\\hline\n",
       "\t1 & mon & 22.2 & TRUE\\\\\n",
       "\t2 & tue & 21.0 & TRUE\\\\\n",
       "\t5 & fri & 25.0 & TRUE\\\\\n",
       "\\end{tabular}\n"
      ],
      "text/markdown": [
       "\n",
       "A data.frame: 3 × 3\n",
       "\n",
       "| <!--/--> | days &lt;chr&gt; | temp &lt;dbl&gt; | rain &lt;lgl&gt; |\n",
       "|---|---|---|---|\n",
       "| 1 | mon | 22.2 | TRUE |\n",
       "| 2 | tue | 21.0 | TRUE |\n",
       "| 5 | fri | 25.0 | TRUE |\n",
       "\n"
      ],
      "text/plain": [
       "  days temp rain\n",
       "1 mon  22.2 TRUE\n",
       "2 tue  21.0 TRUE\n",
       "5 fri  25.0 TRUE"
      ]
     },
     "metadata": {},
     "output_type": "display_data"
    }
   ],
   "source": [
    "subset(df,subset=rain==TRUE)"
   ]
  },
  {
   "cell_type": "markdown",
   "id": "e4d31e6d",
   "metadata": {},
   "source": [
    "Notice how the condition uses some sort of comparison operator, in the above case ==. Let's grab days where the temperature was greater than 23:"
   ]
  },
  {
   "cell_type": "code",
   "execution_count": 57,
   "id": "52bc8a01",
   "metadata": {},
   "outputs": [
    {
     "data": {
      "text/html": [
       "<table class=\"dataframe\">\n",
       "<caption>A data.frame: 2 × 3</caption>\n",
       "<thead>\n",
       "\t<tr><th></th><th scope=col>days</th><th scope=col>temp</th><th scope=col>rain</th></tr>\n",
       "\t<tr><th></th><th scope=col>&lt;chr&gt;</th><th scope=col>&lt;dbl&gt;</th><th scope=col>&lt;lgl&gt;</th></tr>\n",
       "</thead>\n",
       "<tbody>\n",
       "\t<tr><th scope=row>4</th><td>thu</td><td>24.3</td><td>FALSE</td></tr>\n",
       "\t<tr><th scope=row>5</th><td>fri</td><td>25.0</td><td> TRUE</td></tr>\n",
       "</tbody>\n",
       "</table>\n"
      ],
      "text/latex": [
       "A data.frame: 2 × 3\n",
       "\\begin{tabular}{r|lll}\n",
       "  & days & temp & rain\\\\\n",
       "  & <chr> & <dbl> & <lgl>\\\\\n",
       "\\hline\n",
       "\t4 & thu & 24.3 & FALSE\\\\\n",
       "\t5 & fri & 25.0 &  TRUE\\\\\n",
       "\\end{tabular}\n"
      ],
      "text/markdown": [
       "\n",
       "A data.frame: 2 × 3\n",
       "\n",
       "| <!--/--> | days &lt;chr&gt; | temp &lt;dbl&gt; | rain &lt;lgl&gt; |\n",
       "|---|---|---|---|\n",
       "| 4 | thu | 24.3 | FALSE |\n",
       "| 5 | fri | 25.0 |  TRUE |\n",
       "\n"
      ],
      "text/plain": [
       "  days temp rain \n",
       "4 thu  24.3 FALSE\n",
       "5 fri  25.0  TRUE"
      ]
     },
     "metadata": {},
     "output_type": "display_data"
    }
   ],
   "source": [
    "subset(df,subset= temp>23)"
   ]
  },
  {
   "cell_type": "markdown",
   "id": "2c760d8d",
   "metadata": {},
   "source": [
    "Another thing to note is that we didn't pass in the column name as a character string, subset knows that you are referring to a column in that data frame."
   ]
  },
  {
   "cell_type": "markdown",
   "id": "5df38788",
   "metadata": {},
   "source": [
    "## Odering a Data Frame\n",
    "We can sort the order of our data frame by using the order function. You pass in the column you want to sort by into the order() function, then you use that vector to select from the dataframe. Let's see an example of sorting by the temperature:"
   ]
  },
  {
   "cell_type": "code",
   "execution_count": 66,
   "id": "95ac87f5",
   "metadata": {},
   "outputs": [],
   "source": [
    "sorted.temp <- order(df[[\"temp\"]])"
   ]
  },
  {
   "cell_type": "code",
   "execution_count": 67,
   "id": "d7588eda",
   "metadata": {},
   "outputs": [
    {
     "data": {
      "text/html": [
       "<style>\n",
       ".list-inline {list-style: none; margin:0; padding: 0}\n",
       ".list-inline>li {display: inline-block}\n",
       ".list-inline>li:not(:last-child)::after {content: \"\\00b7\"; padding: 0 .5ex}\n",
       "</style>\n",
       "<ol class=list-inline><li>2</li><li>1</li><li>3</li><li>4</li><li>5</li></ol>\n"
      ],
      "text/latex": [
       "\\begin{enumerate*}\n",
       "\\item 2\n",
       "\\item 1\n",
       "\\item 3\n",
       "\\item 4\n",
       "\\item 5\n",
       "\\end{enumerate*}\n"
      ],
      "text/markdown": [
       "1. 2\n",
       "2. 1\n",
       "3. 3\n",
       "4. 4\n",
       "5. 5\n",
       "\n",
       "\n"
      ],
      "text/plain": [
       "[1] 2 1 3 4 5"
      ]
     },
     "metadata": {},
     "output_type": "display_data"
    }
   ],
   "source": [
    "sorted.temp"
   ]
  },
  {
   "cell_type": "code",
   "execution_count": 68,
   "id": "b77fba39",
   "metadata": {},
   "outputs": [
    {
     "data": {
      "text/html": [
       "<table class=\"dataframe\">\n",
       "<caption>A data.frame: 5 × 3</caption>\n",
       "<thead>\n",
       "\t<tr><th></th><th scope=col>days</th><th scope=col>temp</th><th scope=col>rain</th></tr>\n",
       "\t<tr><th></th><th scope=col>&lt;chr&gt;</th><th scope=col>&lt;dbl&gt;</th><th scope=col>&lt;lgl&gt;</th></tr>\n",
       "</thead>\n",
       "<tbody>\n",
       "\t<tr><th scope=row>2</th><td>tue</td><td>21.0</td><td> TRUE</td></tr>\n",
       "\t<tr><th scope=row>1</th><td>mon</td><td>22.2</td><td> TRUE</td></tr>\n",
       "\t<tr><th scope=row>3</th><td>wed</td><td>23.0</td><td>FALSE</td></tr>\n",
       "\t<tr><th scope=row>4</th><td>thu</td><td>24.3</td><td>FALSE</td></tr>\n",
       "\t<tr><th scope=row>5</th><td>fri</td><td>25.0</td><td> TRUE</td></tr>\n",
       "</tbody>\n",
       "</table>\n"
      ],
      "text/latex": [
       "A data.frame: 5 × 3\n",
       "\\begin{tabular}{r|lll}\n",
       "  & days & temp & rain\\\\\n",
       "  & <chr> & <dbl> & <lgl>\\\\\n",
       "\\hline\n",
       "\t2 & tue & 21.0 &  TRUE\\\\\n",
       "\t1 & mon & 22.2 &  TRUE\\\\\n",
       "\t3 & wed & 23.0 & FALSE\\\\\n",
       "\t4 & thu & 24.3 & FALSE\\\\\n",
       "\t5 & fri & 25.0 &  TRUE\\\\\n",
       "\\end{tabular}\n"
      ],
      "text/markdown": [
       "\n",
       "A data.frame: 5 × 3\n",
       "\n",
       "| <!--/--> | days &lt;chr&gt; | temp &lt;dbl&gt; | rain &lt;lgl&gt; |\n",
       "|---|---|---|---|\n",
       "| 2 | tue | 21.0 |  TRUE |\n",
       "| 1 | mon | 22.2 |  TRUE |\n",
       "| 3 | wed | 23.0 | FALSE |\n",
       "| 4 | thu | 24.3 | FALSE |\n",
       "| 5 | fri | 25.0 |  TRUE |\n",
       "\n"
      ],
      "text/plain": [
       "  days temp rain \n",
       "2 tue  21.0  TRUE\n",
       "1 mon  22.2  TRUE\n",
       "3 wed  23.0 FALSE\n",
       "4 thu  24.3 FALSE\n",
       "5 fri  25.0  TRUE"
      ]
     },
     "metadata": {},
     "output_type": "display_data"
    }
   ],
   "source": [
    "df[sorted.temp,]"
   ]
  },
  {
   "cell_type": "markdown",
   "id": "61a49336",
   "metadata": {},
   "source": [
    "Ok, so we are just asking for those index elements in that order (by default ascending, we can pass a negative sign to do descending order):"
   ]
  },
  {
   "cell_type": "code",
   "execution_count": 70,
   "id": "ef2363b8",
   "metadata": {},
   "outputs": [],
   "source": [
    "desc.temp <- order(-df[['temp']])"
   ]
  },
  {
   "cell_type": "code",
   "execution_count": 71,
   "id": "d58f6d1f",
   "metadata": {},
   "outputs": [
    {
     "data": {
      "text/html": [
       "<table class=\"dataframe\">\n",
       "<caption>A data.frame: 5 × 3</caption>\n",
       "<thead>\n",
       "\t<tr><th></th><th scope=col>days</th><th scope=col>temp</th><th scope=col>rain</th></tr>\n",
       "\t<tr><th></th><th scope=col>&lt;chr&gt;</th><th scope=col>&lt;dbl&gt;</th><th scope=col>&lt;lgl&gt;</th></tr>\n",
       "</thead>\n",
       "<tbody>\n",
       "\t<tr><th scope=row>5</th><td>fri</td><td>25.0</td><td> TRUE</td></tr>\n",
       "\t<tr><th scope=row>4</th><td>thu</td><td>24.3</td><td>FALSE</td></tr>\n",
       "\t<tr><th scope=row>3</th><td>wed</td><td>23.0</td><td>FALSE</td></tr>\n",
       "\t<tr><th scope=row>1</th><td>mon</td><td>22.2</td><td> TRUE</td></tr>\n",
       "\t<tr><th scope=row>2</th><td>tue</td><td>21.0</td><td> TRUE</td></tr>\n",
       "</tbody>\n",
       "</table>\n"
      ],
      "text/latex": [
       "A data.frame: 5 × 3\n",
       "\\begin{tabular}{r|lll}\n",
       "  & days & temp & rain\\\\\n",
       "  & <chr> & <dbl> & <lgl>\\\\\n",
       "\\hline\n",
       "\t5 & fri & 25.0 &  TRUE\\\\\n",
       "\t4 & thu & 24.3 & FALSE\\\\\n",
       "\t3 & wed & 23.0 & FALSE\\\\\n",
       "\t1 & mon & 22.2 &  TRUE\\\\\n",
       "\t2 & tue & 21.0 &  TRUE\\\\\n",
       "\\end{tabular}\n"
      ],
      "text/markdown": [
       "\n",
       "A data.frame: 5 × 3\n",
       "\n",
       "| <!--/--> | days &lt;chr&gt; | temp &lt;dbl&gt; | rain &lt;lgl&gt; |\n",
       "|---|---|---|---|\n",
       "| 5 | fri | 25.0 |  TRUE |\n",
       "| 4 | thu | 24.3 | FALSE |\n",
       "| 3 | wed | 23.0 | FALSE |\n",
       "| 1 | mon | 22.2 |  TRUE |\n",
       "| 2 | tue | 21.0 |  TRUE |\n",
       "\n"
      ],
      "text/plain": [
       "  days temp rain \n",
       "5 fri  25.0  TRUE\n",
       "4 thu  24.3 FALSE\n",
       "3 wed  23.0 FALSE\n",
       "1 mon  22.2  TRUE\n",
       "2 tue  21.0  TRUE"
      ]
     },
     "metadata": {},
     "output_type": "display_data"
    }
   ],
   "source": [
    "df[desc.temp,]"
   ]
  },
  {
   "cell_type": "markdown",
   "id": "3bd03b87",
   "metadata": {},
   "source": [
    "We could have also used the other column selection methods we learned:"
   ]
  },
  {
   "cell_type": "code",
   "execution_count": 72,
   "id": "f5812ee4",
   "metadata": {},
   "outputs": [
    {
     "data": {
      "text/html": [
       "<table class=\"dataframe\">\n",
       "<caption>A data.frame: 5 × 3</caption>\n",
       "<thead>\n",
       "\t<tr><th></th><th scope=col>days</th><th scope=col>temp</th><th scope=col>rain</th></tr>\n",
       "\t<tr><th></th><th scope=col>&lt;chr&gt;</th><th scope=col>&lt;dbl&gt;</th><th scope=col>&lt;lgl&gt;</th></tr>\n",
       "</thead>\n",
       "<tbody>\n",
       "\t<tr><th scope=row>2</th><td>tue</td><td>21.0</td><td> TRUE</td></tr>\n",
       "\t<tr><th scope=row>1</th><td>mon</td><td>22.2</td><td> TRUE</td></tr>\n",
       "\t<tr><th scope=row>3</th><td>wed</td><td>23.0</td><td>FALSE</td></tr>\n",
       "\t<tr><th scope=row>4</th><td>thu</td><td>24.3</td><td>FALSE</td></tr>\n",
       "\t<tr><th scope=row>5</th><td>fri</td><td>25.0</td><td> TRUE</td></tr>\n",
       "</tbody>\n",
       "</table>\n"
      ],
      "text/latex": [
       "A data.frame: 5 × 3\n",
       "\\begin{tabular}{r|lll}\n",
       "  & days & temp & rain\\\\\n",
       "  & <chr> & <dbl> & <lgl>\\\\\n",
       "\\hline\n",
       "\t2 & tue & 21.0 &  TRUE\\\\\n",
       "\t1 & mon & 22.2 &  TRUE\\\\\n",
       "\t3 & wed & 23.0 & FALSE\\\\\n",
       "\t4 & thu & 24.3 & FALSE\\\\\n",
       "\t5 & fri & 25.0 &  TRUE\\\\\n",
       "\\end{tabular}\n"
      ],
      "text/markdown": [
       "\n",
       "A data.frame: 5 × 3\n",
       "\n",
       "| <!--/--> | days &lt;chr&gt; | temp &lt;dbl&gt; | rain &lt;lgl&gt; |\n",
       "|---|---|---|---|\n",
       "| 2 | tue | 21.0 |  TRUE |\n",
       "| 1 | mon | 22.2 |  TRUE |\n",
       "| 3 | wed | 23.0 | FALSE |\n",
       "| 4 | thu | 24.3 | FALSE |\n",
       "| 5 | fri | 25.0 |  TRUE |\n",
       "\n"
      ],
      "text/plain": [
       "  days temp rain \n",
       "2 tue  21.0  TRUE\n",
       "1 mon  22.2  TRUE\n",
       "3 wed  23.0 FALSE\n",
       "4 thu  24.3 FALSE\n",
       "5 fri  25.0  TRUE"
      ]
     },
     "metadata": {},
     "output_type": "display_data"
    }
   ],
   "source": [
    "sort.temp <- order(df$temp)\n",
    "df[sort.temp,]"
   ]
  },
  {
   "cell_type": "markdown",
   "id": "632b2bb7",
   "metadata": {},
   "source": [
    "## Merging Data Frames\n",
    "Let's learn how to merge Data Frames together (you'll use this in your Final Data Frame Project!)"
   ]
  },
  {
   "cell_type": "code",
   "execution_count": 73,
   "id": "1b711b83",
   "metadata": {},
   "outputs": [],
   "source": [
    "## use character columns of names to get sensible sort order\n",
    "authors <- data.frame(\n",
    "    surname = I(c(\"Tukey\", \"Venables\", \"Tierney\", \"Ripley\", \"McNeil\")),\n",
    "    nationality = c(\"US\", \"Australia\", \"US\", \"UK\", \"Australia\"),\n",
    "    deceased = c(\"yes\", rep(\"no\", 4)))"
   ]
  },
  {
   "cell_type": "code",
   "execution_count": 74,
   "id": "e5c52c9f",
   "metadata": {},
   "outputs": [],
   "source": [
    "books <- data.frame(\n",
    "    name = I(c(\"Tukey\", \"Venables\", \"Tierney\",\n",
    "             \"Ripley\", \"Ripley\", \"McNeil\", \"R Core\")),\n",
    "    title = c(\"Exploratory Data Analysis\",\n",
    "              \"Modern Applied Statistics ...\",\n",
    "              \"LISP-STAT\",\n",
    "              \"Spatial Statistics\", \"Stochastic Simulation\",\n",
    "              \"Interactive Data Analysis\",\n",
    "              \"An Introduction to R\"),\n",
    "    other.author = c(NA, \"Ripley\", NA, NA, NA, NA,\n",
    "                     \"Venables & Smith\"))"
   ]
  },
  {
   "cell_type": "code",
   "execution_count": 138,
   "id": "925e1bba",
   "metadata": {},
   "outputs": [
    {
     "data": {
      "text/html": [
       "<table class=\"dataframe\">\n",
       "<caption>A data.frame: 5 × 3</caption>\n",
       "<thead>\n",
       "\t<tr><th scope=col>surname</th><th scope=col>nationality</th><th scope=col>deceased</th></tr>\n",
       "\t<tr><th scope=col>&lt;I&lt;chr&gt;&gt;</th><th scope=col>&lt;chr&gt;</th><th scope=col>&lt;chr&gt;</th></tr>\n",
       "</thead>\n",
       "<tbody>\n",
       "\t<tr><td>Tukey   </td><td>US       </td><td>yes</td></tr>\n",
       "\t<tr><td>Venables</td><td>Australia</td><td>no </td></tr>\n",
       "\t<tr><td>Tierney </td><td>US       </td><td>no </td></tr>\n",
       "\t<tr><td>Ripley  </td><td>UK       </td><td>no </td></tr>\n",
       "\t<tr><td>McNeil  </td><td>Australia</td><td>no </td></tr>\n",
       "</tbody>\n",
       "</table>\n"
      ],
      "text/latex": [
       "A data.frame: 5 × 3\n",
       "\\begin{tabular}{lll}\n",
       " surname & nationality & deceased\\\\\n",
       " <I<chr>> & <chr> & <chr>\\\\\n",
       "\\hline\n",
       "\t Tukey    & US        & yes\\\\\n",
       "\t Venables & Australia & no \\\\\n",
       "\t Tierney  & US        & no \\\\\n",
       "\t Ripley   & UK        & no \\\\\n",
       "\t McNeil   & Australia & no \\\\\n",
       "\\end{tabular}\n"
      ],
      "text/markdown": [
       "\n",
       "A data.frame: 5 × 3\n",
       "\n",
       "| surname &lt;I&lt;chr&gt;&gt; | nationality &lt;chr&gt; | deceased &lt;chr&gt; |\n",
       "|---|---|---|\n",
       "| Tukey    | US        | yes |\n",
       "| Venables | Australia | no  |\n",
       "| Tierney  | US        | no  |\n",
       "| Ripley   | UK        | no  |\n",
       "| McNeil   | Australia | no  |\n",
       "\n"
      ],
      "text/plain": [
       "  surname  nationality deceased\n",
       "1 Tukey    US          yes     \n",
       "2 Venables Australia   no      \n",
       "3 Tierney  US          no      \n",
       "4 Ripley   UK          no      \n",
       "5 McNeil   Australia   no      "
      ]
     },
     "metadata": {},
     "output_type": "display_data"
    }
   ],
   "source": [
    "authors"
   ]
  },
  {
   "cell_type": "code",
   "execution_count": 139,
   "id": "30fca9e4",
   "metadata": {},
   "outputs": [
    {
     "data": {
      "text/html": [
       "<table class=\"dataframe\">\n",
       "<caption>A data.frame: 7 × 3</caption>\n",
       "<thead>\n",
       "\t<tr><th scope=col>name</th><th scope=col>title</th><th scope=col>other.author</th></tr>\n",
       "\t<tr><th scope=col>&lt;I&lt;chr&gt;&gt;</th><th scope=col>&lt;chr&gt;</th><th scope=col>&lt;chr&gt;</th></tr>\n",
       "</thead>\n",
       "<tbody>\n",
       "\t<tr><td>Tukey   </td><td>Exploratory Data Analysis    </td><td>NA              </td></tr>\n",
       "\t<tr><td>Venables</td><td>Modern Applied Statistics ...</td><td>Ripley          </td></tr>\n",
       "\t<tr><td>Tierney </td><td>LISP-STAT                    </td><td>NA              </td></tr>\n",
       "\t<tr><td>Ripley  </td><td>Spatial Statistics           </td><td>NA              </td></tr>\n",
       "\t<tr><td>Ripley  </td><td>Stochastic Simulation        </td><td>NA              </td></tr>\n",
       "\t<tr><td>McNeil  </td><td>Interactive Data Analysis    </td><td>NA              </td></tr>\n",
       "\t<tr><td><span style=white-space:pre-wrap>R Core  </span></td><td><span style=white-space:pre-wrap>An Introduction to R         </span></td><td>Venables &amp; Smith</td></tr>\n",
       "</tbody>\n",
       "</table>\n"
      ],
      "text/latex": [
       "A data.frame: 7 × 3\n",
       "\\begin{tabular}{lll}\n",
       " name & title & other.author\\\\\n",
       " <I<chr>> & <chr> & <chr>\\\\\n",
       "\\hline\n",
       "\t Tukey    & Exploratory Data Analysis     & NA              \\\\\n",
       "\t Venables & Modern Applied Statistics ... & Ripley          \\\\\n",
       "\t Tierney  & LISP-STAT                     & NA              \\\\\n",
       "\t Ripley   & Spatial Statistics            & NA              \\\\\n",
       "\t Ripley   & Stochastic Simulation         & NA              \\\\\n",
       "\t McNeil   & Interactive Data Analysis     & NA              \\\\\n",
       "\t R Core   & An Introduction to R          & Venables \\& Smith\\\\\n",
       "\\end{tabular}\n"
      ],
      "text/markdown": [
       "\n",
       "A data.frame: 7 × 3\n",
       "\n",
       "| name &lt;I&lt;chr&gt;&gt; | title &lt;chr&gt; | other.author &lt;chr&gt; |\n",
       "|---|---|---|\n",
       "| Tukey    | Exploratory Data Analysis     | NA               |\n",
       "| Venables | Modern Applied Statistics ... | Ripley           |\n",
       "| Tierney  | LISP-STAT                     | NA               |\n",
       "| Ripley   | Spatial Statistics            | NA               |\n",
       "| Ripley   | Stochastic Simulation         | NA               |\n",
       "| McNeil   | Interactive Data Analysis     | NA               |\n",
       "| R Core   | An Introduction to R          | Venables &amp; Smith |\n",
       "\n"
      ],
      "text/plain": [
       "  name     title                         other.author    \n",
       "1 Tukey    Exploratory Data Analysis     NA              \n",
       "2 Venables Modern Applied Statistics ... Ripley          \n",
       "3 Tierney  LISP-STAT                     NA              \n",
       "4 Ripley   Spatial Statistics            NA              \n",
       "5 Ripley   Stochastic Simulation         NA              \n",
       "6 McNeil   Interactive Data Analysis     NA              \n",
       "7 R Core   An Introduction to R          Venables & Smith"
      ]
     },
     "metadata": {},
     "output_type": "display_data"
    }
   ],
   "source": [
    "books"
   ]
  },
  {
   "cell_type": "code",
   "execution_count": 76,
   "id": "ea7b5e41",
   "metadata": {},
   "outputs": [
    {
     "data": {
      "text/html": [
       "<table class=\"dataframe\">\n",
       "<caption>A data.frame: 6 × 5</caption>\n",
       "<thead>\n",
       "\t<tr><th scope=col>surname</th><th scope=col>nationality</th><th scope=col>deceased</th><th scope=col>title</th><th scope=col>other.author</th></tr>\n",
       "\t<tr><th scope=col>&lt;I&lt;chr&gt;&gt;</th><th scope=col>&lt;chr&gt;</th><th scope=col>&lt;chr&gt;</th><th scope=col>&lt;chr&gt;</th><th scope=col>&lt;chr&gt;</th></tr>\n",
       "</thead>\n",
       "<tbody>\n",
       "\t<tr><td>McNeil  </td><td>Australia</td><td>no </td><td>Interactive Data Analysis    </td><td>NA    </td></tr>\n",
       "\t<tr><td>Ripley  </td><td>UK       </td><td>no </td><td>Spatial Statistics           </td><td>NA    </td></tr>\n",
       "\t<tr><td>Ripley  </td><td>UK       </td><td>no </td><td>Stochastic Simulation        </td><td>NA    </td></tr>\n",
       "\t<tr><td>Tierney </td><td>US       </td><td>no </td><td>LISP-STAT                    </td><td>NA    </td></tr>\n",
       "\t<tr><td>Tukey   </td><td>US       </td><td>yes</td><td>Exploratory Data Analysis    </td><td>NA    </td></tr>\n",
       "\t<tr><td>Venables</td><td>Australia</td><td>no </td><td>Modern Applied Statistics ...</td><td>Ripley</td></tr>\n",
       "</tbody>\n",
       "</table>\n"
      ],
      "text/latex": [
       "A data.frame: 6 × 5\n",
       "\\begin{tabular}{lllll}\n",
       " surname & nationality & deceased & title & other.author\\\\\n",
       " <I<chr>> & <chr> & <chr> & <chr> & <chr>\\\\\n",
       "\\hline\n",
       "\t McNeil   & Australia & no  & Interactive Data Analysis     & NA    \\\\\n",
       "\t Ripley   & UK        & no  & Spatial Statistics            & NA    \\\\\n",
       "\t Ripley   & UK        & no  & Stochastic Simulation         & NA    \\\\\n",
       "\t Tierney  & US        & no  & LISP-STAT                     & NA    \\\\\n",
       "\t Tukey    & US        & yes & Exploratory Data Analysis     & NA    \\\\\n",
       "\t Venables & Australia & no  & Modern Applied Statistics ... & Ripley\\\\\n",
       "\\end{tabular}\n"
      ],
      "text/markdown": [
       "\n",
       "A data.frame: 6 × 5\n",
       "\n",
       "| surname &lt;I&lt;chr&gt;&gt; | nationality &lt;chr&gt; | deceased &lt;chr&gt; | title &lt;chr&gt; | other.author &lt;chr&gt; |\n",
       "|---|---|---|---|---|\n",
       "| McNeil   | Australia | no  | Interactive Data Analysis     | NA     |\n",
       "| Ripley   | UK        | no  | Spatial Statistics            | NA     |\n",
       "| Ripley   | UK        | no  | Stochastic Simulation         | NA     |\n",
       "| Tierney  | US        | no  | LISP-STAT                     | NA     |\n",
       "| Tukey    | US        | yes | Exploratory Data Analysis     | NA     |\n",
       "| Venables | Australia | no  | Modern Applied Statistics ... | Ripley |\n",
       "\n"
      ],
      "text/plain": [
       "  surname  nationality deceased title                         other.author\n",
       "1 McNeil   Australia   no       Interactive Data Analysis     NA          \n",
       "2 Ripley   UK          no       Spatial Statistics            NA          \n",
       "3 Ripley   UK          no       Stochastic Simulation         NA          \n",
       "4 Tierney  US          no       LISP-STAT                     NA          \n",
       "5 Tukey    US          yes      Exploratory Data Analysis     NA          \n",
       "6 Venables Australia   no       Modern Applied Statistics ... Ripley      "
      ]
     },
     "metadata": {},
     "output_type": "display_data"
    }
   ],
   "source": [
    "(m1 <- merge(authors, books, by.x = \"surname\", by.y = \"name\"))"
   ]
  },
  {
   "cell_type": "code",
   "execution_count": 98,
   "id": "86d91c36",
   "metadata": {},
   "outputs": [
    {
     "data": {
      "text/html": [
       "<table class=\"dataframe\">\n",
       "<caption>A data.frame: 6 × 5</caption>\n",
       "<thead>\n",
       "\t<tr><th scope=col>name</th><th scope=col>title</th><th scope=col>other.author</th><th scope=col>nationality</th><th scope=col>deceased</th></tr>\n",
       "\t<tr><th scope=col>&lt;I&lt;chr&gt;&gt;</th><th scope=col>&lt;chr&gt;</th><th scope=col>&lt;chr&gt;</th><th scope=col>&lt;chr&gt;</th><th scope=col>&lt;chr&gt;</th></tr>\n",
       "</thead>\n",
       "<tbody>\n",
       "\t<tr><td>McNeil  </td><td>Interactive Data Analysis    </td><td>NA    </td><td>Australia</td><td>no </td></tr>\n",
       "\t<tr><td>Ripley  </td><td>Spatial Statistics           </td><td>NA    </td><td>UK       </td><td>no </td></tr>\n",
       "\t<tr><td>Ripley  </td><td>Stochastic Simulation        </td><td>NA    </td><td>UK       </td><td>no </td></tr>\n",
       "\t<tr><td>Tierney </td><td>LISP-STAT                    </td><td>NA    </td><td>US       </td><td>no </td></tr>\n",
       "\t<tr><td>Tukey   </td><td>Exploratory Data Analysis    </td><td>NA    </td><td>US       </td><td>yes</td></tr>\n",
       "\t<tr><td>Venables</td><td>Modern Applied Statistics ...</td><td>Ripley</td><td>Australia</td><td>no </td></tr>\n",
       "</tbody>\n",
       "</table>\n"
      ],
      "text/latex": [
       "A data.frame: 6 × 5\n",
       "\\begin{tabular}{lllll}\n",
       " name & title & other.author & nationality & deceased\\\\\n",
       " <I<chr>> & <chr> & <chr> & <chr> & <chr>\\\\\n",
       "\\hline\n",
       "\t McNeil   & Interactive Data Analysis     & NA     & Australia & no \\\\\n",
       "\t Ripley   & Spatial Statistics            & NA     & UK        & no \\\\\n",
       "\t Ripley   & Stochastic Simulation         & NA     & UK        & no \\\\\n",
       "\t Tierney  & LISP-STAT                     & NA     & US        & no \\\\\n",
       "\t Tukey    & Exploratory Data Analysis     & NA     & US        & yes\\\\\n",
       "\t Venables & Modern Applied Statistics ... & Ripley & Australia & no \\\\\n",
       "\\end{tabular}\n"
      ],
      "text/markdown": [
       "\n",
       "A data.frame: 6 × 5\n",
       "\n",
       "| name &lt;I&lt;chr&gt;&gt; | title &lt;chr&gt; | other.author &lt;chr&gt; | nationality &lt;chr&gt; | deceased &lt;chr&gt; |\n",
       "|---|---|---|---|---|\n",
       "| McNeil   | Interactive Data Analysis     | NA     | Australia | no  |\n",
       "| Ripley   | Spatial Statistics            | NA     | UK        | no  |\n",
       "| Ripley   | Stochastic Simulation         | NA     | UK        | no  |\n",
       "| Tierney  | LISP-STAT                     | NA     | US        | no  |\n",
       "| Tukey    | Exploratory Data Analysis     | NA     | US        | yes |\n",
       "| Venables | Modern Applied Statistics ... | Ripley | Australia | no  |\n",
       "\n"
      ],
      "text/plain": [
       "  name     title                         other.author nationality deceased\n",
       "1 McNeil   Interactive Data Analysis     NA           Australia   no      \n",
       "2 Ripley   Spatial Statistics            NA           UK          no      \n",
       "3 Ripley   Stochastic Simulation         NA           UK          no      \n",
       "4 Tierney  LISP-STAT                     NA           US          no      \n",
       "5 Tukey    Exploratory Data Analysis     NA           US          yes     \n",
       "6 Venables Modern Applied Statistics ... Ripley       Australia   no      "
      ]
     },
     "metadata": {},
     "output_type": "display_data"
    },
    {
     "data": {
      "text/html": [
       "<table class=\"dataframe\">\n",
       "<caption>A data.frame: 7 × 5</caption>\n",
       "<thead>\n",
       "\t<tr><th scope=col>surname</th><th scope=col>nationality</th><th scope=col>deceased</th><th scope=col>title</th><th scope=col>other.author</th></tr>\n",
       "\t<tr><th scope=col>&lt;I&lt;chr&gt;&gt;</th><th scope=col>&lt;chr&gt;</th><th scope=col>&lt;chr&gt;</th><th scope=col>&lt;chr&gt;</th><th scope=col>&lt;chr&gt;</th></tr>\n",
       "</thead>\n",
       "<tbody>\n",
       "\t<tr><td>McNeil  </td><td>Australia</td><td>no </td><td>Interactive Data Analysis    </td><td>NA              </td></tr>\n",
       "\t<tr><td><span style=white-space:pre-wrap>R Core  </span></td><td><span style=white-space:pre-wrap>NA       </span></td><td>NA </td><td><span style=white-space:pre-wrap>An Introduction to R         </span></td><td>Venables &amp; Smith</td></tr>\n",
       "\t<tr><td>Ripley  </td><td>UK       </td><td>no </td><td>Spatial Statistics           </td><td>NA              </td></tr>\n",
       "\t<tr><td>Ripley  </td><td>UK       </td><td>no </td><td>Stochastic Simulation        </td><td>NA              </td></tr>\n",
       "\t<tr><td>Tierney </td><td>US       </td><td>no </td><td>LISP-STAT                    </td><td>NA              </td></tr>\n",
       "\t<tr><td>Tukey   </td><td>US       </td><td>yes</td><td>Exploratory Data Analysis    </td><td>NA              </td></tr>\n",
       "\t<tr><td>Venables</td><td>Australia</td><td>no </td><td>Modern Applied Statistics ...</td><td>Ripley          </td></tr>\n",
       "</tbody>\n",
       "</table>\n"
      ],
      "text/latex": [
       "A data.frame: 7 × 5\n",
       "\\begin{tabular}{lllll}\n",
       " surname & nationality & deceased & title & other.author\\\\\n",
       " <I<chr>> & <chr> & <chr> & <chr> & <chr>\\\\\n",
       "\\hline\n",
       "\t McNeil   & Australia & no  & Interactive Data Analysis     & NA              \\\\\n",
       "\t R Core   & NA        & NA  & An Introduction to R          & Venables \\& Smith\\\\\n",
       "\t Ripley   & UK        & no  & Spatial Statistics            & NA              \\\\\n",
       "\t Ripley   & UK        & no  & Stochastic Simulation         & NA              \\\\\n",
       "\t Tierney  & US        & no  & LISP-STAT                     & NA              \\\\\n",
       "\t Tukey    & US        & yes & Exploratory Data Analysis     & NA              \\\\\n",
       "\t Venables & Australia & no  & Modern Applied Statistics ... & Ripley          \\\\\n",
       "\\end{tabular}\n"
      ],
      "text/markdown": [
       "\n",
       "A data.frame: 7 × 5\n",
       "\n",
       "| surname &lt;I&lt;chr&gt;&gt; | nationality &lt;chr&gt; | deceased &lt;chr&gt; | title &lt;chr&gt; | other.author &lt;chr&gt; |\n",
       "|---|---|---|---|---|\n",
       "| McNeil   | Australia | no  | Interactive Data Analysis     | NA               |\n",
       "| R Core   | NA        | NA  | An Introduction to R          | Venables &amp; Smith |\n",
       "| Ripley   | UK        | no  | Spatial Statistics            | NA               |\n",
       "| Ripley   | UK        | no  | Stochastic Simulation         | NA               |\n",
       "| Tierney  | US        | no  | LISP-STAT                     | NA               |\n",
       "| Tukey    | US        | yes | Exploratory Data Analysis     | NA               |\n",
       "| Venables | Australia | no  | Modern Applied Statistics ... | Ripley           |\n",
       "\n"
      ],
      "text/plain": [
       "  surname  nationality deceased title                         other.author    \n",
       "1 McNeil   Australia   no       Interactive Data Analysis     NA              \n",
       "2 R Core   NA          NA       An Introduction to R          Venables & Smith\n",
       "3 Ripley   UK          no       Spatial Statistics            NA              \n",
       "4 Ripley   UK          no       Stochastic Simulation         NA              \n",
       "5 Tierney  US          no       LISP-STAT                     NA              \n",
       "6 Tukey    US          yes      Exploratory Data Analysis     NA              \n",
       "7 Venables Australia   no       Modern Applied Statistics ... Ripley          "
      ]
     },
     "metadata": {},
     "output_type": "display_data"
    },
    {
     "data": {
      "text/html": [
       "<table class=\"dataframe\">\n",
       "<caption>A data.frame: 3 × 4</caption>\n",
       "<thead>\n",
       "\t<tr><th scope=col>k1</th><th scope=col>k2</th><th scope=col>data.x</th><th scope=col>data.y</th></tr>\n",
       "\t<tr><th scope=col>&lt;dbl&gt;</th><th scope=col>&lt;dbl&gt;</th><th scope=col>&lt;int&gt;</th><th scope=col>&lt;int&gt;</th></tr>\n",
       "</thead>\n",
       "<tbody>\n",
       "\t<tr><td> 4</td><td> 4</td><td>4</td><td>4</td></tr>\n",
       "\t<tr><td> 5</td><td> 5</td><td>5</td><td>5</td></tr>\n",
       "\t<tr><td>NA</td><td>NA</td><td>2</td><td>1</td></tr>\n",
       "</tbody>\n",
       "</table>\n"
      ],
      "text/latex": [
       "A data.frame: 3 × 4\n",
       "\\begin{tabular}{llll}\n",
       " k1 & k2 & data.x & data.y\\\\\n",
       " <dbl> & <dbl> & <int> & <int>\\\\\n",
       "\\hline\n",
       "\t  4 &  4 & 4 & 4\\\\\n",
       "\t  5 &  5 & 5 & 5\\\\\n",
       "\t NA & NA & 2 & 1\\\\\n",
       "\\end{tabular}\n"
      ],
      "text/markdown": [
       "\n",
       "A data.frame: 3 × 4\n",
       "\n",
       "| k1 &lt;dbl&gt; | k2 &lt;dbl&gt; | data.x &lt;int&gt; | data.y &lt;int&gt; |\n",
       "|---|---|---|---|\n",
       "|  4 |  4 | 4 | 4 |\n",
       "|  5 |  5 | 5 | 5 |\n",
       "| NA | NA | 2 | 1 |\n",
       "\n"
      ],
      "text/plain": [
       "  k1 k2 data.x data.y\n",
       "1  4  4 4      4     \n",
       "2  5  5 5      5     \n",
       "3 NA NA 2      1     "
      ]
     },
     "metadata": {},
     "output_type": "display_data"
    },
    {
     "data": {
      "text/html": [
       "<table class=\"dataframe\">\n",
       "<caption>A data.frame: 6 × 5</caption>\n",
       "<thead>\n",
       "\t<tr><th scope=col>k1</th><th scope=col>k2.x</th><th scope=col>data.x</th><th scope=col>k2.y</th><th scope=col>data.y</th></tr>\n",
       "\t<tr><th scope=col>&lt;dbl&gt;</th><th scope=col>&lt;dbl&gt;</th><th scope=col>&lt;int&gt;</th><th scope=col>&lt;dbl&gt;</th><th scope=col>&lt;int&gt;</th></tr>\n",
       "</thead>\n",
       "<tbody>\n",
       "\t<tr><td> 4</td><td> 4</td><td>4</td><td> 4</td><td>4</td></tr>\n",
       "\t<tr><td> 5</td><td> 5</td><td>5</td><td> 5</td><td>5</td></tr>\n",
       "\t<tr><td>NA</td><td> 1</td><td>1</td><td>NA</td><td>1</td></tr>\n",
       "\t<tr><td>NA</td><td> 1</td><td>1</td><td> 3</td><td>3</td></tr>\n",
       "\t<tr><td>NA</td><td>NA</td><td>2</td><td>NA</td><td>1</td></tr>\n",
       "\t<tr><td>NA</td><td>NA</td><td>2</td><td> 3</td><td>3</td></tr>\n",
       "</tbody>\n",
       "</table>\n"
      ],
      "text/latex": [
       "A data.frame: 6 × 5\n",
       "\\begin{tabular}{lllll}\n",
       " k1 & k2.x & data.x & k2.y & data.y\\\\\n",
       " <dbl> & <dbl> & <int> & <dbl> & <int>\\\\\n",
       "\\hline\n",
       "\t  4 &  4 & 4 &  4 & 4\\\\\n",
       "\t  5 &  5 & 5 &  5 & 5\\\\\n",
       "\t NA &  1 & 1 & NA & 1\\\\\n",
       "\t NA &  1 & 1 &  3 & 3\\\\\n",
       "\t NA & NA & 2 & NA & 1\\\\\n",
       "\t NA & NA & 2 &  3 & 3\\\\\n",
       "\\end{tabular}\n"
      ],
      "text/markdown": [
       "\n",
       "A data.frame: 6 × 5\n",
       "\n",
       "| k1 &lt;dbl&gt; | k2.x &lt;dbl&gt; | data.x &lt;int&gt; | k2.y &lt;dbl&gt; | data.y &lt;int&gt; |\n",
       "|---|---|---|---|---|\n",
       "|  4 |  4 | 4 |  4 | 4 |\n",
       "|  5 |  5 | 5 |  5 | 5 |\n",
       "| NA |  1 | 1 | NA | 1 |\n",
       "| NA |  1 | 1 |  3 | 3 |\n",
       "| NA | NA | 2 | NA | 1 |\n",
       "| NA | NA | 2 |  3 | 3 |\n",
       "\n"
      ],
      "text/plain": [
       "  k1 k2.x data.x k2.y data.y\n",
       "1  4  4   4       4   4     \n",
       "2  5  5   5       5   5     \n",
       "3 NA  1   1      NA   1     \n",
       "4 NA  1   1       3   3     \n",
       "5 NA NA   2      NA   1     \n",
       "6 NA NA   2       3   3     "
      ]
     },
     "metadata": {},
     "output_type": "display_data"
    },
    {
     "data": {
      "text/html": [
       "<table class=\"dataframe\">\n",
       "<caption>A data.frame: 2 × 5</caption>\n",
       "<thead>\n",
       "\t<tr><th scope=col>k2</th><th scope=col>k1.x</th><th scope=col>data.x</th><th scope=col>k1.y</th><th scope=col>data.y</th></tr>\n",
       "\t<tr><th scope=col>&lt;dbl&gt;</th><th scope=col>&lt;dbl&gt;</th><th scope=col>&lt;int&gt;</th><th scope=col>&lt;dbl&gt;</th><th scope=col>&lt;int&gt;</th></tr>\n",
       "</thead>\n",
       "<tbody>\n",
       "\t<tr><td>4</td><td>4</td><td>4</td><td>4</td><td>4</td></tr>\n",
       "\t<tr><td>5</td><td>5</td><td>5</td><td>5</td><td>5</td></tr>\n",
       "</tbody>\n",
       "</table>\n"
      ],
      "text/latex": [
       "A data.frame: 2 × 5\n",
       "\\begin{tabular}{lllll}\n",
       " k2 & k1.x & data.x & k1.y & data.y\\\\\n",
       " <dbl> & <dbl> & <int> & <dbl> & <int>\\\\\n",
       "\\hline\n",
       "\t 4 & 4 & 4 & 4 & 4\\\\\n",
       "\t 5 & 5 & 5 & 5 & 5\\\\\n",
       "\\end{tabular}\n"
      ],
      "text/markdown": [
       "\n",
       "A data.frame: 2 × 5\n",
       "\n",
       "| k2 &lt;dbl&gt; | k1.x &lt;dbl&gt; | data.x &lt;int&gt; | k1.y &lt;dbl&gt; | data.y &lt;int&gt; |\n",
       "|---|---|---|---|---|\n",
       "| 4 | 4 | 4 | 4 | 4 |\n",
       "| 5 | 5 | 5 | 5 | 5 |\n",
       "\n"
      ],
      "text/plain": [
       "  k2 k1.x data.x k1.y data.y\n",
       "1 4  4    4      4    4     \n",
       "2 5  5    5      5    5     "
      ]
     },
     "metadata": {},
     "output_type": "display_data"
    }
   ],
   "source": [
    "(m2 <- merge(books, authors, by.x = \"name\", by.y = \"surname\"))\n",
    "stopifnot(as.character(m1[, 1]) == as.character(m2[, 1]),\n",
    "          all.equal(m1[, -1], m2[, -1][ names(m1)[-1] ]),\n",
    "          dim(merge(m1, m2, by = integer(0))) == c(36, 10))\n",
    "\n",
    "## \"R core\" is missing from authors and appears only here :\n",
    "merge(authors, books, by.x = \"surname\", by.y = \"name\", all = TRUE)\n",
    "\n",
    "## example of using 'incomparables'\n",
    "x <- data.frame(k1 = c(NA,NA,3,4,5), k2 = c(1,NA,NA,4,5), data = 1:5)\n",
    "y <- data.frame(k1 = c(NA,2,NA,4,5), k2 = c(NA,NA,3,4,5), data = 1:5)\n",
    "merge(x, y, by = c(\"k1\",\"k2\")) # NA's match\n",
    "merge(x, y, by = \"k1\") # NA's match, so 6 rows\n",
    "merge(x, y, by = \"k2\", incomparables = NA) # 2 rows"
   ]
  },
  {
   "cell_type": "code",
   "execution_count": 142,
   "id": "d6a5461d",
   "metadata": {},
   "outputs": [],
   "source": [
    "empty <- data.frame() # empty data frame\n",
    "\n",
    "c1 <- 1:10 # vector of integers\n",
    "\n",
    "c2 <- letters[1:10] # vector of strings\n",
    "\n",
    "df <- data.frame(col.name.1=c1,col.name.2=c2)"
   ]
  },
  {
   "cell_type": "markdown",
   "id": "269c218e",
   "metadata": {},
   "source": [
    "## Importing and Exporting Data"
   ]
  },
  {
   "cell_type": "code",
   "execution_count": 143,
   "id": "20f893b6",
   "metadata": {},
   "outputs": [
    {
     "name": "stderr",
     "output_type": "stream",
     "text": [
      "Warning message in file(file, \"rt\"):\n",
      "\"cannot open file 'some.file.name.csv': No such file or directory\"\n"
     ]
    },
    {
     "ename": "ERROR",
     "evalue": "Error in file(file, \"rt\"): cannot open the connection\n",
     "output_type": "error",
     "traceback": [
      "Error in file(file, \"rt\"): cannot open the connection\nTraceback:\n",
      "1. read.csv(\"some.file.name.csv\")",
      "2. read.table(file = file, header = header, sep = sep, quote = quote, \n .     dec = dec, fill = fill, comment.char = comment.char, ...)",
      "3. file(file, \"rt\")"
     ]
    }
   ],
   "source": [
    "d2 <- read.csv('some.file.name.csv')\n",
    "\n",
    "# For Excel Files\n",
    "# Load the readxl package\n",
    "library(readxl)\n",
    "# Call info from the sheets using read.excel\n",
    "df <- read_excel('Sample-Sales-Data.xlsx',sheet='Sheet1')\n",
    "\n",
    "# Output to csv\n",
    "write.csv(df, file='some.file.csv')"
   ]
  },
  {
   "cell_type": "markdown",
   "id": "49a76ec4",
   "metadata": {},
   "source": [
    "### Getting Information about Data Frame"
   ]
  },
  {
   "cell_type": "code",
   "execution_count": 144,
   "id": "9c39ce25",
   "metadata": {},
   "outputs": [
    {
     "data": {
      "text/html": [
       "10"
      ],
      "text/latex": [
       "10"
      ],
      "text/markdown": [
       "10"
      ],
      "text/plain": [
       "[1] 10"
      ]
     },
     "metadata": {},
     "output_type": "display_data"
    },
    {
     "data": {
      "text/html": [
       "2"
      ],
      "text/latex": [
       "2"
      ],
      "text/markdown": [
       "2"
      ],
      "text/plain": [
       "[1] 2"
      ]
     },
     "metadata": {},
     "output_type": "display_data"
    }
   ],
   "source": [
    "# Row and columns counts\n",
    "nrow(df)\n",
    "ncol(df)"
   ]
  },
  {
   "cell_type": "code",
   "execution_count": 145,
   "id": "d62eb003",
   "metadata": {},
   "outputs": [
    {
     "data": {
      "text/html": [
       "<style>\n",
       ".list-inline {list-style: none; margin:0; padding: 0}\n",
       ".list-inline>li {display: inline-block}\n",
       ".list-inline>li:not(:last-child)::after {content: \"\\00b7\"; padding: 0 .5ex}\n",
       "</style>\n",
       "<ol class=list-inline><li>'col.name.1'</li><li>'col.name.2'</li></ol>\n"
      ],
      "text/latex": [
       "\\begin{enumerate*}\n",
       "\\item 'col.name.1'\n",
       "\\item 'col.name.2'\n",
       "\\end{enumerate*}\n"
      ],
      "text/markdown": [
       "1. 'col.name.1'\n",
       "2. 'col.name.2'\n",
       "\n",
       "\n"
      ],
      "text/plain": [
       "[1] \"col.name.1\" \"col.name.2\""
      ]
     },
     "metadata": {},
     "output_type": "display_data"
    }
   ],
   "source": [
    "# Column Names\n",
    "colnames(df)"
   ]
  },
  {
   "cell_type": "code",
   "execution_count": 146,
   "id": "1bdacd0f",
   "metadata": {},
   "outputs": [
    {
     "data": {
      "text/html": [
       "<style>\n",
       ".list-inline {list-style: none; margin:0; padding: 0}\n",
       ".list-inline>li {display: inline-block}\n",
       ".list-inline>li:not(:last-child)::after {content: \"\\00b7\"; padding: 0 .5ex}\n",
       "</style>\n",
       "<ol class=list-inline><li>'1'</li><li>'2'</li><li>'3'</li><li>'4'</li><li>'5'</li><li>'6'</li><li>'7'</li><li>'8'</li><li>'9'</li><li>'10'</li></ol>\n"
      ],
      "text/latex": [
       "\\begin{enumerate*}\n",
       "\\item '1'\n",
       "\\item '2'\n",
       "\\item '3'\n",
       "\\item '4'\n",
       "\\item '5'\n",
       "\\item '6'\n",
       "\\item '7'\n",
       "\\item '8'\n",
       "\\item '9'\n",
       "\\item '10'\n",
       "\\end{enumerate*}\n"
      ],
      "text/markdown": [
       "1. '1'\n",
       "2. '2'\n",
       "3. '3'\n",
       "4. '4'\n",
       "5. '5'\n",
       "6. '6'\n",
       "7. '7'\n",
       "8. '8'\n",
       "9. '9'\n",
       "10. '10'\n",
       "\n",
       "\n"
      ],
      "text/plain": [
       " [1] \"1\"  \"2\"  \"3\"  \"4\"  \"5\"  \"6\"  \"7\"  \"8\"  \"9\"  \"10\""
      ]
     },
     "metadata": {},
     "output_type": "display_data"
    }
   ],
   "source": [
    "# Row names (may just return index)\n",
    "rownames(df)"
   ]
  },
  {
   "cell_type": "markdown",
   "id": "e5e86fa8",
   "metadata": {},
   "source": [
    "### Referencing Cells\n",
    "You can think of the basics as using two sets of brackets for a single cell, and a single set of brackets for multiple cells. For example:"
   ]
  },
  {
   "cell_type": "code",
   "execution_count": 147,
   "id": "3cd6cbf5",
   "metadata": {},
   "outputs": [],
   "source": [
    "vec <- df[[5, 2]] # get cell by [[row,col]] num\n",
    "\n",
    "newdf <- df[1:5, 1:2] # get multiplt cells in new df\n",
    "\n",
    "df[[2, 'col.name.1']] <- 99999 # reassign a single cell"
   ]
  },
  {
   "cell_type": "code",
   "execution_count": 148,
   "id": "efb46bb9",
   "metadata": {},
   "outputs": [
    {
     "data": {
      "text/html": [
       "<table class=\"dataframe\">\n",
       "<caption>A data.frame: 10 × 2</caption>\n",
       "<thead>\n",
       "\t<tr><th scope=col>col.name.1</th><th scope=col>col.name.2</th></tr>\n",
       "\t<tr><th scope=col>&lt;dbl&gt;</th><th scope=col>&lt;chr&gt;</th></tr>\n",
       "</thead>\n",
       "<tbody>\n",
       "\t<tr><td>    1</td><td>a</td></tr>\n",
       "\t<tr><td>99999</td><td>b</td></tr>\n",
       "\t<tr><td>    3</td><td>c</td></tr>\n",
       "\t<tr><td>    4</td><td>d</td></tr>\n",
       "\t<tr><td>    5</td><td>e</td></tr>\n",
       "\t<tr><td>    6</td><td>f</td></tr>\n",
       "\t<tr><td>    7</td><td>g</td></tr>\n",
       "\t<tr><td>    8</td><td>h</td></tr>\n",
       "\t<tr><td>    9</td><td>i</td></tr>\n",
       "\t<tr><td>   10</td><td>j</td></tr>\n",
       "</tbody>\n",
       "</table>\n"
      ],
      "text/latex": [
       "A data.frame: 10 × 2\n",
       "\\begin{tabular}{ll}\n",
       " col.name.1 & col.name.2\\\\\n",
       " <dbl> & <chr>\\\\\n",
       "\\hline\n",
       "\t     1 & a\\\\\n",
       "\t 99999 & b\\\\\n",
       "\t     3 & c\\\\\n",
       "\t     4 & d\\\\\n",
       "\t     5 & e\\\\\n",
       "\t     6 & f\\\\\n",
       "\t     7 & g\\\\\n",
       "\t     8 & h\\\\\n",
       "\t     9 & i\\\\\n",
       "\t    10 & j\\\\\n",
       "\\end{tabular}\n"
      ],
      "text/markdown": [
       "\n",
       "A data.frame: 10 × 2\n",
       "\n",
       "| col.name.1 &lt;dbl&gt; | col.name.2 &lt;chr&gt; |\n",
       "|---|---|\n",
       "|     1 | a |\n",
       "| 99999 | b |\n",
       "|     3 | c |\n",
       "|     4 | d |\n",
       "|     5 | e |\n",
       "|     6 | f |\n",
       "|     7 | g |\n",
       "|     8 | h |\n",
       "|     9 | i |\n",
       "|    10 | j |\n",
       "\n"
      ],
      "text/plain": [
       "   col.name.1 col.name.2\n",
       "1      1      a         \n",
       "2  99999      b         \n",
       "3      3      c         \n",
       "4      4      d         \n",
       "5      5      e         \n",
       "6      6      f         \n",
       "7      7      g         \n",
       "8      8      h         \n",
       "9      9      i         \n",
       "10    10      j         "
      ]
     },
     "metadata": {},
     "output_type": "display_data"
    }
   ],
   "source": [
    "df"
   ]
  },
  {
   "cell_type": "markdown",
   "id": "ccd7733b",
   "metadata": {},
   "source": [
    "### Referencing Rows\n",
    "Usually you'll use the [row,] format"
   ]
  },
  {
   "cell_type": "code",
   "execution_count": 149,
   "id": "3415a406",
   "metadata": {},
   "outputs": [],
   "source": [
    "# returns a data frame (and not a vector!)\n",
    "rowdf <- df[1, ]"
   ]
  },
  {
   "cell_type": "code",
   "execution_count": 150,
   "id": "48a15b1f",
   "metadata": {},
   "outputs": [
    {
     "data": {
      "text/html": [
       "<table class=\"dataframe\">\n",
       "<caption>A data.frame: 1 × 2</caption>\n",
       "<thead>\n",
       "\t<tr><th></th><th scope=col>col.name.1</th><th scope=col>col.name.2</th></tr>\n",
       "\t<tr><th></th><th scope=col>&lt;dbl&gt;</th><th scope=col>&lt;chr&gt;</th></tr>\n",
       "</thead>\n",
       "<tbody>\n",
       "\t<tr><th scope=row>1</th><td>1</td><td>a</td></tr>\n",
       "</tbody>\n",
       "</table>\n"
      ],
      "text/latex": [
       "A data.frame: 1 × 2\n",
       "\\begin{tabular}{r|ll}\n",
       "  & col.name.1 & col.name.2\\\\\n",
       "  & <dbl> & <chr>\\\\\n",
       "\\hline\n",
       "\t1 & 1 & a\\\\\n",
       "\\end{tabular}\n"
      ],
      "text/markdown": [
       "\n",
       "A data.frame: 1 × 2\n",
       "\n",
       "| <!--/--> | col.name.1 &lt;dbl&gt; | col.name.2 &lt;chr&gt; |\n",
       "|---|---|---|\n",
       "| 1 | 1 | a |\n",
       "\n"
      ],
      "text/plain": [
       "  col.name.1 col.name.2\n",
       "1 1          a         "
      ]
     },
     "metadata": {},
     "output_type": "display_data"
    }
   ],
   "source": [
    "rowdf"
   ]
  },
  {
   "cell_type": "code",
   "execution_count": 151,
   "id": "00ebd436",
   "metadata": {},
   "outputs": [
    {
     "name": "stderr",
     "output_type": "stream",
     "text": [
      "Warning message in eval(expr, envir, enclos):\n",
      "\"NAs introduced by coercion\"\n"
     ]
    }
   ],
   "source": [
    "# to get a row as a vector, use following\n",
    "vrow <- as.numeric(as.vector(df[1,]))"
   ]
  },
  {
   "cell_type": "code",
   "execution_count": 152,
   "id": "b4873952",
   "metadata": {},
   "outputs": [
    {
     "data": {
      "text/html": [
       "<style>\n",
       ".list-inline {list-style: none; margin:0; padding: 0}\n",
       ".list-inline>li {display: inline-block}\n",
       ".list-inline>li:not(:last-child)::after {content: \"\\00b7\"; padding: 0 .5ex}\n",
       "</style>\n",
       "<ol class=list-inline><li>1</li><li>&lt;NA&gt;</li></ol>\n"
      ],
      "text/latex": [
       "\\begin{enumerate*}\n",
       "\\item 1\n",
       "\\item <NA>\n",
       "\\end{enumerate*}\n"
      ],
      "text/markdown": [
       "1. 1\n",
       "2. &lt;NA&gt;\n",
       "\n",
       "\n"
      ],
      "text/plain": [
       "[1]  1 NA"
      ]
     },
     "metadata": {},
     "output_type": "display_data"
    }
   ],
   "source": [
    "vrow"
   ]
  },
  {
   "cell_type": "markdown",
   "id": "a2d28135",
   "metadata": {},
   "source": [
    "### Referencing Columns\n",
    "Most column references return a vector:"
   ]
  },
  {
   "cell_type": "code",
   "execution_count": 153,
   "id": "253f122e",
   "metadata": {},
   "outputs": [
    {
     "data": {
      "text/html": [
       "<table class=\"dataframe\">\n",
       "<caption>A data.frame: 6 × 11</caption>\n",
       "<thead>\n",
       "\t<tr><th></th><th scope=col>mpg</th><th scope=col>cyl</th><th scope=col>disp</th><th scope=col>hp</th><th scope=col>drat</th><th scope=col>wt</th><th scope=col>qsec</th><th scope=col>vs</th><th scope=col>am</th><th scope=col>gear</th><th scope=col>carb</th></tr>\n",
       "\t<tr><th></th><th scope=col>&lt;dbl&gt;</th><th scope=col>&lt;dbl&gt;</th><th scope=col>&lt;dbl&gt;</th><th scope=col>&lt;dbl&gt;</th><th scope=col>&lt;dbl&gt;</th><th scope=col>&lt;dbl&gt;</th><th scope=col>&lt;dbl&gt;</th><th scope=col>&lt;dbl&gt;</th><th scope=col>&lt;dbl&gt;</th><th scope=col>&lt;dbl&gt;</th><th scope=col>&lt;dbl&gt;</th></tr>\n",
       "</thead>\n",
       "<tbody>\n",
       "\t<tr><th scope=row>Mazda RX4</th><td>21.0</td><td>6</td><td>160</td><td>110</td><td>3.90</td><td>2.620</td><td>16.46</td><td>0</td><td>1</td><td>4</td><td>4</td></tr>\n",
       "\t<tr><th scope=row>Mazda RX4 Wag</th><td>21.0</td><td>6</td><td>160</td><td>110</td><td>3.90</td><td>2.875</td><td>17.02</td><td>0</td><td>1</td><td>4</td><td>4</td></tr>\n",
       "\t<tr><th scope=row>Datsun 710</th><td>22.8</td><td>4</td><td>108</td><td> 93</td><td>3.85</td><td>2.320</td><td>18.61</td><td>1</td><td>1</td><td>4</td><td>1</td></tr>\n",
       "\t<tr><th scope=row>Hornet 4 Drive</th><td>21.4</td><td>6</td><td>258</td><td>110</td><td>3.08</td><td>3.215</td><td>19.44</td><td>1</td><td>0</td><td>3</td><td>1</td></tr>\n",
       "\t<tr><th scope=row>Hornet Sportabout</th><td>18.7</td><td>8</td><td>360</td><td>175</td><td>3.15</td><td>3.440</td><td>17.02</td><td>0</td><td>0</td><td>3</td><td>2</td></tr>\n",
       "\t<tr><th scope=row>Valiant</th><td>18.1</td><td>6</td><td>225</td><td>105</td><td>2.76</td><td>3.460</td><td>20.22</td><td>1</td><td>0</td><td>3</td><td>1</td></tr>\n",
       "</tbody>\n",
       "</table>\n"
      ],
      "text/latex": [
       "A data.frame: 6 × 11\n",
       "\\begin{tabular}{r|lllllllllll}\n",
       "  & mpg & cyl & disp & hp & drat & wt & qsec & vs & am & gear & carb\\\\\n",
       "  & <dbl> & <dbl> & <dbl> & <dbl> & <dbl> & <dbl> & <dbl> & <dbl> & <dbl> & <dbl> & <dbl>\\\\\n",
       "\\hline\n",
       "\tMazda RX4 & 21.0 & 6 & 160 & 110 & 3.90 & 2.620 & 16.46 & 0 & 1 & 4 & 4\\\\\n",
       "\tMazda RX4 Wag & 21.0 & 6 & 160 & 110 & 3.90 & 2.875 & 17.02 & 0 & 1 & 4 & 4\\\\\n",
       "\tDatsun 710 & 22.8 & 4 & 108 &  93 & 3.85 & 2.320 & 18.61 & 1 & 1 & 4 & 1\\\\\n",
       "\tHornet 4 Drive & 21.4 & 6 & 258 & 110 & 3.08 & 3.215 & 19.44 & 1 & 0 & 3 & 1\\\\\n",
       "\tHornet Sportabout & 18.7 & 8 & 360 & 175 & 3.15 & 3.440 & 17.02 & 0 & 0 & 3 & 2\\\\\n",
       "\tValiant & 18.1 & 6 & 225 & 105 & 2.76 & 3.460 & 20.22 & 1 & 0 & 3 & 1\\\\\n",
       "\\end{tabular}\n"
      ],
      "text/markdown": [
       "\n",
       "A data.frame: 6 × 11\n",
       "\n",
       "| <!--/--> | mpg &lt;dbl&gt; | cyl &lt;dbl&gt; | disp &lt;dbl&gt; | hp &lt;dbl&gt; | drat &lt;dbl&gt; | wt &lt;dbl&gt; | qsec &lt;dbl&gt; | vs &lt;dbl&gt; | am &lt;dbl&gt; | gear &lt;dbl&gt; | carb &lt;dbl&gt; |\n",
       "|---|---|---|---|---|---|---|---|---|---|---|---|\n",
       "| Mazda RX4 | 21.0 | 6 | 160 | 110 | 3.90 | 2.620 | 16.46 | 0 | 1 | 4 | 4 |\n",
       "| Mazda RX4 Wag | 21.0 | 6 | 160 | 110 | 3.90 | 2.875 | 17.02 | 0 | 1 | 4 | 4 |\n",
       "| Datsun 710 | 22.8 | 4 | 108 |  93 | 3.85 | 2.320 | 18.61 | 1 | 1 | 4 | 1 |\n",
       "| Hornet 4 Drive | 21.4 | 6 | 258 | 110 | 3.08 | 3.215 | 19.44 | 1 | 0 | 3 | 1 |\n",
       "| Hornet Sportabout | 18.7 | 8 | 360 | 175 | 3.15 | 3.440 | 17.02 | 0 | 0 | 3 | 2 |\n",
       "| Valiant | 18.1 | 6 | 225 | 105 | 2.76 | 3.460 | 20.22 | 1 | 0 | 3 | 1 |\n",
       "\n"
      ],
      "text/plain": [
       "                  mpg  cyl disp hp  drat wt    qsec  vs am gear carb\n",
       "Mazda RX4         21.0 6   160  110 3.90 2.620 16.46 0  1  4    4   \n",
       "Mazda RX4 Wag     21.0 6   160  110 3.90 2.875 17.02 0  1  4    4   \n",
       "Datsun 710        22.8 4   108   93 3.85 2.320 18.61 1  1  4    1   \n",
       "Hornet 4 Drive    21.4 6   258  110 3.08 3.215 19.44 1  0  3    1   \n",
       "Hornet Sportabout 18.7 8   360  175 3.15 3.440 17.02 0  0  3    2   \n",
       "Valiant           18.1 6   225  105 2.76 3.460 20.22 1  0  3    1   "
      ]
     },
     "metadata": {},
     "output_type": "display_data"
    }
   ],
   "source": [
    "cars <- mtcars\n",
    "head(cars)"
   ]
  },
  {
   "cell_type": "code",
   "execution_count": 154,
   "id": "7b239b55",
   "metadata": {},
   "outputs": [
    {
     "data": {
      "text/html": [
       "<style>\n",
       ".list-inline {list-style: none; margin:0; padding: 0}\n",
       ".list-inline>li {display: inline-block}\n",
       ".list-inline>li:not(:last-child)::after {content: \"\\00b7\"; padding: 0 .5ex}\n",
       "</style>\n",
       "<ol class=list-inline><li>21</li><li>21</li><li>22.8</li><li>21.4</li><li>18.7</li><li>18.1</li><li>14.3</li><li>24.4</li><li>22.8</li><li>19.2</li><li>17.8</li><li>16.4</li><li>17.3</li><li>15.2</li><li>10.4</li><li>10.4</li><li>14.7</li><li>32.4</li><li>30.4</li><li>33.9</li><li>21.5</li><li>15.5</li><li>15.2</li><li>13.3</li><li>19.2</li><li>27.3</li><li>26</li><li>30.4</li><li>15.8</li><li>19.7</li><li>15</li><li>21.4</li></ol>\n"
      ],
      "text/latex": [
       "\\begin{enumerate*}\n",
       "\\item 21\n",
       "\\item 21\n",
       "\\item 22.8\n",
       "\\item 21.4\n",
       "\\item 18.7\n",
       "\\item 18.1\n",
       "\\item 14.3\n",
       "\\item 24.4\n",
       "\\item 22.8\n",
       "\\item 19.2\n",
       "\\item 17.8\n",
       "\\item 16.4\n",
       "\\item 17.3\n",
       "\\item 15.2\n",
       "\\item 10.4\n",
       "\\item 10.4\n",
       "\\item 14.7\n",
       "\\item 32.4\n",
       "\\item 30.4\n",
       "\\item 33.9\n",
       "\\item 21.5\n",
       "\\item 15.5\n",
       "\\item 15.2\n",
       "\\item 13.3\n",
       "\\item 19.2\n",
       "\\item 27.3\n",
       "\\item 26\n",
       "\\item 30.4\n",
       "\\item 15.8\n",
       "\\item 19.7\n",
       "\\item 15\n",
       "\\item 21.4\n",
       "\\end{enumerate*}\n"
      ],
      "text/markdown": [
       "1. 21\n",
       "2. 21\n",
       "3. 22.8\n",
       "4. 21.4\n",
       "5. 18.7\n",
       "6. 18.1\n",
       "7. 14.3\n",
       "8. 24.4\n",
       "9. 22.8\n",
       "10. 19.2\n",
       "11. 17.8\n",
       "12. 16.4\n",
       "13. 17.3\n",
       "14. 15.2\n",
       "15. 10.4\n",
       "16. 10.4\n",
       "17. 14.7\n",
       "18. 32.4\n",
       "19. 30.4\n",
       "20. 33.9\n",
       "21. 21.5\n",
       "22. 15.5\n",
       "23. 15.2\n",
       "24. 13.3\n",
       "25. 19.2\n",
       "26. 27.3\n",
       "27. 26\n",
       "28. 30.4\n",
       "29. 15.8\n",
       "30. 19.7\n",
       "31. 15\n",
       "32. 21.4\n",
       "\n",
       "\n"
      ],
      "text/plain": [
       " [1] 21.0 21.0 22.8 21.4 18.7 18.1 14.3 24.4 22.8 19.2 17.8 16.4 17.3 15.2 10.4\n",
       "[16] 10.4 14.7 32.4 30.4 33.9 21.5 15.5 15.2 13.3 19.2 27.3 26.0 30.4 15.8 19.7\n",
       "[31] 15.0 21.4"
      ]
     },
     "metadata": {},
     "output_type": "display_data"
    },
    {
     "data": {
      "text/html": [
       "<style>\n",
       ".list-inline {list-style: none; margin:0; padding: 0}\n",
       ".list-inline>li {display: inline-block}\n",
       ".list-inline>li:not(:last-child)::after {content: \"\\00b7\"; padding: 0 .5ex}\n",
       "</style>\n",
       "<ol class=list-inline><li>21</li><li>21</li><li>22.8</li><li>21.4</li><li>18.7</li><li>18.1</li><li>14.3</li><li>24.4</li><li>22.8</li><li>19.2</li><li>17.8</li><li>16.4</li><li>17.3</li><li>15.2</li><li>10.4</li><li>10.4</li><li>14.7</li><li>32.4</li><li>30.4</li><li>33.9</li><li>21.5</li><li>15.5</li><li>15.2</li><li>13.3</li><li>19.2</li><li>27.3</li><li>26</li><li>30.4</li><li>15.8</li><li>19.7</li><li>15</li><li>21.4</li></ol>\n"
      ],
      "text/latex": [
       "\\begin{enumerate*}\n",
       "\\item 21\n",
       "\\item 21\n",
       "\\item 22.8\n",
       "\\item 21.4\n",
       "\\item 18.7\n",
       "\\item 18.1\n",
       "\\item 14.3\n",
       "\\item 24.4\n",
       "\\item 22.8\n",
       "\\item 19.2\n",
       "\\item 17.8\n",
       "\\item 16.4\n",
       "\\item 17.3\n",
       "\\item 15.2\n",
       "\\item 10.4\n",
       "\\item 10.4\n",
       "\\item 14.7\n",
       "\\item 32.4\n",
       "\\item 30.4\n",
       "\\item 33.9\n",
       "\\item 21.5\n",
       "\\item 15.5\n",
       "\\item 15.2\n",
       "\\item 13.3\n",
       "\\item 19.2\n",
       "\\item 27.3\n",
       "\\item 26\n",
       "\\item 30.4\n",
       "\\item 15.8\n",
       "\\item 19.7\n",
       "\\item 15\n",
       "\\item 21.4\n",
       "\\end{enumerate*}\n"
      ],
      "text/markdown": [
       "1. 21\n",
       "2. 21\n",
       "3. 22.8\n",
       "4. 21.4\n",
       "5. 18.7\n",
       "6. 18.1\n",
       "7. 14.3\n",
       "8. 24.4\n",
       "9. 22.8\n",
       "10. 19.2\n",
       "11. 17.8\n",
       "12. 16.4\n",
       "13. 17.3\n",
       "14. 15.2\n",
       "15. 10.4\n",
       "16. 10.4\n",
       "17. 14.7\n",
       "18. 32.4\n",
       "19. 30.4\n",
       "20. 33.9\n",
       "21. 21.5\n",
       "22. 15.5\n",
       "23. 15.2\n",
       "24. 13.3\n",
       "25. 19.2\n",
       "26. 27.3\n",
       "27. 26\n",
       "28. 30.4\n",
       "29. 15.8\n",
       "30. 19.7\n",
       "31. 15\n",
       "32. 21.4\n",
       "\n",
       "\n"
      ],
      "text/plain": [
       " [1] 21.0 21.0 22.8 21.4 18.7 18.1 14.3 24.4 22.8 19.2 17.8 16.4 17.3 15.2 10.4\n",
       "[16] 10.4 14.7 32.4 30.4 33.9 21.5 15.5 15.2 13.3 19.2 27.3 26.0 30.4 15.8 19.7\n",
       "[31] 15.0 21.4"
      ]
     },
     "metadata": {},
     "output_type": "display_data"
    },
    {
     "data": {
      "text/html": [
       "<style>\n",
       ".list-inline {list-style: none; margin:0; padding: 0}\n",
       ".list-inline>li {display: inline-block}\n",
       ".list-inline>li:not(:last-child)::after {content: \"\\00b7\"; padding: 0 .5ex}\n",
       "</style>\n",
       "<ol class=list-inline><li>21</li><li>21</li><li>22.8</li><li>21.4</li><li>18.7</li><li>18.1</li><li>14.3</li><li>24.4</li><li>22.8</li><li>19.2</li><li>17.8</li><li>16.4</li><li>17.3</li><li>15.2</li><li>10.4</li><li>10.4</li><li>14.7</li><li>32.4</li><li>30.4</li><li>33.9</li><li>21.5</li><li>15.5</li><li>15.2</li><li>13.3</li><li>19.2</li><li>27.3</li><li>26</li><li>30.4</li><li>15.8</li><li>19.7</li><li>15</li><li>21.4</li></ol>\n"
      ],
      "text/latex": [
       "\\begin{enumerate*}\n",
       "\\item 21\n",
       "\\item 21\n",
       "\\item 22.8\n",
       "\\item 21.4\n",
       "\\item 18.7\n",
       "\\item 18.1\n",
       "\\item 14.3\n",
       "\\item 24.4\n",
       "\\item 22.8\n",
       "\\item 19.2\n",
       "\\item 17.8\n",
       "\\item 16.4\n",
       "\\item 17.3\n",
       "\\item 15.2\n",
       "\\item 10.4\n",
       "\\item 10.4\n",
       "\\item 14.7\n",
       "\\item 32.4\n",
       "\\item 30.4\n",
       "\\item 33.9\n",
       "\\item 21.5\n",
       "\\item 15.5\n",
       "\\item 15.2\n",
       "\\item 13.3\n",
       "\\item 19.2\n",
       "\\item 27.3\n",
       "\\item 26\n",
       "\\item 30.4\n",
       "\\item 15.8\n",
       "\\item 19.7\n",
       "\\item 15\n",
       "\\item 21.4\n",
       "\\end{enumerate*}\n"
      ],
      "text/markdown": [
       "1. 21\n",
       "2. 21\n",
       "3. 22.8\n",
       "4. 21.4\n",
       "5. 18.7\n",
       "6. 18.1\n",
       "7. 14.3\n",
       "8. 24.4\n",
       "9. 22.8\n",
       "10. 19.2\n",
       "11. 17.8\n",
       "12. 16.4\n",
       "13. 17.3\n",
       "14. 15.2\n",
       "15. 10.4\n",
       "16. 10.4\n",
       "17. 14.7\n",
       "18. 32.4\n",
       "19. 30.4\n",
       "20. 33.9\n",
       "21. 21.5\n",
       "22. 15.5\n",
       "23. 15.2\n",
       "24. 13.3\n",
       "25. 19.2\n",
       "26. 27.3\n",
       "27. 26\n",
       "28. 30.4\n",
       "29. 15.8\n",
       "30. 19.7\n",
       "31. 15\n",
       "32. 21.4\n",
       "\n",
       "\n"
      ],
      "text/plain": [
       " [1] 21.0 21.0 22.8 21.4 18.7 18.1 14.3 24.4 22.8 19.2 17.8 16.4 17.3 15.2 10.4\n",
       "[16] 10.4 14.7 32.4 30.4 33.9 21.5 15.5 15.2 13.3 19.2 27.3 26.0 30.4 15.8 19.7\n",
       "[31] 15.0 21.4"
      ]
     },
     "metadata": {},
     "output_type": "display_data"
    },
    {
     "data": {
      "text/html": [
       "<style>\n",
       ".list-inline {list-style: none; margin:0; padding: 0}\n",
       ".list-inline>li {display: inline-block}\n",
       ".list-inline>li:not(:last-child)::after {content: \"\\00b7\"; padding: 0 .5ex}\n",
       "</style>\n",
       "<ol class=list-inline><li>21</li><li>21</li><li>22.8</li><li>21.4</li><li>18.7</li><li>18.1</li><li>14.3</li><li>24.4</li><li>22.8</li><li>19.2</li><li>17.8</li><li>16.4</li><li>17.3</li><li>15.2</li><li>10.4</li><li>10.4</li><li>14.7</li><li>32.4</li><li>30.4</li><li>33.9</li><li>21.5</li><li>15.5</li><li>15.2</li><li>13.3</li><li>19.2</li><li>27.3</li><li>26</li><li>30.4</li><li>15.8</li><li>19.7</li><li>15</li><li>21.4</li></ol>\n"
      ],
      "text/latex": [
       "\\begin{enumerate*}\n",
       "\\item 21\n",
       "\\item 21\n",
       "\\item 22.8\n",
       "\\item 21.4\n",
       "\\item 18.7\n",
       "\\item 18.1\n",
       "\\item 14.3\n",
       "\\item 24.4\n",
       "\\item 22.8\n",
       "\\item 19.2\n",
       "\\item 17.8\n",
       "\\item 16.4\n",
       "\\item 17.3\n",
       "\\item 15.2\n",
       "\\item 10.4\n",
       "\\item 10.4\n",
       "\\item 14.7\n",
       "\\item 32.4\n",
       "\\item 30.4\n",
       "\\item 33.9\n",
       "\\item 21.5\n",
       "\\item 15.5\n",
       "\\item 15.2\n",
       "\\item 13.3\n",
       "\\item 19.2\n",
       "\\item 27.3\n",
       "\\item 26\n",
       "\\item 30.4\n",
       "\\item 15.8\n",
       "\\item 19.7\n",
       "\\item 15\n",
       "\\item 21.4\n",
       "\\end{enumerate*}\n"
      ],
      "text/markdown": [
       "1. 21\n",
       "2. 21\n",
       "3. 22.8\n",
       "4. 21.4\n",
       "5. 18.7\n",
       "6. 18.1\n",
       "7. 14.3\n",
       "8. 24.4\n",
       "9. 22.8\n",
       "10. 19.2\n",
       "11. 17.8\n",
       "12. 16.4\n",
       "13. 17.3\n",
       "14. 15.2\n",
       "15. 10.4\n",
       "16. 10.4\n",
       "17. 14.7\n",
       "18. 32.4\n",
       "19. 30.4\n",
       "20. 33.9\n",
       "21. 21.5\n",
       "22. 15.5\n",
       "23. 15.2\n",
       "24. 13.3\n",
       "25. 19.2\n",
       "26. 27.3\n",
       "27. 26\n",
       "28. 30.4\n",
       "29. 15.8\n",
       "30. 19.7\n",
       "31. 15\n",
       "32. 21.4\n",
       "\n",
       "\n"
      ],
      "text/plain": [
       " [1] 21.0 21.0 22.8 21.4 18.7 18.1 14.3 24.4 22.8 19.2 17.8 16.4 17.3 15.2 10.4\n",
       "[16] 10.4 14.7 32.4 30.4 33.9 21.5 15.5 15.2 13.3 19.2 27.3 26.0 30.4 15.8 19.7\n",
       "[31] 15.0 21.4"
      ]
     },
     "metadata": {},
     "output_type": "display_data"
    }
   ],
   "source": [
    "colv1 <- cars$mpg # returns a vector\n",
    "colv1\n",
    "\n",
    "colv2 <- cars[, 'mpg'] # returns vector\n",
    "colv2\n",
    "\n",
    "colv3<- cars[, 1] # a is int or string\n",
    "colv3\n",
    "\n",
    "colv4 <- cars[['mpg']] # returns a vector\n",
    "colv4"
   ]
  },
  {
   "cell_type": "code",
   "execution_count": 157,
   "id": "f2c46311",
   "metadata": {},
   "outputs": [
    {
     "data": {
      "text/html": [
       "<table class=\"dataframe\">\n",
       "<caption>A data.frame: 6 × 1</caption>\n",
       "<thead>\n",
       "\t<tr><th></th><th scope=col>mpg</th></tr>\n",
       "\t<tr><th></th><th scope=col>&lt;dbl&gt;</th></tr>\n",
       "</thead>\n",
       "<tbody>\n",
       "\t<tr><th scope=row>Mazda RX4</th><td>21.0</td></tr>\n",
       "\t<tr><th scope=row>Mazda RX4 Wag</th><td>21.0</td></tr>\n",
       "\t<tr><th scope=row>Datsun 710</th><td>22.8</td></tr>\n",
       "\t<tr><th scope=row>Hornet 4 Drive</th><td>21.4</td></tr>\n",
       "\t<tr><th scope=row>Hornet Sportabout</th><td>18.7</td></tr>\n",
       "\t<tr><th scope=row>Valiant</th><td>18.1</td></tr>\n",
       "</tbody>\n",
       "</table>\n"
      ],
      "text/latex": [
       "A data.frame: 6 × 1\n",
       "\\begin{tabular}{r|l}\n",
       "  & mpg\\\\\n",
       "  & <dbl>\\\\\n",
       "\\hline\n",
       "\tMazda RX4 & 21.0\\\\\n",
       "\tMazda RX4 Wag & 21.0\\\\\n",
       "\tDatsun 710 & 22.8\\\\\n",
       "\tHornet 4 Drive & 21.4\\\\\n",
       "\tHornet Sportabout & 18.7\\\\\n",
       "\tValiant & 18.1\\\\\n",
       "\\end{tabular}\n"
      ],
      "text/markdown": [
       "\n",
       "A data.frame: 6 × 1\n",
       "\n",
       "| <!--/--> | mpg &lt;dbl&gt; |\n",
       "|---|---|\n",
       "| Mazda RX4 | 21.0 |\n",
       "| Mazda RX4 Wag | 21.0 |\n",
       "| Datsun 710 | 22.8 |\n",
       "| Hornet 4 Drive | 21.4 |\n",
       "| Hornet Sportabout | 18.7 |\n",
       "| Valiant | 18.1 |\n",
       "\n"
      ],
      "text/plain": [
       "                  mpg \n",
       "Mazda RX4         21.0\n",
       "Mazda RX4 Wag     21.0\n",
       "Datsun 710        22.8\n",
       "Hornet 4 Drive    21.4\n",
       "Hornet Sportabout 18.7\n",
       "Valiant           18.1"
      ]
     },
     "metadata": {},
     "output_type": "display_data"
    },
    {
     "data": {
      "text/html": [
       "<table class=\"dataframe\">\n",
       "<caption>A data.frame: 6 × 1</caption>\n",
       "<thead>\n",
       "\t<tr><th></th><th scope=col>mpg</th></tr>\n",
       "\t<tr><th></th><th scope=col>&lt;dbl&gt;</th></tr>\n",
       "</thead>\n",
       "<tbody>\n",
       "\t<tr><th scope=row>Mazda RX4</th><td>21.0</td></tr>\n",
       "\t<tr><th scope=row>Mazda RX4 Wag</th><td>21.0</td></tr>\n",
       "\t<tr><th scope=row>Datsun 710</th><td>22.8</td></tr>\n",
       "\t<tr><th scope=row>Hornet 4 Drive</th><td>21.4</td></tr>\n",
       "\t<tr><th scope=row>Hornet Sportabout</th><td>18.7</td></tr>\n",
       "\t<tr><th scope=row>Valiant</th><td>18.1</td></tr>\n",
       "</tbody>\n",
       "</table>\n"
      ],
      "text/latex": [
       "A data.frame: 6 × 1\n",
       "\\begin{tabular}{r|l}\n",
       "  & mpg\\\\\n",
       "  & <dbl>\\\\\n",
       "\\hline\n",
       "\tMazda RX4 & 21.0\\\\\n",
       "\tMazda RX4 Wag & 21.0\\\\\n",
       "\tDatsun 710 & 22.8\\\\\n",
       "\tHornet 4 Drive & 21.4\\\\\n",
       "\tHornet Sportabout & 18.7\\\\\n",
       "\tValiant & 18.1\\\\\n",
       "\\end{tabular}\n"
      ],
      "text/markdown": [
       "\n",
       "A data.frame: 6 × 1\n",
       "\n",
       "| <!--/--> | mpg &lt;dbl&gt; |\n",
       "|---|---|\n",
       "| Mazda RX4 | 21.0 |\n",
       "| Mazda RX4 Wag | 21.0 |\n",
       "| Datsun 710 | 22.8 |\n",
       "| Hornet 4 Drive | 21.4 |\n",
       "| Hornet Sportabout | 18.7 |\n",
       "| Valiant | 18.1 |\n",
       "\n"
      ],
      "text/plain": [
       "                  mpg \n",
       "Mazda RX4         21.0\n",
       "Mazda RX4 Wag     21.0\n",
       "Datsun 710        22.8\n",
       "Hornet 4 Drive    21.4\n",
       "Hornet Sportabout 18.7\n",
       "Valiant           18.1"
      ]
     },
     "metadata": {},
     "output_type": "display_data"
    }
   ],
   "source": [
    "# Ways of Returning Data Frames\n",
    "mpgdf <- cars['mpg'] # returns 1 col df\n",
    "head(mpgdf)\n",
    "\n",
    "mpgdf2 <- cars[1] # returns 1 col df\n",
    "head(mpgdf2)"
   ]
  },
  {
   "cell_type": "markdown",
   "id": "658b05a4",
   "metadata": {},
   "source": [
    "### Adding Rows"
   ]
  },
  {
   "cell_type": "code",
   "execution_count": 116,
   "id": "a8b850e4",
   "metadata": {},
   "outputs": [
    {
     "data": {
      "text/html": [
       "<table class=\"dataframe\">\n",
       "<caption>A data.frame: 1 × 2</caption>\n",
       "<thead>\n",
       "\t<tr><th scope=col>col.name.1</th><th scope=col>col.name.2</th></tr>\n",
       "\t<tr><th scope=col>&lt;dbl&gt;</th><th scope=col>&lt;chr&gt;</th></tr>\n",
       "</thead>\n",
       "<tbody>\n",
       "\t<tr><td>2000</td><td>new</td></tr>\n",
       "</tbody>\n",
       "</table>\n"
      ],
      "text/latex": [
       "A data.frame: 1 × 2\n",
       "\\begin{tabular}{ll}\n",
       " col.name.1 & col.name.2\\\\\n",
       " <dbl> & <chr>\\\\\n",
       "\\hline\n",
       "\t 2000 & new\\\\\n",
       "\\end{tabular}\n"
      ],
      "text/markdown": [
       "\n",
       "A data.frame: 1 × 2\n",
       "\n",
       "| col.name.1 &lt;dbl&gt; | col.name.2 &lt;chr&gt; |\n",
       "|---|---|\n",
       "| 2000 | new |\n",
       "\n"
      ],
      "text/plain": [
       "  col.name.1 col.name.2\n",
       "1 2000       new       "
      ]
     },
     "metadata": {},
     "output_type": "display_data"
    }
   ],
   "source": [
    "# Both arguments are DFs)\n",
    "df2 <- data.frame(col.name.1=2000,col.name.2='new' )\n",
    "df2\n",
    "\n",
    "# use rbind to bind a new row!\n",
    "dfnew <- rbind(df,df2)"
   ]
  },
  {
   "cell_type": "code",
   "execution_count": 117,
   "id": "4c0cf99f",
   "metadata": {},
   "outputs": [
    {
     "data": {
      "text/html": [
       "<table class=\"dataframe\">\n",
       "<caption>A data.frame: 11 × 2</caption>\n",
       "<thead>\n",
       "\t<tr><th scope=col>col.name.1</th><th scope=col>col.name.2</th></tr>\n",
       "\t<tr><th scope=col>&lt;dbl&gt;</th><th scope=col>&lt;chr&gt;</th></tr>\n",
       "</thead>\n",
       "<tbody>\n",
       "\t<tr><td>    1</td><td>a  </td></tr>\n",
       "\t<tr><td>99999</td><td>b  </td></tr>\n",
       "\t<tr><td>    3</td><td>c  </td></tr>\n",
       "\t<tr><td>    4</td><td>d  </td></tr>\n",
       "\t<tr><td>    5</td><td>e  </td></tr>\n",
       "\t<tr><td>    6</td><td>f  </td></tr>\n",
       "\t<tr><td>    7</td><td>g  </td></tr>\n",
       "\t<tr><td>    8</td><td>h  </td></tr>\n",
       "\t<tr><td>    9</td><td>i  </td></tr>\n",
       "\t<tr><td>   10</td><td>j  </td></tr>\n",
       "\t<tr><td> 2000</td><td>new</td></tr>\n",
       "</tbody>\n",
       "</table>\n"
      ],
      "text/latex": [
       "A data.frame: 11 × 2\n",
       "\\begin{tabular}{ll}\n",
       " col.name.1 & col.name.2\\\\\n",
       " <dbl> & <chr>\\\\\n",
       "\\hline\n",
       "\t     1 & a  \\\\\n",
       "\t 99999 & b  \\\\\n",
       "\t     3 & c  \\\\\n",
       "\t     4 & d  \\\\\n",
       "\t     5 & e  \\\\\n",
       "\t     6 & f  \\\\\n",
       "\t     7 & g  \\\\\n",
       "\t     8 & h  \\\\\n",
       "\t     9 & i  \\\\\n",
       "\t    10 & j  \\\\\n",
       "\t  2000 & new\\\\\n",
       "\\end{tabular}\n"
      ],
      "text/markdown": [
       "\n",
       "A data.frame: 11 × 2\n",
       "\n",
       "| col.name.1 &lt;dbl&gt; | col.name.2 &lt;chr&gt; |\n",
       "|---|---|\n",
       "|     1 | a   |\n",
       "| 99999 | b   |\n",
       "|     3 | c   |\n",
       "|     4 | d   |\n",
       "|     5 | e   |\n",
       "|     6 | f   |\n",
       "|     7 | g   |\n",
       "|     8 | h   |\n",
       "|     9 | i   |\n",
       "|    10 | j   |\n",
       "|  2000 | new |\n",
       "\n"
      ],
      "text/plain": [
       "   col.name.1 col.name.2\n",
       "1      1      a         \n",
       "2  99999      b         \n",
       "3      3      c         \n",
       "4      4      d         \n",
       "5      5      e         \n",
       "6      6      f         \n",
       "7      7      g         \n",
       "8      8      h         \n",
       "9      9      i         \n",
       "10    10      j         \n",
       "11  2000      new       "
      ]
     },
     "metadata": {},
     "output_type": "display_data"
    }
   ],
   "source": [
    "dfnew"
   ]
  },
  {
   "cell_type": "markdown",
   "id": "cc078cf5",
   "metadata": {},
   "source": [
    "### Adding Columns"
   ]
  },
  {
   "cell_type": "code",
   "execution_count": 118,
   "id": "2087b5f0",
   "metadata": {},
   "outputs": [
    {
     "data": {
      "text/html": [
       "<table class=\"dataframe\">\n",
       "<caption>A data.frame: 10 × 3</caption>\n",
       "<thead>\n",
       "\t<tr><th scope=col>col.name.1</th><th scope=col>col.name.2</th><th scope=col>newcol</th></tr>\n",
       "\t<tr><th scope=col>&lt;dbl&gt;</th><th scope=col>&lt;chr&gt;</th><th scope=col>&lt;lgl&gt;</th></tr>\n",
       "</thead>\n",
       "<tbody>\n",
       "\t<tr><td>    1</td><td>a</td><td>NA</td></tr>\n",
       "\t<tr><td>99999</td><td>b</td><td>NA</td></tr>\n",
       "\t<tr><td>    3</td><td>c</td><td>NA</td></tr>\n",
       "\t<tr><td>    4</td><td>d</td><td>NA</td></tr>\n",
       "\t<tr><td>    5</td><td>e</td><td>NA</td></tr>\n",
       "\t<tr><td>    6</td><td>f</td><td>NA</td></tr>\n",
       "\t<tr><td>    7</td><td>g</td><td>NA</td></tr>\n",
       "\t<tr><td>    8</td><td>h</td><td>NA</td></tr>\n",
       "\t<tr><td>    9</td><td>i</td><td>NA</td></tr>\n",
       "\t<tr><td>   10</td><td>j</td><td>NA</td></tr>\n",
       "</tbody>\n",
       "</table>\n"
      ],
      "text/latex": [
       "A data.frame: 10 × 3\n",
       "\\begin{tabular}{lll}\n",
       " col.name.1 & col.name.2 & newcol\\\\\n",
       " <dbl> & <chr> & <lgl>\\\\\n",
       "\\hline\n",
       "\t     1 & a & NA\\\\\n",
       "\t 99999 & b & NA\\\\\n",
       "\t     3 & c & NA\\\\\n",
       "\t     4 & d & NA\\\\\n",
       "\t     5 & e & NA\\\\\n",
       "\t     6 & f & NA\\\\\n",
       "\t     7 & g & NA\\\\\n",
       "\t     8 & h & NA\\\\\n",
       "\t     9 & i & NA\\\\\n",
       "\t    10 & j & NA\\\\\n",
       "\\end{tabular}\n"
      ],
      "text/markdown": [
       "\n",
       "A data.frame: 10 × 3\n",
       "\n",
       "| col.name.1 &lt;dbl&gt; | col.name.2 &lt;chr&gt; | newcol &lt;lgl&gt; |\n",
       "|---|---|---|\n",
       "|     1 | a | NA |\n",
       "| 99999 | b | NA |\n",
       "|     3 | c | NA |\n",
       "|     4 | d | NA |\n",
       "|     5 | e | NA |\n",
       "|     6 | f | NA |\n",
       "|     7 | g | NA |\n",
       "|     8 | h | NA |\n",
       "|     9 | i | NA |\n",
       "|    10 | j | NA |\n",
       "\n"
      ],
      "text/plain": [
       "   col.name.1 col.name.2 newcol\n",
       "1      1      a          NA    \n",
       "2  99999      b          NA    \n",
       "3      3      c          NA    \n",
       "4      4      d          NA    \n",
       "5      5      e          NA    \n",
       "6      6      f          NA    \n",
       "7      7      g          NA    \n",
       "8      8      h          NA    \n",
       "9      9      i          NA    \n",
       "10    10      j          NA    "
      ]
     },
     "metadata": {},
     "output_type": "display_data"
    }
   ],
   "source": [
    "df$newcol <- rep(NA, nrow(df)) # NA column\n",
    "df"
   ]
  },
  {
   "cell_type": "code",
   "execution_count": 119,
   "id": "0969bfb8",
   "metadata": {},
   "outputs": [
    {
     "data": {
      "text/html": [
       "<table class=\"dataframe\">\n",
       "<caption>A data.frame: 10 × 4</caption>\n",
       "<thead>\n",
       "\t<tr><th scope=col>col.name.1</th><th scope=col>col.name.2</th><th scope=col>newcol</th><th scope=col>copy.of.col2</th></tr>\n",
       "\t<tr><th scope=col>&lt;dbl&gt;</th><th scope=col>&lt;chr&gt;</th><th scope=col>&lt;lgl&gt;</th><th scope=col>&lt;chr&gt;</th></tr>\n",
       "</thead>\n",
       "<tbody>\n",
       "\t<tr><td>    1</td><td>a</td><td>NA</td><td>a</td></tr>\n",
       "\t<tr><td>99999</td><td>b</td><td>NA</td><td>b</td></tr>\n",
       "\t<tr><td>    3</td><td>c</td><td>NA</td><td>c</td></tr>\n",
       "\t<tr><td>    4</td><td>d</td><td>NA</td><td>d</td></tr>\n",
       "\t<tr><td>    5</td><td>e</td><td>NA</td><td>e</td></tr>\n",
       "\t<tr><td>    6</td><td>f</td><td>NA</td><td>f</td></tr>\n",
       "\t<tr><td>    7</td><td>g</td><td>NA</td><td>g</td></tr>\n",
       "\t<tr><td>    8</td><td>h</td><td>NA</td><td>h</td></tr>\n",
       "\t<tr><td>    9</td><td>i</td><td>NA</td><td>i</td></tr>\n",
       "\t<tr><td>   10</td><td>j</td><td>NA</td><td>j</td></tr>\n",
       "</tbody>\n",
       "</table>\n"
      ],
      "text/latex": [
       "A data.frame: 10 × 4\n",
       "\\begin{tabular}{llll}\n",
       " col.name.1 & col.name.2 & newcol & copy.of.col2\\\\\n",
       " <dbl> & <chr> & <lgl> & <chr>\\\\\n",
       "\\hline\n",
       "\t     1 & a & NA & a\\\\\n",
       "\t 99999 & b & NA & b\\\\\n",
       "\t     3 & c & NA & c\\\\\n",
       "\t     4 & d & NA & d\\\\\n",
       "\t     5 & e & NA & e\\\\\n",
       "\t     6 & f & NA & f\\\\\n",
       "\t     7 & g & NA & g\\\\\n",
       "\t     8 & h & NA & h\\\\\n",
       "\t     9 & i & NA & i\\\\\n",
       "\t    10 & j & NA & j\\\\\n",
       "\\end{tabular}\n"
      ],
      "text/markdown": [
       "\n",
       "A data.frame: 10 × 4\n",
       "\n",
       "| col.name.1 &lt;dbl&gt; | col.name.2 &lt;chr&gt; | newcol &lt;lgl&gt; | copy.of.col2 &lt;chr&gt; |\n",
       "|---|---|---|---|\n",
       "|     1 | a | NA | a |\n",
       "| 99999 | b | NA | b |\n",
       "|     3 | c | NA | c |\n",
       "|     4 | d | NA | d |\n",
       "|     5 | e | NA | e |\n",
       "|     6 | f | NA | f |\n",
       "|     7 | g | NA | g |\n",
       "|     8 | h | NA | h |\n",
       "|     9 | i | NA | i |\n",
       "|    10 | j | NA | j |\n",
       "\n"
      ],
      "text/plain": [
       "   col.name.1 col.name.2 newcol copy.of.col2\n",
       "1      1      a          NA     a           \n",
       "2  99999      b          NA     b           \n",
       "3      3      c          NA     c           \n",
       "4      4      d          NA     d           \n",
       "5      5      e          NA     e           \n",
       "6      6      f          NA     f           \n",
       "7      7      g          NA     g           \n",
       "8      8      h          NA     h           \n",
       "9      9      i          NA     i           \n",
       "10    10      j          NA     j           "
      ]
     },
     "metadata": {},
     "output_type": "display_data"
    }
   ],
   "source": [
    "df[, 'copy.of.col2'] <- df$col.name.2 # copy a col\n",
    "df"
   ]
  },
  {
   "cell_type": "code",
   "execution_count": 120,
   "id": "34f12107",
   "metadata": {},
   "outputs": [
    {
     "data": {
      "text/html": [
       "<table class=\"dataframe\">\n",
       "<caption>A data.frame: 10 × 5</caption>\n",
       "<thead>\n",
       "\t<tr><th scope=col>col.name.1</th><th scope=col>col.name.2</th><th scope=col>newcol</th><th scope=col>copy.of.col2</th><th scope=col>col1.times.2</th></tr>\n",
       "\t<tr><th scope=col>&lt;dbl&gt;</th><th scope=col>&lt;chr&gt;</th><th scope=col>&lt;lgl&gt;</th><th scope=col>&lt;chr&gt;</th><th scope=col>&lt;dbl&gt;</th></tr>\n",
       "</thead>\n",
       "<tbody>\n",
       "\t<tr><td>    1</td><td>a</td><td>NA</td><td>a</td><td>     2</td></tr>\n",
       "\t<tr><td>99999</td><td>b</td><td>NA</td><td>b</td><td>199998</td></tr>\n",
       "\t<tr><td>    3</td><td>c</td><td>NA</td><td>c</td><td>     6</td></tr>\n",
       "\t<tr><td>    4</td><td>d</td><td>NA</td><td>d</td><td>     8</td></tr>\n",
       "\t<tr><td>    5</td><td>e</td><td>NA</td><td>e</td><td>    10</td></tr>\n",
       "\t<tr><td>    6</td><td>f</td><td>NA</td><td>f</td><td>    12</td></tr>\n",
       "\t<tr><td>    7</td><td>g</td><td>NA</td><td>g</td><td>    14</td></tr>\n",
       "\t<tr><td>    8</td><td>h</td><td>NA</td><td>h</td><td>    16</td></tr>\n",
       "\t<tr><td>    9</td><td>i</td><td>NA</td><td>i</td><td>    18</td></tr>\n",
       "\t<tr><td>   10</td><td>j</td><td>NA</td><td>j</td><td>    20</td></tr>\n",
       "</tbody>\n",
       "</table>\n"
      ],
      "text/latex": [
       "A data.frame: 10 × 5\n",
       "\\begin{tabular}{lllll}\n",
       " col.name.1 & col.name.2 & newcol & copy.of.col2 & col1.times.2\\\\\n",
       " <dbl> & <chr> & <lgl> & <chr> & <dbl>\\\\\n",
       "\\hline\n",
       "\t     1 & a & NA & a &      2\\\\\n",
       "\t 99999 & b & NA & b & 199998\\\\\n",
       "\t     3 & c & NA & c &      6\\\\\n",
       "\t     4 & d & NA & d &      8\\\\\n",
       "\t     5 & e & NA & e &     10\\\\\n",
       "\t     6 & f & NA & f &     12\\\\\n",
       "\t     7 & g & NA & g &     14\\\\\n",
       "\t     8 & h & NA & h &     16\\\\\n",
       "\t     9 & i & NA & i &     18\\\\\n",
       "\t    10 & j & NA & j &     20\\\\\n",
       "\\end{tabular}\n"
      ],
      "text/markdown": [
       "\n",
       "A data.frame: 10 × 5\n",
       "\n",
       "| col.name.1 &lt;dbl&gt; | col.name.2 &lt;chr&gt; | newcol &lt;lgl&gt; | copy.of.col2 &lt;chr&gt; | col1.times.2 &lt;dbl&gt; |\n",
       "|---|---|---|---|---|\n",
       "|     1 | a | NA | a |      2 |\n",
       "| 99999 | b | NA | b | 199998 |\n",
       "|     3 | c | NA | c |      6 |\n",
       "|     4 | d | NA | d |      8 |\n",
       "|     5 | e | NA | e |     10 |\n",
       "|     6 | f | NA | f |     12 |\n",
       "|     7 | g | NA | g |     14 |\n",
       "|     8 | h | NA | h |     16 |\n",
       "|     9 | i | NA | i |     18 |\n",
       "|    10 | j | NA | j |     20 |\n",
       "\n"
      ],
      "text/plain": [
       "   col.name.1 col.name.2 newcol copy.of.col2 col1.times.2\n",
       "1      1      a          NA     a                 2      \n",
       "2  99999      b          NA     b            199998      \n",
       "3      3      c          NA     c                 6      \n",
       "4      4      d          NA     d                 8      \n",
       "5      5      e          NA     e                10      \n",
       "6      6      f          NA     f                12      \n",
       "7      7      g          NA     g                14      \n",
       "8      8      h          NA     h                16      \n",
       "9      9      i          NA     i                18      \n",
       "10    10      j          NA     j                20      "
      ]
     },
     "metadata": {},
     "output_type": "display_data"
    }
   ],
   "source": [
    "# Can also use equations!\n",
    "df[['col1.times.2']] <- df$col.name.1 * 2\n",
    "df"
   ]
  },
  {
   "cell_type": "code",
   "execution_count": 121,
   "id": "8ced1667",
   "metadata": {},
   "outputs": [
    {
     "data": {
      "text/html": [
       "<table class=\"dataframe\">\n",
       "<caption>A data.frame: 10 × 6</caption>\n",
       "<thead>\n",
       "\t<tr><th scope=col>col.name.1</th><th scope=col>col.name.2</th><th scope=col>newcol</th><th scope=col>copy.of.col2</th><th scope=col>col1.times.2</th><th scope=col>df$col.name.1</th></tr>\n",
       "\t<tr><th scope=col>&lt;dbl&gt;</th><th scope=col>&lt;chr&gt;</th><th scope=col>&lt;lgl&gt;</th><th scope=col>&lt;chr&gt;</th><th scope=col>&lt;dbl&gt;</th><th scope=col>&lt;dbl&gt;</th></tr>\n",
       "</thead>\n",
       "<tbody>\n",
       "\t<tr><td>    1</td><td>a</td><td>NA</td><td>a</td><td>     2</td><td>    1</td></tr>\n",
       "\t<tr><td>99999</td><td>b</td><td>NA</td><td>b</td><td>199998</td><td>99999</td></tr>\n",
       "\t<tr><td>    3</td><td>c</td><td>NA</td><td>c</td><td>     6</td><td>    3</td></tr>\n",
       "\t<tr><td>    4</td><td>d</td><td>NA</td><td>d</td><td>     8</td><td>    4</td></tr>\n",
       "\t<tr><td>    5</td><td>e</td><td>NA</td><td>e</td><td>    10</td><td>    5</td></tr>\n",
       "\t<tr><td>    6</td><td>f</td><td>NA</td><td>f</td><td>    12</td><td>    6</td></tr>\n",
       "\t<tr><td>    7</td><td>g</td><td>NA</td><td>g</td><td>    14</td><td>    7</td></tr>\n",
       "\t<tr><td>    8</td><td>h</td><td>NA</td><td>h</td><td>    16</td><td>    8</td></tr>\n",
       "\t<tr><td>    9</td><td>i</td><td>NA</td><td>i</td><td>    18</td><td>    9</td></tr>\n",
       "\t<tr><td>   10</td><td>j</td><td>NA</td><td>j</td><td>    20</td><td>   10</td></tr>\n",
       "</tbody>\n",
       "</table>\n"
      ],
      "text/latex": [
       "A data.frame: 10 × 6\n",
       "\\begin{tabular}{llllll}\n",
       " col.name.1 & col.name.2 & newcol & copy.of.col2 & col1.times.2 & df\\$col.name.1\\\\\n",
       " <dbl> & <chr> & <lgl> & <chr> & <dbl> & <dbl>\\\\\n",
       "\\hline\n",
       "\t     1 & a & NA & a &      2 &     1\\\\\n",
       "\t 99999 & b & NA & b & 199998 & 99999\\\\\n",
       "\t     3 & c & NA & c &      6 &     3\\\\\n",
       "\t     4 & d & NA & d &      8 &     4\\\\\n",
       "\t     5 & e & NA & e &     10 &     5\\\\\n",
       "\t     6 & f & NA & f &     12 &     6\\\\\n",
       "\t     7 & g & NA & g &     14 &     7\\\\\n",
       "\t     8 & h & NA & h &     16 &     8\\\\\n",
       "\t     9 & i & NA & i &     18 &     9\\\\\n",
       "\t    10 & j & NA & j &     20 &    10\\\\\n",
       "\\end{tabular}\n"
      ],
      "text/markdown": [
       "\n",
       "A data.frame: 10 × 6\n",
       "\n",
       "| col.name.1 &lt;dbl&gt; | col.name.2 &lt;chr&gt; | newcol &lt;lgl&gt; | copy.of.col2 &lt;chr&gt; | col1.times.2 &lt;dbl&gt; | df$col.name.1 &lt;dbl&gt; |\n",
       "|---|---|---|---|---|---|\n",
       "|     1 | a | NA | a |      2 |     1 |\n",
       "| 99999 | b | NA | b | 199998 | 99999 |\n",
       "|     3 | c | NA | c |      6 |     3 |\n",
       "|     4 | d | NA | d |      8 |     4 |\n",
       "|     5 | e | NA | e |     10 |     5 |\n",
       "|     6 | f | NA | f |     12 |     6 |\n",
       "|     7 | g | NA | g |     14 |     7 |\n",
       "|     8 | h | NA | h |     16 |     8 |\n",
       "|     9 | i | NA | i |     18 |     9 |\n",
       "|    10 | j | NA | j |     20 |    10 |\n",
       "\n"
      ],
      "text/plain": [
       "   col.name.1 col.name.2 newcol copy.of.col2 col1.times.2 df$col.name.1\n",
       "1      1      a          NA     a                 2           1        \n",
       "2  99999      b          NA     b            199998       99999        \n",
       "3      3      c          NA     c                 6           3        \n",
       "4      4      d          NA     d                 8           4        \n",
       "5      5      e          NA     e                10           5        \n",
       "6      6      f          NA     f                12           6        \n",
       "7      7      g          NA     g                14           7        \n",
       "8      8      h          NA     h                16           8        \n",
       "9      9      i          NA     i                18           9        \n",
       "10    10      j          NA     j                20          10        "
      ]
     },
     "metadata": {},
     "output_type": "display_data"
    }
   ],
   "source": [
    "df3 <- cbind(df, df$col.name.1)\n",
    "df3"
   ]
  },
  {
   "cell_type": "markdown",
   "id": "8a5bd2cb",
   "metadata": {},
   "source": [
    "### Setting Column Names"
   ]
  },
  {
   "cell_type": "code",
   "execution_count": 122,
   "id": "c31875a5",
   "metadata": {},
   "outputs": [
    {
     "data": {
      "text/html": [
       "<table class=\"dataframe\">\n",
       "<caption>A data.frame: 10 × 5</caption>\n",
       "<thead>\n",
       "\t<tr><th scope=col>col.name.1</th><th scope=col>SECOND COLUMN NEW NAME</th><th scope=col>newcol</th><th scope=col>copy.of.col2</th><th scope=col>col1.times.2</th></tr>\n",
       "\t<tr><th scope=col>&lt;dbl&gt;</th><th scope=col>&lt;chr&gt;</th><th scope=col>&lt;lgl&gt;</th><th scope=col>&lt;chr&gt;</th><th scope=col>&lt;dbl&gt;</th></tr>\n",
       "</thead>\n",
       "<tbody>\n",
       "\t<tr><td>    1</td><td>a</td><td>NA</td><td>a</td><td>     2</td></tr>\n",
       "\t<tr><td>99999</td><td>b</td><td>NA</td><td>b</td><td>199998</td></tr>\n",
       "\t<tr><td>    3</td><td>c</td><td>NA</td><td>c</td><td>     6</td></tr>\n",
       "\t<tr><td>    4</td><td>d</td><td>NA</td><td>d</td><td>     8</td></tr>\n",
       "\t<tr><td>    5</td><td>e</td><td>NA</td><td>e</td><td>    10</td></tr>\n",
       "\t<tr><td>    6</td><td>f</td><td>NA</td><td>f</td><td>    12</td></tr>\n",
       "\t<tr><td>    7</td><td>g</td><td>NA</td><td>g</td><td>    14</td></tr>\n",
       "\t<tr><td>    8</td><td>h</td><td>NA</td><td>h</td><td>    16</td></tr>\n",
       "\t<tr><td>    9</td><td>i</td><td>NA</td><td>i</td><td>    18</td></tr>\n",
       "\t<tr><td>   10</td><td>j</td><td>NA</td><td>j</td><td>    20</td></tr>\n",
       "</tbody>\n",
       "</table>\n"
      ],
      "text/latex": [
       "A data.frame: 10 × 5\n",
       "\\begin{tabular}{lllll}\n",
       " col.name.1 & SECOND COLUMN NEW NAME & newcol & copy.of.col2 & col1.times.2\\\\\n",
       " <dbl> & <chr> & <lgl> & <chr> & <dbl>\\\\\n",
       "\\hline\n",
       "\t     1 & a & NA & a &      2\\\\\n",
       "\t 99999 & b & NA & b & 199998\\\\\n",
       "\t     3 & c & NA & c &      6\\\\\n",
       "\t     4 & d & NA & d &      8\\\\\n",
       "\t     5 & e & NA & e &     10\\\\\n",
       "\t     6 & f & NA & f &     12\\\\\n",
       "\t     7 & g & NA & g &     14\\\\\n",
       "\t     8 & h & NA & h &     16\\\\\n",
       "\t     9 & i & NA & i &     18\\\\\n",
       "\t    10 & j & NA & j &     20\\\\\n",
       "\\end{tabular}\n"
      ],
      "text/markdown": [
       "\n",
       "A data.frame: 10 × 5\n",
       "\n",
       "| col.name.1 &lt;dbl&gt; | SECOND COLUMN NEW NAME &lt;chr&gt; | newcol &lt;lgl&gt; | copy.of.col2 &lt;chr&gt; | col1.times.2 &lt;dbl&gt; |\n",
       "|---|---|---|---|---|\n",
       "|     1 | a | NA | a |      2 |\n",
       "| 99999 | b | NA | b | 199998 |\n",
       "|     3 | c | NA | c |      6 |\n",
       "|     4 | d | NA | d |      8 |\n",
       "|     5 | e | NA | e |     10 |\n",
       "|     6 | f | NA | f |     12 |\n",
       "|     7 | g | NA | g |     14 |\n",
       "|     8 | h | NA | h |     16 |\n",
       "|     9 | i | NA | i |     18 |\n",
       "|    10 | j | NA | j |     20 |\n",
       "\n"
      ],
      "text/plain": [
       "   col.name.1 SECOND COLUMN NEW NAME newcol copy.of.col2 col1.times.2\n",
       "1      1      a                      NA     a                 2      \n",
       "2  99999      b                      NA     b            199998      \n",
       "3      3      c                      NA     c                 6      \n",
       "4      4      d                      NA     d                 8      \n",
       "5      5      e                      NA     e                10      \n",
       "6      6      f                      NA     f                12      \n",
       "7      7      g                      NA     g                14      \n",
       "8      8      h                      NA     h                16      \n",
       "9      9      i                      NA     i                18      \n",
       "10    10      j                      NA     j                20      "
      ]
     },
     "metadata": {},
     "output_type": "display_data"
    },
    {
     "data": {
      "text/html": [
       "<table class=\"dataframe\">\n",
       "<caption>A data.frame: 10 × 5</caption>\n",
       "<thead>\n",
       "\t<tr><th scope=col>col.name.1</th><th scope=col>col.name.2</th><th scope=col>newcol</th><th scope=col>copy.of.col2</th><th scope=col>col1.times.2</th></tr>\n",
       "\t<tr><th scope=col>&lt;dbl&gt;</th><th scope=col>&lt;chr&gt;</th><th scope=col>&lt;lgl&gt;</th><th scope=col>&lt;chr&gt;</th><th scope=col>&lt;dbl&gt;</th></tr>\n",
       "</thead>\n",
       "<tbody>\n",
       "\t<tr><td>    1</td><td>a</td><td>NA</td><td>a</td><td>     2</td></tr>\n",
       "\t<tr><td>99999</td><td>b</td><td>NA</td><td>b</td><td>199998</td></tr>\n",
       "\t<tr><td>    3</td><td>c</td><td>NA</td><td>c</td><td>     6</td></tr>\n",
       "\t<tr><td>    4</td><td>d</td><td>NA</td><td>d</td><td>     8</td></tr>\n",
       "\t<tr><td>    5</td><td>e</td><td>NA</td><td>e</td><td>    10</td></tr>\n",
       "\t<tr><td>    6</td><td>f</td><td>NA</td><td>f</td><td>    12</td></tr>\n",
       "\t<tr><td>    7</td><td>g</td><td>NA</td><td>g</td><td>    14</td></tr>\n",
       "\t<tr><td>    8</td><td>h</td><td>NA</td><td>h</td><td>    16</td></tr>\n",
       "\t<tr><td>    9</td><td>i</td><td>NA</td><td>i</td><td>    18</td></tr>\n",
       "\t<tr><td>   10</td><td>j</td><td>NA</td><td>j</td><td>    20</td></tr>\n",
       "</tbody>\n",
       "</table>\n"
      ],
      "text/latex": [
       "A data.frame: 10 × 5\n",
       "\\begin{tabular}{lllll}\n",
       " col.name.1 & col.name.2 & newcol & copy.of.col2 & col1.times.2\\\\\n",
       " <dbl> & <chr> & <lgl> & <chr> & <dbl>\\\\\n",
       "\\hline\n",
       "\t     1 & a & NA & a &      2\\\\\n",
       "\t 99999 & b & NA & b & 199998\\\\\n",
       "\t     3 & c & NA & c &      6\\\\\n",
       "\t     4 & d & NA & d &      8\\\\\n",
       "\t     5 & e & NA & e &     10\\\\\n",
       "\t     6 & f & NA & f &     12\\\\\n",
       "\t     7 & g & NA & g &     14\\\\\n",
       "\t     8 & h & NA & h &     16\\\\\n",
       "\t     9 & i & NA & i &     18\\\\\n",
       "\t    10 & j & NA & j &     20\\\\\n",
       "\\end{tabular}\n"
      ],
      "text/markdown": [
       "\n",
       "A data.frame: 10 × 5\n",
       "\n",
       "| col.name.1 &lt;dbl&gt; | col.name.2 &lt;chr&gt; | newcol &lt;lgl&gt; | copy.of.col2 &lt;chr&gt; | col1.times.2 &lt;dbl&gt; |\n",
       "|---|---|---|---|---|\n",
       "|     1 | a | NA | a |      2 |\n",
       "| 99999 | b | NA | b | 199998 |\n",
       "|     3 | c | NA | c |      6 |\n",
       "|     4 | d | NA | d |      8 |\n",
       "|     5 | e | NA | e |     10 |\n",
       "|     6 | f | NA | f |     12 |\n",
       "|     7 | g | NA | g |     14 |\n",
       "|     8 | h | NA | h |     16 |\n",
       "|     9 | i | NA | i |     18 |\n",
       "|    10 | j | NA | j |     20 |\n",
       "\n"
      ],
      "text/plain": [
       "   col.name.1 col.name.2 newcol copy.of.col2 col1.times.2\n",
       "1      1      a          NA     a                 2      \n",
       "2  99999      b          NA     b            199998      \n",
       "3      3      c          NA     c                 6      \n",
       "4      4      d          NA     d                 8      \n",
       "5      5      e          NA     e                10      \n",
       "6      6      f          NA     f                12      \n",
       "7      7      g          NA     g                14      \n",
       "8      8      h          NA     h                16      \n",
       "9      9      i          NA     i                18      \n",
       "10    10      j          NA     j                20      "
      ]
     },
     "metadata": {},
     "output_type": "display_data"
    }
   ],
   "source": [
    "# Rename second column\n",
    "colnames(df)[2] <- 'SECOND COLUMN NEW NAME'\n",
    "df\n",
    "\n",
    "# Rename all at once with a vector\n",
    "colnames(df) <- c('col.name.1', 'col.name.2', 'newcol', 'copy.of.col2' ,'col1.times.2')\n",
    "df"
   ]
  },
  {
   "cell_type": "markdown",
   "id": "22b7222d",
   "metadata": {},
   "source": [
    "### Selecting Multiple Rows"
   ]
  },
  {
   "cell_type": "code",
   "execution_count": 123,
   "id": "15ce3112",
   "metadata": {},
   "outputs": [
    {
     "data": {
      "text/html": [
       "<table class=\"dataframe\">\n",
       "<caption>A data.frame: 10 × 5</caption>\n",
       "<thead>\n",
       "\t<tr><th></th><th scope=col>col.name.1</th><th scope=col>col.name.2</th><th scope=col>newcol</th><th scope=col>copy.of.col2</th><th scope=col>col1.times.2</th></tr>\n",
       "\t<tr><th></th><th scope=col>&lt;dbl&gt;</th><th scope=col>&lt;chr&gt;</th><th scope=col>&lt;lgl&gt;</th><th scope=col>&lt;chr&gt;</th><th scope=col>&lt;dbl&gt;</th></tr>\n",
       "</thead>\n",
       "<tbody>\n",
       "\t<tr><th scope=row>1</th><td>    1</td><td>a</td><td>NA</td><td>a</td><td>     2</td></tr>\n",
       "\t<tr><th scope=row>2</th><td>99999</td><td>b</td><td>NA</td><td>b</td><td>199998</td></tr>\n",
       "\t<tr><th scope=row>3</th><td>    3</td><td>c</td><td>NA</td><td>c</td><td>     6</td></tr>\n",
       "\t<tr><th scope=row>4</th><td>    4</td><td>d</td><td>NA</td><td>d</td><td>     8</td></tr>\n",
       "\t<tr><th scope=row>5</th><td>    5</td><td>e</td><td>NA</td><td>e</td><td>    10</td></tr>\n",
       "\t<tr><th scope=row>6</th><td>    6</td><td>f</td><td>NA</td><td>f</td><td>    12</td></tr>\n",
       "\t<tr><th scope=row>7</th><td>    7</td><td>g</td><td>NA</td><td>g</td><td>    14</td></tr>\n",
       "\t<tr><th scope=row>8</th><td>    8</td><td>h</td><td>NA</td><td>h</td><td>    16</td></tr>\n",
       "\t<tr><th scope=row>9</th><td>    9</td><td>i</td><td>NA</td><td>i</td><td>    18</td></tr>\n",
       "\t<tr><th scope=row>10</th><td>   10</td><td>j</td><td>NA</td><td>j</td><td>    20</td></tr>\n",
       "</tbody>\n",
       "</table>\n"
      ],
      "text/latex": [
       "A data.frame: 10 × 5\n",
       "\\begin{tabular}{r|lllll}\n",
       "  & col.name.1 & col.name.2 & newcol & copy.of.col2 & col1.times.2\\\\\n",
       "  & <dbl> & <chr> & <lgl> & <chr> & <dbl>\\\\\n",
       "\\hline\n",
       "\t1 &     1 & a & NA & a &      2\\\\\n",
       "\t2 & 99999 & b & NA & b & 199998\\\\\n",
       "\t3 &     3 & c & NA & c &      6\\\\\n",
       "\t4 &     4 & d & NA & d &      8\\\\\n",
       "\t5 &     5 & e & NA & e &     10\\\\\n",
       "\t6 &     6 & f & NA & f &     12\\\\\n",
       "\t7 &     7 & g & NA & g &     14\\\\\n",
       "\t8 &     8 & h & NA & h &     16\\\\\n",
       "\t9 &     9 & i & NA & i &     18\\\\\n",
       "\t10 &    10 & j & NA & j &     20\\\\\n",
       "\\end{tabular}\n"
      ],
      "text/markdown": [
       "\n",
       "A data.frame: 10 × 5\n",
       "\n",
       "| <!--/--> | col.name.1 &lt;dbl&gt; | col.name.2 &lt;chr&gt; | newcol &lt;lgl&gt; | copy.of.col2 &lt;chr&gt; | col1.times.2 &lt;dbl&gt; |\n",
       "|---|---|---|---|---|---|\n",
       "| 1 |     1 | a | NA | a |      2 |\n",
       "| 2 | 99999 | b | NA | b | 199998 |\n",
       "| 3 |     3 | c | NA | c |      6 |\n",
       "| 4 |     4 | d | NA | d |      8 |\n",
       "| 5 |     5 | e | NA | e |     10 |\n",
       "| 6 |     6 | f | NA | f |     12 |\n",
       "| 7 |     7 | g | NA | g |     14 |\n",
       "| 8 |     8 | h | NA | h |     16 |\n",
       "| 9 |     9 | i | NA | i |     18 |\n",
       "| 10 |    10 | j | NA | j |     20 |\n",
       "\n"
      ],
      "text/plain": [
       "   col.name.1 col.name.2 newcol copy.of.col2 col1.times.2\n",
       "1      1      a          NA     a                 2      \n",
       "2  99999      b          NA     b            199998      \n",
       "3      3      c          NA     c                 6      \n",
       "4      4      d          NA     d                 8      \n",
       "5      5      e          NA     e                10      \n",
       "6      6      f          NA     f                12      \n",
       "7      7      g          NA     g                14      \n",
       "8      8      h          NA     h                16      \n",
       "9      9      i          NA     i                18      \n",
       "10    10      j          NA     j                20      "
      ]
     },
     "metadata": {},
     "output_type": "display_data"
    }
   ],
   "source": [
    "first.ten.rows <- df[1:10, ] # Same as head(df, 10)\n",
    "first.ten.rows"
   ]
  },
  {
   "cell_type": "code",
   "execution_count": 124,
   "id": "c37feba9",
   "metadata": {},
   "outputs": [
    {
     "data": {
      "text/html": [
       "<table class=\"dataframe\">\n",
       "<caption>A data.frame: 9 × 5</caption>\n",
       "<thead>\n",
       "\t<tr><th></th><th scope=col>col.name.1</th><th scope=col>col.name.2</th><th scope=col>newcol</th><th scope=col>copy.of.col2</th><th scope=col>col1.times.2</th></tr>\n",
       "\t<tr><th></th><th scope=col>&lt;dbl&gt;</th><th scope=col>&lt;chr&gt;</th><th scope=col>&lt;lgl&gt;</th><th scope=col>&lt;chr&gt;</th><th scope=col>&lt;dbl&gt;</th></tr>\n",
       "</thead>\n",
       "<tbody>\n",
       "\t<tr><th scope=row>1</th><td> 1</td><td>a</td><td>NA</td><td>a</td><td> 2</td></tr>\n",
       "\t<tr><th scope=row>3</th><td> 3</td><td>c</td><td>NA</td><td>c</td><td> 6</td></tr>\n",
       "\t<tr><th scope=row>4</th><td> 4</td><td>d</td><td>NA</td><td>d</td><td> 8</td></tr>\n",
       "\t<tr><th scope=row>5</th><td> 5</td><td>e</td><td>NA</td><td>e</td><td>10</td></tr>\n",
       "\t<tr><th scope=row>6</th><td> 6</td><td>f</td><td>NA</td><td>f</td><td>12</td></tr>\n",
       "\t<tr><th scope=row>7</th><td> 7</td><td>g</td><td>NA</td><td>g</td><td>14</td></tr>\n",
       "\t<tr><th scope=row>8</th><td> 8</td><td>h</td><td>NA</td><td>h</td><td>16</td></tr>\n",
       "\t<tr><th scope=row>9</th><td> 9</td><td>i</td><td>NA</td><td>i</td><td>18</td></tr>\n",
       "\t<tr><th scope=row>10</th><td>10</td><td>j</td><td>NA</td><td>j</td><td>20</td></tr>\n",
       "</tbody>\n",
       "</table>\n"
      ],
      "text/latex": [
       "A data.frame: 9 × 5\n",
       "\\begin{tabular}{r|lllll}\n",
       "  & col.name.1 & col.name.2 & newcol & copy.of.col2 & col1.times.2\\\\\n",
       "  & <dbl> & <chr> & <lgl> & <chr> & <dbl>\\\\\n",
       "\\hline\n",
       "\t1 &  1 & a & NA & a &  2\\\\\n",
       "\t3 &  3 & c & NA & c &  6\\\\\n",
       "\t4 &  4 & d & NA & d &  8\\\\\n",
       "\t5 &  5 & e & NA & e & 10\\\\\n",
       "\t6 &  6 & f & NA & f & 12\\\\\n",
       "\t7 &  7 & g & NA & g & 14\\\\\n",
       "\t8 &  8 & h & NA & h & 16\\\\\n",
       "\t9 &  9 & i & NA & i & 18\\\\\n",
       "\t10 & 10 & j & NA & j & 20\\\\\n",
       "\\end{tabular}\n"
      ],
      "text/markdown": [
       "\n",
       "A data.frame: 9 × 5\n",
       "\n",
       "| <!--/--> | col.name.1 &lt;dbl&gt; | col.name.2 &lt;chr&gt; | newcol &lt;lgl&gt; | copy.of.col2 &lt;chr&gt; | col1.times.2 &lt;dbl&gt; |\n",
       "|---|---|---|---|---|---|\n",
       "| 1 |  1 | a | NA | a |  2 |\n",
       "| 3 |  3 | c | NA | c |  6 |\n",
       "| 4 |  4 | d | NA | d |  8 |\n",
       "| 5 |  5 | e | NA | e | 10 |\n",
       "| 6 |  6 | f | NA | f | 12 |\n",
       "| 7 |  7 | g | NA | g | 14 |\n",
       "| 8 |  8 | h | NA | h | 16 |\n",
       "| 9 |  9 | i | NA | i | 18 |\n",
       "| 10 | 10 | j | NA | j | 20 |\n",
       "\n"
      ],
      "text/plain": [
       "   col.name.1 col.name.2 newcol copy.of.col2 col1.times.2\n",
       "1   1         a          NA     a             2          \n",
       "3   3         c          NA     c             6          \n",
       "4   4         d          NA     d             8          \n",
       "5   5         e          NA     e            10          \n",
       "6   6         f          NA     f            12          \n",
       "7   7         g          NA     g            14          \n",
       "8   8         h          NA     h            16          \n",
       "9   9         i          NA     i            18          \n",
       "10 10         j          NA     j            20          "
      ]
     },
     "metadata": {},
     "output_type": "display_data"
    }
   ],
   "source": [
    "everything.but.row.two <- df[-2, ]\n",
    "everything.but.row.two"
   ]
  },
  {
   "cell_type": "code",
   "execution_count": 125,
   "id": "a596bd1f",
   "metadata": {},
   "outputs": [
    {
     "data": {
      "text/html": [
       "<table class=\"dataframe\">\n",
       "<caption>A data.frame: 3 × 5</caption>\n",
       "<thead>\n",
       "\t<tr><th></th><th scope=col>col.name.1</th><th scope=col>col.name.2</th><th scope=col>newcol</th><th scope=col>copy.of.col2</th><th scope=col>col1.times.2</th></tr>\n",
       "\t<tr><th></th><th scope=col>&lt;dbl&gt;</th><th scope=col>&lt;chr&gt;</th><th scope=col>&lt;lgl&gt;</th><th scope=col>&lt;chr&gt;</th><th scope=col>&lt;dbl&gt;</th></tr>\n",
       "</thead>\n",
       "<tbody>\n",
       "\t<tr><th scope=row>2</th><td>99999</td><td>b</td><td>NA</td><td>b</td><td>199998</td></tr>\n",
       "\t<tr><th scope=row>9</th><td>    9</td><td>i</td><td>NA</td><td>i</td><td>    18</td></tr>\n",
       "\t<tr><th scope=row>10</th><td>   10</td><td>j</td><td>NA</td><td>j</td><td>    20</td></tr>\n",
       "</tbody>\n",
       "</table>\n"
      ],
      "text/latex": [
       "A data.frame: 3 × 5\n",
       "\\begin{tabular}{r|lllll}\n",
       "  & col.name.1 & col.name.2 & newcol & copy.of.col2 & col1.times.2\\\\\n",
       "  & <dbl> & <chr> & <lgl> & <chr> & <dbl>\\\\\n",
       "\\hline\n",
       "\t2 & 99999 & b & NA & b & 199998\\\\\n",
       "\t9 &     9 & i & NA & i &     18\\\\\n",
       "\t10 &    10 & j & NA & j &     20\\\\\n",
       "\\end{tabular}\n"
      ],
      "text/markdown": [
       "\n",
       "A data.frame: 3 × 5\n",
       "\n",
       "| <!--/--> | col.name.1 &lt;dbl&gt; | col.name.2 &lt;chr&gt; | newcol &lt;lgl&gt; | copy.of.col2 &lt;chr&gt; | col1.times.2 &lt;dbl&gt; |\n",
       "|---|---|---|---|---|---|\n",
       "| 2 | 99999 | b | NA | b | 199998 |\n",
       "| 9 |     9 | i | NA | i |     18 |\n",
       "| 10 |    10 | j | NA | j |     20 |\n",
       "\n"
      ],
      "text/plain": [
       "   col.name.1 col.name.2 newcol copy.of.col2 col1.times.2\n",
       "2  99999      b          NA     b            199998      \n",
       "9      9      i          NA     i                18      \n",
       "10    10      j          NA     j                20      "
      ]
     },
     "metadata": {},
     "output_type": "display_data"
    },
    {
     "data": {
      "text/html": [
       "<table class=\"dataframe\">\n",
       "<caption>A data.frame: 3 × 5</caption>\n",
       "<thead>\n",
       "\t<tr><th></th><th scope=col>col.name.1</th><th scope=col>col.name.2</th><th scope=col>newcol</th><th scope=col>copy.of.col2</th><th scope=col>col1.times.2</th></tr>\n",
       "\t<tr><th></th><th scope=col>&lt;dbl&gt;</th><th scope=col>&lt;chr&gt;</th><th scope=col>&lt;lgl&gt;</th><th scope=col>&lt;chr&gt;</th><th scope=col>&lt;dbl&gt;</th></tr>\n",
       "</thead>\n",
       "<tbody>\n",
       "\t<tr><th scope=row>2</th><td>99999</td><td>b</td><td>NA</td><td>b</td><td>199998</td></tr>\n",
       "\t<tr><th scope=row>9</th><td>    9</td><td>i</td><td>NA</td><td>i</td><td>    18</td></tr>\n",
       "\t<tr><th scope=row>10</th><td>   10</td><td>j</td><td>NA</td><td>j</td><td>    20</td></tr>\n",
       "</tbody>\n",
       "</table>\n"
      ],
      "text/latex": [
       "A data.frame: 3 × 5\n",
       "\\begin{tabular}{r|lllll}\n",
       "  & col.name.1 & col.name.2 & newcol & copy.of.col2 & col1.times.2\\\\\n",
       "  & <dbl> & <chr> & <lgl> & <chr> & <dbl>\\\\\n",
       "\\hline\n",
       "\t2 & 99999 & b & NA & b & 199998\\\\\n",
       "\t9 &     9 & i & NA & i &     18\\\\\n",
       "\t10 &    10 & j & NA & j &     20\\\\\n",
       "\\end{tabular}\n"
      ],
      "text/markdown": [
       "\n",
       "A data.frame: 3 × 5\n",
       "\n",
       "| <!--/--> | col.name.1 &lt;dbl&gt; | col.name.2 &lt;chr&gt; | newcol &lt;lgl&gt; | copy.of.col2 &lt;chr&gt; | col1.times.2 &lt;dbl&gt; |\n",
       "|---|---|---|---|---|---|\n",
       "| 2 | 99999 | b | NA | b | 199998 |\n",
       "| 9 |     9 | i | NA | i |     18 |\n",
       "| 10 |    10 | j | NA | j |     20 |\n",
       "\n"
      ],
      "text/plain": [
       "   col.name.1 col.name.2 newcol copy.of.col2 col1.times.2\n",
       "2  99999      b          NA     b            199998      \n",
       "9      9      i          NA     i                18      \n",
       "10    10      j          NA     j                20      "
      ]
     },
     "metadata": {},
     "output_type": "display_data"
    }
   ],
   "source": [
    "# Conditional Selection\n",
    "sub1 <- df[ (df$col.name.1 > 8 & df$col1.times.2 > 10), ]\n",
    "sub1\n",
    "\n",
    "sub2 <- subset(df, col.name.1 > 8 & col1.times.2 > 10)\n",
    "sub2"
   ]
  },
  {
   "cell_type": "markdown",
   "id": "7a1e7e32",
   "metadata": {},
   "source": [
    "### Selecting Multiple Columns"
   ]
  },
  {
   "cell_type": "code",
   "execution_count": 127,
   "id": "8b207f1e",
   "metadata": {},
   "outputs": [
    {
     "data": {
      "text/html": [
       "<table class=\"dataframe\">\n",
       "<caption>A data.frame: 10 × 3</caption>\n",
       "<thead>\n",
       "\t<tr><th scope=col>col.name.1</th><th scope=col>col.name.2</th><th scope=col>newcol</th></tr>\n",
       "\t<tr><th scope=col>&lt;dbl&gt;</th><th scope=col>&lt;chr&gt;</th><th scope=col>&lt;lgl&gt;</th></tr>\n",
       "</thead>\n",
       "<tbody>\n",
       "\t<tr><td>    1</td><td>a</td><td>NA</td></tr>\n",
       "\t<tr><td>99999</td><td>b</td><td>NA</td></tr>\n",
       "\t<tr><td>    3</td><td>c</td><td>NA</td></tr>\n",
       "\t<tr><td>    4</td><td>d</td><td>NA</td></tr>\n",
       "\t<tr><td>    5</td><td>e</td><td>NA</td></tr>\n",
       "\t<tr><td>    6</td><td>f</td><td>NA</td></tr>\n",
       "\t<tr><td>    7</td><td>g</td><td>NA</td></tr>\n",
       "\t<tr><td>    8</td><td>h</td><td>NA</td></tr>\n",
       "\t<tr><td>    9</td><td>i</td><td>NA</td></tr>\n",
       "\t<tr><td>   10</td><td>j</td><td>NA</td></tr>\n",
       "</tbody>\n",
       "</table>\n"
      ],
      "text/latex": [
       "A data.frame: 10 × 3\n",
       "\\begin{tabular}{lll}\n",
       " col.name.1 & col.name.2 & newcol\\\\\n",
       " <dbl> & <chr> & <lgl>\\\\\n",
       "\\hline\n",
       "\t     1 & a & NA\\\\\n",
       "\t 99999 & b & NA\\\\\n",
       "\t     3 & c & NA\\\\\n",
       "\t     4 & d & NA\\\\\n",
       "\t     5 & e & NA\\\\\n",
       "\t     6 & f & NA\\\\\n",
       "\t     7 & g & NA\\\\\n",
       "\t     8 & h & NA\\\\\n",
       "\t     9 & i & NA\\\\\n",
       "\t    10 & j & NA\\\\\n",
       "\\end{tabular}\n"
      ],
      "text/markdown": [
       "\n",
       "A data.frame: 10 × 3\n",
       "\n",
       "| col.name.1 &lt;dbl&gt; | col.name.2 &lt;chr&gt; | newcol &lt;lgl&gt; |\n",
       "|---|---|---|\n",
       "|     1 | a | NA |\n",
       "| 99999 | b | NA |\n",
       "|     3 | c | NA |\n",
       "|     4 | d | NA |\n",
       "|     5 | e | NA |\n",
       "|     6 | f | NA |\n",
       "|     7 | g | NA |\n",
       "|     8 | h | NA |\n",
       "|     9 | i | NA |\n",
       "|    10 | j | NA |\n",
       "\n"
      ],
      "text/plain": [
       "   col.name.1 col.name.2 newcol\n",
       "1      1      a          NA    \n",
       "2  99999      b          NA    \n",
       "3      3      c          NA    \n",
       "4      4      d          NA    \n",
       "5      5      e          NA    \n",
       "6      6      f          NA    \n",
       "7      7      g          NA    \n",
       "8      8      h          NA    \n",
       "9      9      i          NA    \n",
       "10    10      j          NA    "
      ]
     },
     "metadata": {},
     "output_type": "display_data"
    }
   ],
   "source": [
    "df[, c(1, 2, 3)] #Grab cols 1 2 3"
   ]
  },
  {
   "cell_type": "code",
   "execution_count": 128,
   "id": "8e28e8fe",
   "metadata": {},
   "outputs": [
    {
     "data": {
      "text/html": [
       "<table class=\"dataframe\">\n",
       "<caption>A data.frame: 10 × 2</caption>\n",
       "<thead>\n",
       "\t<tr><th scope=col>col.name.1</th><th scope=col>col1.times.2</th></tr>\n",
       "\t<tr><th scope=col>&lt;dbl&gt;</th><th scope=col>&lt;dbl&gt;</th></tr>\n",
       "</thead>\n",
       "<tbody>\n",
       "\t<tr><td>    1</td><td>     2</td></tr>\n",
       "\t<tr><td>99999</td><td>199998</td></tr>\n",
       "\t<tr><td>    3</td><td>     6</td></tr>\n",
       "\t<tr><td>    4</td><td>     8</td></tr>\n",
       "\t<tr><td>    5</td><td>    10</td></tr>\n",
       "\t<tr><td>    6</td><td>    12</td></tr>\n",
       "\t<tr><td>    7</td><td>    14</td></tr>\n",
       "\t<tr><td>    8</td><td>    16</td></tr>\n",
       "\t<tr><td>    9</td><td>    18</td></tr>\n",
       "\t<tr><td>   10</td><td>    20</td></tr>\n",
       "</tbody>\n",
       "</table>\n"
      ],
      "text/latex": [
       "A data.frame: 10 × 2\n",
       "\\begin{tabular}{ll}\n",
       " col.name.1 & col1.times.2\\\\\n",
       " <dbl> & <dbl>\\\\\n",
       "\\hline\n",
       "\t     1 &      2\\\\\n",
       "\t 99999 & 199998\\\\\n",
       "\t     3 &      6\\\\\n",
       "\t     4 &      8\\\\\n",
       "\t     5 &     10\\\\\n",
       "\t     6 &     12\\\\\n",
       "\t     7 &     14\\\\\n",
       "\t     8 &     16\\\\\n",
       "\t     9 &     18\\\\\n",
       "\t    10 &     20\\\\\n",
       "\\end{tabular}\n"
      ],
      "text/markdown": [
       "\n",
       "A data.frame: 10 × 2\n",
       "\n",
       "| col.name.1 &lt;dbl&gt; | col1.times.2 &lt;dbl&gt; |\n",
       "|---|---|\n",
       "|     1 |      2 |\n",
       "| 99999 | 199998 |\n",
       "|     3 |      6 |\n",
       "|     4 |      8 |\n",
       "|     5 |     10 |\n",
       "|     6 |     12 |\n",
       "|     7 |     14 |\n",
       "|     8 |     16 |\n",
       "|     9 |     18 |\n",
       "|    10 |     20 |\n",
       "\n"
      ],
      "text/plain": [
       "   col.name.1 col1.times.2\n",
       "1      1           2      \n",
       "2  99999      199998      \n",
       "3      3           6      \n",
       "4      4           8      \n",
       "5      5          10      \n",
       "6      6          12      \n",
       "7      7          14      \n",
       "8      8          16      \n",
       "9      9          18      \n",
       "10    10          20      "
      ]
     },
     "metadata": {},
     "output_type": "display_data"
    }
   ],
   "source": [
    "df[, c('col.name.1', 'col1.times.2')] # by name"
   ]
  },
  {
   "cell_type": "code",
   "execution_count": 129,
   "id": "858e5dd9",
   "metadata": {},
   "outputs": [
    {
     "data": {
      "text/html": [
       "<table class=\"dataframe\">\n",
       "<caption>A data.frame: 10 × 4</caption>\n",
       "<thead>\n",
       "\t<tr><th scope=col>col.name.2</th><th scope=col>newcol</th><th scope=col>copy.of.col2</th><th scope=col>col1.times.2</th></tr>\n",
       "\t<tr><th scope=col>&lt;chr&gt;</th><th scope=col>&lt;lgl&gt;</th><th scope=col>&lt;chr&gt;</th><th scope=col>&lt;dbl&gt;</th></tr>\n",
       "</thead>\n",
       "<tbody>\n",
       "\t<tr><td>a</td><td>NA</td><td>a</td><td>     2</td></tr>\n",
       "\t<tr><td>b</td><td>NA</td><td>b</td><td>199998</td></tr>\n",
       "\t<tr><td>c</td><td>NA</td><td>c</td><td>     6</td></tr>\n",
       "\t<tr><td>d</td><td>NA</td><td>d</td><td>     8</td></tr>\n",
       "\t<tr><td>e</td><td>NA</td><td>e</td><td>    10</td></tr>\n",
       "\t<tr><td>f</td><td>NA</td><td>f</td><td>    12</td></tr>\n",
       "\t<tr><td>g</td><td>NA</td><td>g</td><td>    14</td></tr>\n",
       "\t<tr><td>h</td><td>NA</td><td>h</td><td>    16</td></tr>\n",
       "\t<tr><td>i</td><td>NA</td><td>i</td><td>    18</td></tr>\n",
       "\t<tr><td>j</td><td>NA</td><td>j</td><td>    20</td></tr>\n",
       "</tbody>\n",
       "</table>\n"
      ],
      "text/latex": [
       "A data.frame: 10 × 4\n",
       "\\begin{tabular}{llll}\n",
       " col.name.2 & newcol & copy.of.col2 & col1.times.2\\\\\n",
       " <chr> & <lgl> & <chr> & <dbl>\\\\\n",
       "\\hline\n",
       "\t a & NA & a &      2\\\\\n",
       "\t b & NA & b & 199998\\\\\n",
       "\t c & NA & c &      6\\\\\n",
       "\t d & NA & d &      8\\\\\n",
       "\t e & NA & e &     10\\\\\n",
       "\t f & NA & f &     12\\\\\n",
       "\t g & NA & g &     14\\\\\n",
       "\t h & NA & h &     16\\\\\n",
       "\t i & NA & i &     18\\\\\n",
       "\t j & NA & j &     20\\\\\n",
       "\\end{tabular}\n"
      ],
      "text/markdown": [
       "\n",
       "A data.frame: 10 × 4\n",
       "\n",
       "| col.name.2 &lt;chr&gt; | newcol &lt;lgl&gt; | copy.of.col2 &lt;chr&gt; | col1.times.2 &lt;dbl&gt; |\n",
       "|---|---|---|---|\n",
       "| a | NA | a |      2 |\n",
       "| b | NA | b | 199998 |\n",
       "| c | NA | c |      6 |\n",
       "| d | NA | d |      8 |\n",
       "| e | NA | e |     10 |\n",
       "| f | NA | f |     12 |\n",
       "| g | NA | g |     14 |\n",
       "| h | NA | h |     16 |\n",
       "| i | NA | i |     18 |\n",
       "| j | NA | j |     20 |\n",
       "\n"
      ],
      "text/plain": [
       "   col.name.2 newcol copy.of.col2 col1.times.2\n",
       "1  a          NA     a                 2      \n",
       "2  b          NA     b            199998      \n",
       "3  c          NA     c                 6      \n",
       "4  d          NA     d                 8      \n",
       "5  e          NA     e                10      \n",
       "6  f          NA     f                12      \n",
       "7  g          NA     g                14      \n",
       "8  h          NA     h                16      \n",
       "9  i          NA     i                18      \n",
       "10 j          NA     j                20      "
      ]
     },
     "metadata": {},
     "output_type": "display_data"
    }
   ],
   "source": [
    "df[, -1] # keep all but first column|"
   ]
  },
  {
   "cell_type": "code",
   "execution_count": 130,
   "id": "bb890b51",
   "metadata": {},
   "outputs": [
    {
     "data": {
      "text/html": [
       "<table class=\"dataframe\">\n",
       "<caption>A data.frame: 10 × 3</caption>\n",
       "<thead>\n",
       "\t<tr><th scope=col>col.name.2</th><th scope=col>copy.of.col2</th><th scope=col>col1.times.2</th></tr>\n",
       "\t<tr><th scope=col>&lt;chr&gt;</th><th scope=col>&lt;chr&gt;</th><th scope=col>&lt;dbl&gt;</th></tr>\n",
       "</thead>\n",
       "<tbody>\n",
       "\t<tr><td>a</td><td>a</td><td>     2</td></tr>\n",
       "\t<tr><td>b</td><td>b</td><td>199998</td></tr>\n",
       "\t<tr><td>c</td><td>c</td><td>     6</td></tr>\n",
       "\t<tr><td>d</td><td>d</td><td>     8</td></tr>\n",
       "\t<tr><td>e</td><td>e</td><td>    10</td></tr>\n",
       "\t<tr><td>f</td><td>f</td><td>    12</td></tr>\n",
       "\t<tr><td>g</td><td>g</td><td>    14</td></tr>\n",
       "\t<tr><td>h</td><td>h</td><td>    16</td></tr>\n",
       "\t<tr><td>i</td><td>i</td><td>    18</td></tr>\n",
       "\t<tr><td>j</td><td>j</td><td>    20</td></tr>\n",
       "</tbody>\n",
       "</table>\n"
      ],
      "text/latex": [
       "A data.frame: 10 × 3\n",
       "\\begin{tabular}{lll}\n",
       " col.name.2 & copy.of.col2 & col1.times.2\\\\\n",
       " <chr> & <chr> & <dbl>\\\\\n",
       "\\hline\n",
       "\t a & a &      2\\\\\n",
       "\t b & b & 199998\\\\\n",
       "\t c & c &      6\\\\\n",
       "\t d & d &      8\\\\\n",
       "\t e & e &     10\\\\\n",
       "\t f & f &     12\\\\\n",
       "\t g & g &     14\\\\\n",
       "\t h & h &     16\\\\\n",
       "\t i & i &     18\\\\\n",
       "\t j & j &     20\\\\\n",
       "\\end{tabular}\n"
      ],
      "text/markdown": [
       "\n",
       "A data.frame: 10 × 3\n",
       "\n",
       "| col.name.2 &lt;chr&gt; | copy.of.col2 &lt;chr&gt; | col1.times.2 &lt;dbl&gt; |\n",
       "|---|---|---|\n",
       "| a | a |      2 |\n",
       "| b | b | 199998 |\n",
       "| c | c |      6 |\n",
       "| d | d |      8 |\n",
       "| e | e |     10 |\n",
       "| f | f |     12 |\n",
       "| g | g |     14 |\n",
       "| h | h |     16 |\n",
       "| i | i |     18 |\n",
       "| j | j |     20 |\n",
       "\n"
      ],
      "text/plain": [
       "   col.name.2 copy.of.col2 col1.times.2\n",
       "1  a          a                 2      \n",
       "2  b          b            199998      \n",
       "3  c          c                 6      \n",
       "4  d          d                 8      \n",
       "5  e          e                10      \n",
       "6  f          f                12      \n",
       "7  g          g                14      \n",
       "8  h          h                16      \n",
       "9  i          i                18      \n",
       "10 j          j                20      "
      ]
     },
     "metadata": {},
     "output_type": "display_data"
    }
   ],
   "source": [
    "df[, -c(1, 3)] # drop cols 1 and 3"
   ]
  },
  {
   "cell_type": "markdown",
   "id": "961f0f2e",
   "metadata": {},
   "source": [
    "## Dealing with Missing Data\n",
    "Dealing with missing data is a very important skill to know when working with data frames!"
   ]
  },
  {
   "cell_type": "code",
   "execution_count": 131,
   "id": "8038527a",
   "metadata": {},
   "outputs": [
    {
     "data": {
      "text/html": [
       "TRUE"
      ],
      "text/latex": [
       "TRUE"
      ],
      "text/markdown": [
       "TRUE"
      ],
      "text/plain": [
       "[1] TRUE"
      ]
     },
     "metadata": {},
     "output_type": "display_data"
    }
   ],
   "source": [
    "any(is.na(df)) # detect anywhere in df"
   ]
  },
  {
   "cell_type": "code",
   "execution_count": 132,
   "id": "568724d6",
   "metadata": {},
   "outputs": [
    {
     "data": {
      "text/html": [
       "FALSE"
      ],
      "text/latex": [
       "FALSE"
      ],
      "text/markdown": [
       "FALSE"
      ],
      "text/plain": [
       "[1] FALSE"
      ]
     },
     "metadata": {},
     "output_type": "display_data"
    }
   ],
   "source": [
    "any(is.na(df$col.name.1)) # anywhere in col"
   ]
  },
  {
   "cell_type": "code",
   "execution_count": 133,
   "id": "58ab862f",
   "metadata": {},
   "outputs": [],
   "source": [
    "# delete selected missing data rows\n",
    "df <- df[!is.na(df$col), ]"
   ]
  },
  {
   "cell_type": "code",
   "execution_count": 134,
   "id": "75582e60",
   "metadata": {},
   "outputs": [],
   "source": [
    "# replace NAs with something else\n",
    "df[is.na(df)] <- 0 # works on whole df"
   ]
  },
  {
   "cell_type": "code",
   "execution_count": 135,
   "id": "384bf57d",
   "metadata": {},
   "outputs": [],
   "source": [
    "df$col[is.na(df$col)] <- 999 # For a selected column"
   ]
  },
  {
   "cell_type": "code",
   "execution_count": null,
   "id": "2746cd89",
   "metadata": {},
   "outputs": [],
   "source": []
  }
 ],
 "metadata": {
  "kernelspec": {
   "display_name": "R",
   "language": "R",
   "name": "ir"
  },
  "language_info": {
   "codemirror_mode": "r",
   "file_extension": ".r",
   "mimetype": "text/x-r-source",
   "name": "R",
   "pygments_lexer": "r",
   "version": "4.4.1"
  }
 },
 "nbformat": 4,
 "nbformat_minor": 5
}
