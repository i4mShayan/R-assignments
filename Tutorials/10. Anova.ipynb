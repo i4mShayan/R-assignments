{
 "cells": [
  {
   "cell_type": "markdown",
   "id": "d5d45146",
   "metadata": {},
   "source": [
    "\"ANOVA\" is used when we have more than two groups and want to know if their means are different. If we only have two groups, a t-test is sufficient, but for more than two groups, using ANOVA is essential."
   ]
  },
  {
   "cell_type": "markdown",
   "id": "8896f4da",
   "metadata": {},
   "source": [
    "**ANOVA Assumptions**  \n",
    "To perform ANOVA, three main assumptions must be met:\n",
    "\n",
    "1. **Normality of data:**  \n",
    "   The data must follow a normal distribution.\n",
    "\n",
    "2. **Homogeneity of variances:**  \n",
    "   The variances across all groups must be equal.\n",
    "\n",
    "3. **Independence of observations:**  \n",
    "   Observations in the groups must be independent of each other."
   ]
  },
  {
   "cell_type": "markdown",
   "id": "e8a92a67",
   "metadata": {},
   "source": [
    "### Demonstrating the F-Distribution in ANOVA"
   ]
  },
  {
   "cell_type": "code",
   "execution_count": 1,
   "id": "4d6fd12a",
   "metadata": {},
   "outputs": [],
   "source": [
    "group <- factor(c(rep(\"A\", 5), rep(\"B\", 5), rep(\"C\", 5)))\n",
    "values <- c(8, 9, 7, 10, 9, 12, 11, 13, 14, 15, 20, 21, 19, 22, 23)\n",
    "\n",
    "data <- data.frame(group, values)"
   ]
  },
  {
   "cell_type": "code",
   "execution_count": 2,
   "id": "d7744712",
   "metadata": {},
   "outputs": [
    {
     "data": {
      "text/html": [
       "<table class=\"dataframe\">\n",
       "<caption>A data.frame: 15 × 2</caption>\n",
       "<thead>\n",
       "\t<tr><th scope=col>group</th><th scope=col>values</th></tr>\n",
       "\t<tr><th scope=col>&lt;fct&gt;</th><th scope=col>&lt;dbl&gt;</th></tr>\n",
       "</thead>\n",
       "<tbody>\n",
       "\t<tr><td>A</td><td> 8</td></tr>\n",
       "\t<tr><td>A</td><td> 9</td></tr>\n",
       "\t<tr><td>A</td><td> 7</td></tr>\n",
       "\t<tr><td>A</td><td>10</td></tr>\n",
       "\t<tr><td>A</td><td> 9</td></tr>\n",
       "\t<tr><td>B</td><td>12</td></tr>\n",
       "\t<tr><td>B</td><td>11</td></tr>\n",
       "\t<tr><td>B</td><td>13</td></tr>\n",
       "\t<tr><td>B</td><td>14</td></tr>\n",
       "\t<tr><td>B</td><td>15</td></tr>\n",
       "\t<tr><td>C</td><td>20</td></tr>\n",
       "\t<tr><td>C</td><td>21</td></tr>\n",
       "\t<tr><td>C</td><td>19</td></tr>\n",
       "\t<tr><td>C</td><td>22</td></tr>\n",
       "\t<tr><td>C</td><td>23</td></tr>\n",
       "</tbody>\n",
       "</table>\n"
      ],
      "text/latex": [
       "A data.frame: 15 × 2\n",
       "\\begin{tabular}{ll}\n",
       " group & values\\\\\n",
       " <fct> & <dbl>\\\\\n",
       "\\hline\n",
       "\t A &  8\\\\\n",
       "\t A &  9\\\\\n",
       "\t A &  7\\\\\n",
       "\t A & 10\\\\\n",
       "\t A &  9\\\\\n",
       "\t B & 12\\\\\n",
       "\t B & 11\\\\\n",
       "\t B & 13\\\\\n",
       "\t B & 14\\\\\n",
       "\t B & 15\\\\\n",
       "\t C & 20\\\\\n",
       "\t C & 21\\\\\n",
       "\t C & 19\\\\\n",
       "\t C & 22\\\\\n",
       "\t C & 23\\\\\n",
       "\\end{tabular}\n"
      ],
      "text/markdown": [
       "\n",
       "A data.frame: 15 × 2\n",
       "\n",
       "| group &lt;fct&gt; | values &lt;dbl&gt; |\n",
       "|---|---|\n",
       "| A |  8 |\n",
       "| A |  9 |\n",
       "| A |  7 |\n",
       "| A | 10 |\n",
       "| A |  9 |\n",
       "| B | 12 |\n",
       "| B | 11 |\n",
       "| B | 13 |\n",
       "| B | 14 |\n",
       "| B | 15 |\n",
       "| C | 20 |\n",
       "| C | 21 |\n",
       "| C | 19 |\n",
       "| C | 22 |\n",
       "| C | 23 |\n",
       "\n"
      ],
      "text/plain": [
       "   group values\n",
       "1  A      8    \n",
       "2  A      9    \n",
       "3  A      7    \n",
       "4  A     10    \n",
       "5  A      9    \n",
       "6  B     12    \n",
       "7  B     11    \n",
       "8  B     13    \n",
       "9  B     14    \n",
       "10 B     15    \n",
       "11 C     20    \n",
       "12 C     21    \n",
       "13 C     19    \n",
       "14 C     22    \n",
       "15 C     23    "
      ]
     },
     "metadata": {},
     "output_type": "display_data"
    }
   ],
   "source": [
    "data"
   ]
  },
  {
   "cell_type": "code",
   "execution_count": 4,
   "id": "7b52d583",
   "metadata": {},
   "outputs": [],
   "source": [
    "anova_result <- aov(values ~ group, data = data)"
   ]
  },
  {
   "cell_type": "code",
   "execution_count": 6,
   "id": "567b4252",
   "metadata": {},
   "outputs": [
    {
     "data": {
      "text/plain": [
       "Call:\n",
       "   aov(formula = values ~ group, data = data)\n",
       "\n",
       "Terms:\n",
       "                group Residuals\n",
       "Sum of Squares  395.2      25.2\n",
       "Deg. of Freedom     2        12\n",
       "\n",
       "Residual standard error: 1.449138\n",
       "Estimated effects may be unbalanced"
      ]
     },
     "metadata": {},
     "output_type": "display_data"
    }
   ],
   "source": [
    "anova_result"
   ]
  },
  {
   "cell_type": "code",
   "execution_count": 7,
   "id": "4137cc26",
   "metadata": {},
   "outputs": [
    {
     "data": {
      "text/plain": [
       "            Df Sum Sq Mean Sq F value   Pr(>F)    \n",
       "group        2  395.2   197.6   94.09 4.64e-08 ***\n",
       "Residuals   12   25.2     2.1                     \n",
       "---\n",
       "Signif. codes:  0 '***' 0.001 '**' 0.01 '*' 0.05 '.' 0.1 ' ' 1"
      ]
     },
     "metadata": {},
     "output_type": "display_data"
    }
   ],
   "source": [
    "summary(anova_result)"
   ]
  },
  {
   "cell_type": "markdown",
   "id": "d6852ca0",
   "metadata": {},
   "source": [
    "### * Df (degrees of freedom):\n",
    "\n",
    "group: number of groups minus one (k−1=3−1=2).\n",
    "\n",
    "Residuals: the total number of data minus the number of groups (n−k=15−3=12).\n",
    "\n",
    "### * Sum Sq (sum of squares):\n",
    "\n",
    "group: sum of squares between groups (Between-Group Variance), equal to 395.2\n",
    "\n",
    "Residuals: sum of squares within groups (Within-Group Variance), equal to 25.2\n",
    "\n",
    "### * Mean Sq:\n",
    "\n",
    "Obtained by dividing the sum of squares (Sum Sq) by the degree of freedom (Df)\n",
    "\n",
    "### * F value (F statistic):\n",
    "\n",
    "The ratio of mean square between groups to mean square within groups\n",
    "\n",
    "### * Pr(>F) (p value):\n",
    "\n",
    "The probability of observing the F statistic is equal to or greater than the calculated value (94.09) under the null hypothesis.\n",
    "\n",
    "The value of p=4.64×10^−8 is very small, which indicates that the difference in means is very significant.\n",
    "\n",
    "In conclusion, the null hypothesis(H0), which states that the averages of the groups are equal, is rejected."
   ]
  },
  {
   "cell_type": "code",
   "execution_count": 2,
   "id": "eb44cfe9",
   "metadata": {},
   "outputs": [
    {
     "data": {
      "image/png": "[encoded data removed]",
      "text/plain": [
       "Plot with title \"F-Distribution (df1 = 2, df2 = 12)\""
      ]
     },
     "metadata": {
      "image/png": {
       "height": 420,
       "width": 420
      }
     },
     "output_type": "display_data"
    }
   ],
   "source": [
    "df1 <- 2  # Numerator degrees of freedom (k-1)\n",
    "df2 <- 12 # Denominator degrees of freedom (n-k)\n",
    "\n",
    "x <- seq(0, 5, length.out = 100)\n",
    "y <- df(x, df1, df2)\n",
    "\n",
    "plot(x, y, type = \"l\", col = \"blue\", lwd = 2,\n",
    "     main = \"F-Distribution (df1 = 2, df2 = 12)\",\n",
    "     xlab = \"F value\", ylab = \"Density\")"
   ]
  },
  {
   "cell_type": "markdown",
   "id": "6438f78e",
   "metadata": {},
   "source": [
    "### The effect of degrees of freedom on the F distribution\n",
    "Numerator degrees of freedom (df₁):\n",
    "If df₁ is small (less than 5), the F distribution has a longer tail to the right. As df₁ increases, the F distribution becomes more concentrated and symmetrical.\n",
    "\n",
    "Denominator degrees of freedom (df₂):\n",
    "If df₂ is small, the F distribution has a long tail and its skewness is high. As df₂ increases, the F distribution resembles a normal distribution."
   ]
  },
  {
   "cell_type": "code",
   "execution_count": 1,
   "id": "f51becf5",
   "metadata": {},
   "outputs": [
    {
     "data": {
      "image/png": "[encoded data removed]",
      "text/plain": [
       "Plot with title \"F distribution with different degree of freedom\""
      ]
     },
     "metadata": {
      "image/png": {
       "height": 420,
       "width": 420
      }
     },
     "output_type": "display_data"
    }
   ],
   "source": [
    "x <- seq(0, 5, length.out = 200)\n",
    "\n",
    "f_df_2_5 <- df(x, df1 = 2, df2 = 5)\n",
    "f_df_10_10 <- df(x, df1 = 10, df2 = 10)\n",
    "f_df_30_30 <- df(x, df1 = 30, df2 = 30)\n",
    "\n",
    "plot(x, f_df_2_5, type = \"l\", col = \"red\", lwd = 2, ylim = c(0, 1),\n",
    "     main = \"F distribution with different degree of freedom\",\n",
    "     xlab = \"F value\", ylab = \"Density\")\n",
    "lines(x, f_df_10_10, col = \"blue\", lwd = 2)\n",
    "lines(x, f_df_30_30, col = \"green\", lwd = 2)\n",
    "\n",
    "legend(\"topright\", legend = c(\"df1=2, df2=5\", \"df1=10, df2=10\", \"df1=30, df2=30\"),\n",
    "       col = c(\"red\", \"blue\", \"green\"), lwd = 2)"
   ]
  },
  {
   "cell_type": "markdown",
   "id": "cebd0dcf",
   "metadata": {},
   "source": [
    "### Interpretation of the chart:\n",
    "df1 = 2, df2 = 5: Long tail and short peak. The distribution is highly skewed.\n",
    "\n",
    "df1 = 10, df2 = 10: Taller peak and less skewness.\n",
    "\n",
    "df1 = 30, df2 = 30: Nearly symmetrical and resembles a normal distribution."
   ]
  },
  {
   "cell_type": "markdown",
   "id": "6d7281b2",
   "metadata": {},
   "source": [
    "### Applied analysis:\n",
    "Low degrees of freedom:\n",
    "Usually used in small samples. The test output is more sensitive.\n",
    "\n",
    "High degrees of freedom:\n",
    "Usually in large samples. Results are more stable and the distribution approaches normality."
   ]
  },
  {
   "cell_type": "markdown",
   "id": "e28130b3",
   "metadata": {},
   "source": [
    "Another example ...:"
   ]
  },
  {
   "cell_type": "code",
   "execution_count": 8,
   "id": "559a2622",
   "metadata": {},
   "outputs": [],
   "source": [
    "group <- factor(c(rep(\"A\", 10), rep(\"B\", 10), rep(\"C\", 10)))\n",
    "scores <- c(85, 90, 88, 84, 89, 87, 86, 85, 91, 88,  # Group A\n",
    "            78, 82, 80, 79, 77, 81, 83, 84, 82, 80,  # Group B\n",
    "            92, 95, 94, 93, 91, 89, 90, 96, 94, 93)  # Group C\n",
    "\n",
    "df <- data.frame(group, scores)"
   ]
  },
  {
   "cell_type": "code",
   "execution_count": 9,
   "id": "ea024df2",
   "metadata": {},
   "outputs": [
    {
     "data": {
      "text/html": [
       "<table class=\"dataframe\">\n",
       "<caption>A data.frame: 30 × 2</caption>\n",
       "<thead>\n",
       "\t<tr><th scope=col>group</th><th scope=col>scores</th></tr>\n",
       "\t<tr><th scope=col>&lt;fct&gt;</th><th scope=col>&lt;dbl&gt;</th></tr>\n",
       "</thead>\n",
       "<tbody>\n",
       "\t<tr><td>A</td><td>85</td></tr>\n",
       "\t<tr><td>A</td><td>90</td></tr>\n",
       "\t<tr><td>A</td><td>88</td></tr>\n",
       "\t<tr><td>A</td><td>84</td></tr>\n",
       "\t<tr><td>A</td><td>89</td></tr>\n",
       "\t<tr><td>A</td><td>87</td></tr>\n",
       "\t<tr><td>A</td><td>86</td></tr>\n",
       "\t<tr><td>A</td><td>85</td></tr>\n",
       "\t<tr><td>A</td><td>91</td></tr>\n",
       "\t<tr><td>A</td><td>88</td></tr>\n",
       "\t<tr><td>B</td><td>78</td></tr>\n",
       "\t<tr><td>B</td><td>82</td></tr>\n",
       "\t<tr><td>B</td><td>80</td></tr>\n",
       "\t<tr><td>B</td><td>79</td></tr>\n",
       "\t<tr><td>B</td><td>77</td></tr>\n",
       "\t<tr><td>B</td><td>81</td></tr>\n",
       "\t<tr><td>B</td><td>83</td></tr>\n",
       "\t<tr><td>B</td><td>84</td></tr>\n",
       "\t<tr><td>B</td><td>82</td></tr>\n",
       "\t<tr><td>B</td><td>80</td></tr>\n",
       "\t<tr><td>C</td><td>92</td></tr>\n",
       "\t<tr><td>C</td><td>95</td></tr>\n",
       "\t<tr><td>C</td><td>94</td></tr>\n",
       "\t<tr><td>C</td><td>93</td></tr>\n",
       "\t<tr><td>C</td><td>91</td></tr>\n",
       "\t<tr><td>C</td><td>89</td></tr>\n",
       "\t<tr><td>C</td><td>90</td></tr>\n",
       "\t<tr><td>C</td><td>96</td></tr>\n",
       "\t<tr><td>C</td><td>94</td></tr>\n",
       "\t<tr><td>C</td><td>93</td></tr>\n",
       "</tbody>\n",
       "</table>\n"
      ],
      "text/latex": [
       "A data.frame: 30 × 2\n",
       "\\begin{tabular}{ll}\n",
       " group & scores\\\\\n",
       " <fct> & <dbl>\\\\\n",
       "\\hline\n",
       "\t A & 85\\\\\n",
       "\t A & 90\\\\\n",
       "\t A & 88\\\\\n",
       "\t A & 84\\\\\n",
       "\t A & 89\\\\\n",
       "\t A & 87\\\\\n",
       "\t A & 86\\\\\n",
       "\t A & 85\\\\\n",
       "\t A & 91\\\\\n",
       "\t A & 88\\\\\n",
       "\t B & 78\\\\\n",
       "\t B & 82\\\\\n",
       "\t B & 80\\\\\n",
       "\t B & 79\\\\\n",
       "\t B & 77\\\\\n",
       "\t B & 81\\\\\n",
       "\t B & 83\\\\\n",
       "\t B & 84\\\\\n",
       "\t B & 82\\\\\n",
       "\t B & 80\\\\\n",
       "\t C & 92\\\\\n",
       "\t C & 95\\\\\n",
       "\t C & 94\\\\\n",
       "\t C & 93\\\\\n",
       "\t C & 91\\\\\n",
       "\t C & 89\\\\\n",
       "\t C & 90\\\\\n",
       "\t C & 96\\\\\n",
       "\t C & 94\\\\\n",
       "\t C & 93\\\\\n",
       "\\end{tabular}\n"
      ],
      "text/markdown": [
       "\n",
       "A data.frame: 30 × 2\n",
       "\n",
       "| group &lt;fct&gt; | scores &lt;dbl&gt; |\n",
       "|---|---|\n",
       "| A | 85 |\n",
       "| A | 90 |\n",
       "| A | 88 |\n",
       "| A | 84 |\n",
       "| A | 89 |\n",
       "| A | 87 |\n",
       "| A | 86 |\n",
       "| A | 85 |\n",
       "| A | 91 |\n",
       "| A | 88 |\n",
       "| B | 78 |\n",
       "| B | 82 |\n",
       "| B | 80 |\n",
       "| B | 79 |\n",
       "| B | 77 |\n",
       "| B | 81 |\n",
       "| B | 83 |\n",
       "| B | 84 |\n",
       "| B | 82 |\n",
       "| B | 80 |\n",
       "| C | 92 |\n",
       "| C | 95 |\n",
       "| C | 94 |\n",
       "| C | 93 |\n",
       "| C | 91 |\n",
       "| C | 89 |\n",
       "| C | 90 |\n",
       "| C | 96 |\n",
       "| C | 94 |\n",
       "| C | 93 |\n",
       "\n"
      ],
      "text/plain": [
       "   group scores\n",
       "1  A     85    \n",
       "2  A     90    \n",
       "3  A     88    \n",
       "4  A     84    \n",
       "5  A     89    \n",
       "6  A     87    \n",
       "7  A     86    \n",
       "8  A     85    \n",
       "9  A     91    \n",
       "10 A     88    \n",
       "11 B     78    \n",
       "12 B     82    \n",
       "13 B     80    \n",
       "14 B     79    \n",
       "15 B     77    \n",
       "16 B     81    \n",
       "17 B     83    \n",
       "18 B     84    \n",
       "19 B     82    \n",
       "20 B     80    \n",
       "21 C     92    \n",
       "22 C     95    \n",
       "23 C     94    \n",
       "24 C     93    \n",
       "25 C     91    \n",
       "26 C     89    \n",
       "27 C     90    \n",
       "28 C     96    \n",
       "29 C     94    \n",
       "30 C     93    "
      ]
     },
     "metadata": {},
     "output_type": "display_data"
    }
   ],
   "source": [
    "df"
   ]
  },
  {
   "cell_type": "code",
   "execution_count": 10,
   "id": "00b9577c",
   "metadata": {},
   "outputs": [
    {
     "data": {
      "text/plain": [
       "            Df Sum Sq Mean Sq F value   Pr(>F)    \n",
       "group        2  734.9   367.4   72.63 1.37e-11 ***\n",
       "Residuals   27  136.6     5.1                     \n",
       "---\n",
       "Signif. codes:  0 '***' 0.001 '**' 0.01 '*' 0.05 '.' 0.1 ' ' 1"
      ]
     },
     "metadata": {},
     "output_type": "display_data"
    }
   ],
   "source": [
    "anova_result <- aov(scores ~ group, data = df)\n",
    "\n",
    "summary(anova_result)"
   ]
  },
  {
   "cell_type": "markdown",
   "id": "09984d4c",
   "metadata": {},
   "source": [
    "The value of 1.37×10^−11 is much smaller than 0.05, so the null hypothesis is rejected.\n",
    "\n",
    "Result: The average scores of the groups are significantly different."
   ]
  },
  {
   "cell_type": "markdown",
   "id": "74b35baf",
   "metadata": {},
   "source": [
    "### Check ANOVA assumptions"
   ]
  },
  {
   "cell_type": "markdown",
   "id": "538506d5",
   "metadata": {},
   "source": [
    "- A. Checking the normality of the data:"
   ]
  },
  {
   "cell_type": "code",
   "execution_count": 11,
   "id": "65698755",
   "metadata": {},
   "outputs": [
    {
     "data": {
      "text/plain": [
       "\n",
       "\tShapiro-Wilk normality test\n",
       "\n",
       "data:  df$scores\n",
       "W = 0.96336, p-value = 0.3764\n"
      ]
     },
     "metadata": {},
     "output_type": "display_data"
    }
   ],
   "source": [
    "shapiro.test(df$scores)"
   ]
  },
  {
   "cell_type": "markdown",
   "id": "f1a8a938",
   "metadata": {},
   "source": [
    "Null hypothesis: The data follows a normal distribution.\n",
    "\n",
    "p-value: The value of 0.3764 is greater than 0.05, so the null hypothesis is not rejected.\n",
    "\n",
    "Result: The data are significantly normal."
   ]
  },
  {
   "cell_type": "markdown",
   "id": "fe4159ce",
   "metadata": {},
   "source": [
    "### -------------------------------------------------------------------------------------------------------------------"
   ]
  },
  {
   "cell_type": "markdown",
   "id": "2d35b497",
   "metadata": {},
   "source": [
    "- b. Checking the homogeneity of variances:"
   ]
  },
  {
   "cell_type": "code",
   "execution_count": 12,
   "id": "ca62ffaf",
   "metadata": {},
   "outputs": [
    {
     "data": {
      "text/plain": [
       "\n",
       "\tBartlett test of homogeneity of variances\n",
       "\n",
       "data:  scores by group\n",
       "Bartlett's K-squared = 0.020177, df = 2, p-value = 0.99\n"
      ]
     },
     "metadata": {},
     "output_type": "display_data"
    }
   ],
   "source": [
    "bartlett.test(scores ~ group, data = df)"
   ]
  },
  {
   "cell_type": "markdown",
   "id": "59ebec60",
   "metadata": {},
   "source": [
    "Null hypothesis: variances are the same between groups.\n",
    "\n",
    "p-value: A value of 0.99 is greater than 0.05, so the null hypothesis is not rejected.\n",
    "\n",
    "Result: The variances are the same between the groups."
   ]
  },
  {
   "cell_type": "markdown",
   "id": "45de6622",
   "metadata": {},
   "source": [
    "### -------------------------------------------------------------------------------------------------------------------"
   ]
  },
  {
   "cell_type": "markdown",
   "id": "059fb2a9",
   "metadata": {},
   "source": [
    "If ANOVA shows that there is a significant difference between groups, we need to know which groups are different from each other. This is done through multiple difference tests (Post Hoc Tests).\n",
    "\n",
    "#### Tukey test:"
   ]
  },
  {
   "cell_type": "code",
   "execution_count": 13,
   "id": "1be5eb20",
   "metadata": {},
   "outputs": [
    {
     "data": {
      "text/plain": [
       "  Tukey multiple comparisons of means\n",
       "    95% family-wise confidence level\n",
       "\n",
       "Fit: aov(formula = scores ~ group, data = df)\n",
       "\n",
       "$group\n",
       "    diff       lwr       upr    p adj\n",
       "B-A -6.7 -9.194067 -4.205933 1.10e-06\n",
       "C-A  5.4  2.905933  7.894067 3.29e-05\n",
       "C-B 12.1  9.605933 14.594067 0.00e+00\n"
      ]
     },
     "metadata": {},
     "output_type": "display_data"
    }
   ],
   "source": [
    "TukeyHSD(anova_result)"
   ]
  },
  {
   "cell_type": "markdown",
   "id": "dc4ad82d",
   "metadata": {},
   "source": [
    "B-A: The mean of group B is significantly 6.7 units lower than group A (p ≈ 1.1×10^−6).\n",
    "\n",
    "C-A: The mean of group C is significantly 5.4 units higher than group A (p ≈ 3.29×10^−5).\n",
    "\n",
    "C-B: The mean of group C is significantly 12.1 units higher than group B (p ≈ 0).\n",
    "\n",
    "Post Hoc Result:\n",
    "All three groups are significantly different from each other."
   ]
  }
 ],
 "metadata": {
  "kernelspec": {
   "display_name": "R",
   "language": "R",
   "name": "ir"
  },
  "language_info": {
   "codemirror_mode": "r",
   "file_extension": ".r",
   "mimetype": "text/x-r-source",
   "name": "R",
   "pygments_lexer": "r",
   "version": "4.4.1"
  }
 },
 "nbformat": 4,
 "nbformat_minor": 5
}
