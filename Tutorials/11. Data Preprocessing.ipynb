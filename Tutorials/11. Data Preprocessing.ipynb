{
 "cells": [
  {
   "cell_type": "markdown",
   "id": "54776522",
   "metadata": {},
   "source": [
    "## Importing The Dataset ##"
   ]
  },
  {
   "cell_type": "code",
   "execution_count": 1,
   "id": "ebe7597a",
   "metadata": {},
   "outputs": [],
   "source": [
    "dataset = read.csv('Data.csv')"
   ]
  },
  {
   "cell_type": "code",
   "execution_count": 2,
   "id": "1806524f",
   "metadata": {},
   "outputs": [
    {
     "data": {
      "text/html": [
       "<table class=\"dataframe\">\n",
       "<caption>A data.frame: 10 × 4</caption>\n",
       "<thead>\n",
       "\t<tr><th scope=col>Country</th><th scope=col>Age</th><th scope=col>Salary</th><th scope=col>Purchased</th></tr>\n",
       "\t<tr><th scope=col>&lt;chr&gt;</th><th scope=col>&lt;int&gt;</th><th scope=col>&lt;int&gt;</th><th scope=col>&lt;chr&gt;</th></tr>\n",
       "</thead>\n",
       "<tbody>\n",
       "\t<tr><td>France </td><td>44</td><td>72000</td><td>No </td></tr>\n",
       "\t<tr><td>Spain  </td><td>27</td><td>48000</td><td>Yes</td></tr>\n",
       "\t<tr><td>Germany</td><td>30</td><td>54000</td><td>No </td></tr>\n",
       "\t<tr><td>Spain  </td><td>38</td><td>61000</td><td>No </td></tr>\n",
       "\t<tr><td>Germany</td><td>40</td><td>   NA</td><td>Yes</td></tr>\n",
       "\t<tr><td>France </td><td>35</td><td>58000</td><td>Yes</td></tr>\n",
       "\t<tr><td>Spain  </td><td>NA</td><td>52000</td><td>No </td></tr>\n",
       "\t<tr><td>France </td><td>48</td><td>79000</td><td>Yes</td></tr>\n",
       "\t<tr><td>Germany</td><td>50</td><td>83000</td><td>No </td></tr>\n",
       "\t<tr><td>France </td><td>37</td><td>67000</td><td>Yes</td></tr>\n",
       "</tbody>\n",
       "</table>\n"
      ],
      "text/latex": [
       "A data.frame: 10 × 4\n",
       "\\begin{tabular}{llll}\n",
       " Country & Age & Salary & Purchased\\\\\n",
       " <chr> & <int> & <int> & <chr>\\\\\n",
       "\\hline\n",
       "\t France  & 44 & 72000 & No \\\\\n",
       "\t Spain   & 27 & 48000 & Yes\\\\\n",
       "\t Germany & 30 & 54000 & No \\\\\n",
       "\t Spain   & 38 & 61000 & No \\\\\n",
       "\t Germany & 40 &    NA & Yes\\\\\n",
       "\t France  & 35 & 58000 & Yes\\\\\n",
       "\t Spain   & NA & 52000 & No \\\\\n",
       "\t France  & 48 & 79000 & Yes\\\\\n",
       "\t Germany & 50 & 83000 & No \\\\\n",
       "\t France  & 37 & 67000 & Yes\\\\\n",
       "\\end{tabular}\n"
      ],
      "text/markdown": [
       "\n",
       "A data.frame: 10 × 4\n",
       "\n",
       "| Country &lt;chr&gt; | Age &lt;int&gt; | Salary &lt;int&gt; | Purchased &lt;chr&gt; |\n",
       "|---|---|---|---|\n",
       "| France  | 44 | 72000 | No  |\n",
       "| Spain   | 27 | 48000 | Yes |\n",
       "| Germany | 30 | 54000 | No  |\n",
       "| Spain   | 38 | 61000 | No  |\n",
       "| Germany | 40 |    NA | Yes |\n",
       "| France  | 35 | 58000 | Yes |\n",
       "| Spain   | NA | 52000 | No  |\n",
       "| France  | 48 | 79000 | Yes |\n",
       "| Germany | 50 | 83000 | No  |\n",
       "| France  | 37 | 67000 | Yes |\n",
       "\n"
      ],
      "text/plain": [
       "   Country Age Salary Purchased\n",
       "1  France  44  72000  No       \n",
       "2  Spain   27  48000  Yes      \n",
       "3  Germany 30  54000  No       \n",
       "4  Spain   38  61000  No       \n",
       "5  Germany 40     NA  Yes      \n",
       "6  France  35  58000  Yes      \n",
       "7  Spain   NA  52000  No       \n",
       "8  France  48  79000  Yes      \n",
       "9  Germany 50  83000  No       \n",
       "10 France  37  67000  Yes      "
      ]
     },
     "metadata": {},
     "output_type": "display_data"
    }
   ],
   "source": [
    "dataset"
   ]
  },
  {
   "cell_type": "markdown",
   "id": "b9f492f8",
   "metadata": {},
   "source": [
    "To read the Excel file, you need to install a library:"
   ]
  },
  {
   "cell_type": "code",
   "execution_count": 4,
   "id": "1105abc0",
   "metadata": {},
   "outputs": [
    {
     "name": "stderr",
     "output_type": "stream",
     "text": [
      "Installing package into 'C:/Users/ASUS/AppData/Local/R/win-library/4.4'\n",
      "(as 'lib' is unspecified)\n",
      "\n"
     ]
    },
    {
     "name": "stdout",
     "output_type": "stream",
     "text": [
      "package 'readxl' successfully unpacked and MD5 sums checked\n",
      "\n",
      "The downloaded binary packages are in\n",
      "\tC:\\Users\\ASUS\\AppData\\Local\\Temp\\RtmpO8p7ow\\downloaded_packages\n"
     ]
    }
   ],
   "source": [
    "#install.packages(\"readxl\")"
   ]
  },
  {
   "cell_type": "code",
   "execution_count": 5,
   "id": "98c44448",
   "metadata": {},
   "outputs": [
    {
     "name": "stderr",
     "output_type": "stream",
     "text": [
      "Warning message:\n",
      "\"package 'readxl' was built under R version 4.4.2\"\n"
     ]
    }
   ],
   "source": [
    "library(readxl)"
   ]
  },
  {
   "cell_type": "code",
   "execution_count": 6,
   "id": "2d6f9526",
   "metadata": {},
   "outputs": [],
   "source": [
    "data <- read_excel('Data.xlsx')"
   ]
  },
  {
   "cell_type": "code",
   "execution_count": 7,
   "id": "0c854cb6",
   "metadata": {},
   "outputs": [
    {
     "data": {
      "text/html": [
       "<table class=\"dataframe\">\n",
       "<caption>A tibble: 10 × 4</caption>\n",
       "<thead>\n",
       "\t<tr><th scope=col>Country</th><th scope=col>Age</th><th scope=col>Salary</th><th scope=col>Purchased</th></tr>\n",
       "\t<tr><th scope=col>&lt;chr&gt;</th><th scope=col>&lt;dbl&gt;</th><th scope=col>&lt;dbl&gt;</th><th scope=col>&lt;chr&gt;</th></tr>\n",
       "</thead>\n",
       "<tbody>\n",
       "\t<tr><td>France </td><td>44</td><td>72000</td><td>No </td></tr>\n",
       "\t<tr><td>Spain  </td><td>27</td><td>48000</td><td>Yes</td></tr>\n",
       "\t<tr><td>Germany</td><td>30</td><td>54000</td><td>No </td></tr>\n",
       "\t<tr><td>Spain  </td><td>38</td><td>61000</td><td>No </td></tr>\n",
       "\t<tr><td>Germany</td><td>40</td><td>   NA</td><td>Yes</td></tr>\n",
       "\t<tr><td>France </td><td>35</td><td>58000</td><td>Yes</td></tr>\n",
       "\t<tr><td>Spain  </td><td>NA</td><td>52000</td><td>No </td></tr>\n",
       "\t<tr><td>France </td><td>48</td><td>79000</td><td>Yes</td></tr>\n",
       "\t<tr><td>Germany</td><td>50</td><td>83000</td><td>No </td></tr>\n",
       "\t<tr><td>France </td><td>37</td><td>67000</td><td>Yes</td></tr>\n",
       "</tbody>\n",
       "</table>\n"
      ],
      "text/latex": [
       "A tibble: 10 × 4\n",
       "\\begin{tabular}{llll}\n",
       " Country & Age & Salary & Purchased\\\\\n",
       " <chr> & <dbl> & <dbl> & <chr>\\\\\n",
       "\\hline\n",
       "\t France  & 44 & 72000 & No \\\\\n",
       "\t Spain   & 27 & 48000 & Yes\\\\\n",
       "\t Germany & 30 & 54000 & No \\\\\n",
       "\t Spain   & 38 & 61000 & No \\\\\n",
       "\t Germany & 40 &    NA & Yes\\\\\n",
       "\t France  & 35 & 58000 & Yes\\\\\n",
       "\t Spain   & NA & 52000 & No \\\\\n",
       "\t France  & 48 & 79000 & Yes\\\\\n",
       "\t Germany & 50 & 83000 & No \\\\\n",
       "\t France  & 37 & 67000 & Yes\\\\\n",
       "\\end{tabular}\n"
      ],
      "text/markdown": [
       "\n",
       "A tibble: 10 × 4\n",
       "\n",
       "| Country &lt;chr&gt; | Age &lt;dbl&gt; | Salary &lt;dbl&gt; | Purchased &lt;chr&gt; |\n",
       "|---|---|---|---|\n",
       "| France  | 44 | 72000 | No  |\n",
       "| Spain   | 27 | 48000 | Yes |\n",
       "| Germany | 30 | 54000 | No  |\n",
       "| Spain   | 38 | 61000 | No  |\n",
       "| Germany | 40 |    NA | Yes |\n",
       "| France  | 35 | 58000 | Yes |\n",
       "| Spain   | NA | 52000 | No  |\n",
       "| France  | 48 | 79000 | Yes |\n",
       "| Germany | 50 | 83000 | No  |\n",
       "| France  | 37 | 67000 | Yes |\n",
       "\n"
      ],
      "text/plain": [
       "   Country Age Salary Purchased\n",
       "1  France  44  72000  No       \n",
       "2  Spain   27  48000  Yes      \n",
       "3  Germany 30  54000  No       \n",
       "4  Spain   38  61000  No       \n",
       "5  Germany 40     NA  Yes      \n",
       "6  France  35  58000  Yes      \n",
       "7  Spain   NA  52000  No       \n",
       "8  France  48  79000  Yes      \n",
       "9  Germany 50  83000  No       \n",
       "10 France  37  67000  Yes      "
      ]
     },
     "metadata": {},
     "output_type": "display_data"
    }
   ],
   "source": [
    "data"
   ]
  },
  {
   "cell_type": "markdown",
   "id": "22e887a1",
   "metadata": {},
   "source": [
    "# Or"
   ]
  },
  {
   "cell_type": "code",
   "execution_count": 8,
   "id": "b4caed8e",
   "metadata": {},
   "outputs": [],
   "source": [
    "#install.packages(\"openxlsx\")"
   ]
  },
  {
   "cell_type": "code",
   "execution_count": 9,
   "id": "37b9e733",
   "metadata": {},
   "outputs": [
    {
     "name": "stderr",
     "output_type": "stream",
     "text": [
      "Warning message:\n",
      "\"package 'openxlsx' was built under R version 4.4.2\"\n"
     ]
    }
   ],
   "source": [
    "library(openxlsx)"
   ]
  },
  {
   "cell_type": "code",
   "execution_count": 10,
   "id": "b00c7ddf",
   "metadata": {},
   "outputs": [],
   "source": [
    "data <- read.xlsx(\"Data.xlsx\", sheet = 1)  # or specify the sheet name"
   ]
  },
  {
   "cell_type": "code",
   "execution_count": 11,
   "id": "63b6c264",
   "metadata": {},
   "outputs": [
    {
     "data": {
      "text/html": [
       "<table class=\"dataframe\">\n",
       "<caption>A data.frame: 10 × 4</caption>\n",
       "<thead>\n",
       "\t<tr><th></th><th scope=col>Country</th><th scope=col>Age</th><th scope=col>Salary</th><th scope=col>Purchased</th></tr>\n",
       "\t<tr><th></th><th scope=col>&lt;chr&gt;</th><th scope=col>&lt;dbl&gt;</th><th scope=col>&lt;dbl&gt;</th><th scope=col>&lt;chr&gt;</th></tr>\n",
       "</thead>\n",
       "<tbody>\n",
       "\t<tr><th scope=row>1</th><td>France </td><td>44</td><td>72000</td><td>No </td></tr>\n",
       "\t<tr><th scope=row>2</th><td>Spain  </td><td>27</td><td>48000</td><td>Yes</td></tr>\n",
       "\t<tr><th scope=row>3</th><td>Germany</td><td>30</td><td>54000</td><td>No </td></tr>\n",
       "\t<tr><th scope=row>4</th><td>Spain  </td><td>38</td><td>61000</td><td>No </td></tr>\n",
       "\t<tr><th scope=row>5</th><td>Germany</td><td>40</td><td>   NA</td><td>Yes</td></tr>\n",
       "\t<tr><th scope=row>6</th><td>France </td><td>35</td><td>58000</td><td>Yes</td></tr>\n",
       "\t<tr><th scope=row>7</th><td>Spain  </td><td>NA</td><td>52000</td><td>No </td></tr>\n",
       "\t<tr><th scope=row>8</th><td>France </td><td>48</td><td>79000</td><td>Yes</td></tr>\n",
       "\t<tr><th scope=row>9</th><td>Germany</td><td>50</td><td>83000</td><td>No </td></tr>\n",
       "\t<tr><th scope=row>10</th><td>France </td><td>37</td><td>67000</td><td>Yes</td></tr>\n",
       "</tbody>\n",
       "</table>\n"
      ],
      "text/latex": [
       "A data.frame: 10 × 4\n",
       "\\begin{tabular}{r|llll}\n",
       "  & Country & Age & Salary & Purchased\\\\\n",
       "  & <chr> & <dbl> & <dbl> & <chr>\\\\\n",
       "\\hline\n",
       "\t1 & France  & 44 & 72000 & No \\\\\n",
       "\t2 & Spain   & 27 & 48000 & Yes\\\\\n",
       "\t3 & Germany & 30 & 54000 & No \\\\\n",
       "\t4 & Spain   & 38 & 61000 & No \\\\\n",
       "\t5 & Germany & 40 &    NA & Yes\\\\\n",
       "\t6 & France  & 35 & 58000 & Yes\\\\\n",
       "\t7 & Spain   & NA & 52000 & No \\\\\n",
       "\t8 & France  & 48 & 79000 & Yes\\\\\n",
       "\t9 & Germany & 50 & 83000 & No \\\\\n",
       "\t10 & France  & 37 & 67000 & Yes\\\\\n",
       "\\end{tabular}\n"
      ],
      "text/markdown": [
       "\n",
       "A data.frame: 10 × 4\n",
       "\n",
       "| <!--/--> | Country &lt;chr&gt; | Age &lt;dbl&gt; | Salary &lt;dbl&gt; | Purchased &lt;chr&gt; |\n",
       "|---|---|---|---|---|\n",
       "| 1 | France  | 44 | 72000 | No  |\n",
       "| 2 | Spain   | 27 | 48000 | Yes |\n",
       "| 3 | Germany | 30 | 54000 | No  |\n",
       "| 4 | Spain   | 38 | 61000 | No  |\n",
       "| 5 | Germany | 40 |    NA | Yes |\n",
       "| 6 | France  | 35 | 58000 | Yes |\n",
       "| 7 | Spain   | NA | 52000 | No  |\n",
       "| 8 | France  | 48 | 79000 | Yes |\n",
       "| 9 | Germany | 50 | 83000 | No  |\n",
       "| 10 | France  | 37 | 67000 | Yes |\n",
       "\n"
      ],
      "text/plain": [
       "   Country Age Salary Purchased\n",
       "1  France  44  72000  No       \n",
       "2  Spain   27  48000  Yes      \n",
       "3  Germany 30  54000  No       \n",
       "4  Spain   38  61000  No       \n",
       "5  Germany 40     NA  Yes      \n",
       "6  France  35  58000  Yes      \n",
       "7  Spain   NA  52000  No       \n",
       "8  France  48  79000  Yes      \n",
       "9  Germany 50  83000  No       \n",
       "10 France  37  67000  Yes      "
      ]
     },
     "metadata": {},
     "output_type": "display_data"
    }
   ],
   "source": [
    "data"
   ]
  },
  {
   "cell_type": "markdown",
   "id": "0e3cfb69",
   "metadata": {},
   "source": [
    "## Taking care of missing data"
   ]
  },
  {
   "cell_type": "markdown",
   "id": "315ebe67",
   "metadata": {},
   "source": [
    "### 1. Drop missing samples"
   ]
  },
  {
   "cell_type": "code",
   "execution_count": 14,
   "id": "47194301",
   "metadata": {},
   "outputs": [],
   "source": [
    "data_cleaned <- na.omit(dataset)"
   ]
  },
  {
   "cell_type": "code",
   "execution_count": 15,
   "id": "93018b20",
   "metadata": {},
   "outputs": [
    {
     "data": {
      "text/html": [
       "<table class=\"dataframe\">\n",
       "<caption>A data.frame: 8 × 4</caption>\n",
       "<thead>\n",
       "\t<tr><th></th><th scope=col>Country</th><th scope=col>Age</th><th scope=col>Salary</th><th scope=col>Purchased</th></tr>\n",
       "\t<tr><th></th><th scope=col>&lt;chr&gt;</th><th scope=col>&lt;int&gt;</th><th scope=col>&lt;int&gt;</th><th scope=col>&lt;chr&gt;</th></tr>\n",
       "</thead>\n",
       "<tbody>\n",
       "\t<tr><th scope=row>1</th><td>France </td><td>44</td><td>72000</td><td>No </td></tr>\n",
       "\t<tr><th scope=row>2</th><td>Spain  </td><td>27</td><td>48000</td><td>Yes</td></tr>\n",
       "\t<tr><th scope=row>3</th><td>Germany</td><td>30</td><td>54000</td><td>No </td></tr>\n",
       "\t<tr><th scope=row>4</th><td>Spain  </td><td>38</td><td>61000</td><td>No </td></tr>\n",
       "\t<tr><th scope=row>6</th><td>France </td><td>35</td><td>58000</td><td>Yes</td></tr>\n",
       "\t<tr><th scope=row>8</th><td>France </td><td>48</td><td>79000</td><td>Yes</td></tr>\n",
       "\t<tr><th scope=row>9</th><td>Germany</td><td>50</td><td>83000</td><td>No </td></tr>\n",
       "\t<tr><th scope=row>10</th><td>France </td><td>37</td><td>67000</td><td>Yes</td></tr>\n",
       "</tbody>\n",
       "</table>\n"
      ],
      "text/latex": [
       "A data.frame: 8 × 4\n",
       "\\begin{tabular}{r|llll}\n",
       "  & Country & Age & Salary & Purchased\\\\\n",
       "  & <chr> & <int> & <int> & <chr>\\\\\n",
       "\\hline\n",
       "\t1 & France  & 44 & 72000 & No \\\\\n",
       "\t2 & Spain   & 27 & 48000 & Yes\\\\\n",
       "\t3 & Germany & 30 & 54000 & No \\\\\n",
       "\t4 & Spain   & 38 & 61000 & No \\\\\n",
       "\t6 & France  & 35 & 58000 & Yes\\\\\n",
       "\t8 & France  & 48 & 79000 & Yes\\\\\n",
       "\t9 & Germany & 50 & 83000 & No \\\\\n",
       "\t10 & France  & 37 & 67000 & Yes\\\\\n",
       "\\end{tabular}\n"
      ],
      "text/markdown": [
       "\n",
       "A data.frame: 8 × 4\n",
       "\n",
       "| <!--/--> | Country &lt;chr&gt; | Age &lt;int&gt; | Salary &lt;int&gt; | Purchased &lt;chr&gt; |\n",
       "|---|---|---|---|---|\n",
       "| 1 | France  | 44 | 72000 | No  |\n",
       "| 2 | Spain   | 27 | 48000 | Yes |\n",
       "| 3 | Germany | 30 | 54000 | No  |\n",
       "| 4 | Spain   | 38 | 61000 | No  |\n",
       "| 6 | France  | 35 | 58000 | Yes |\n",
       "| 8 | France  | 48 | 79000 | Yes |\n",
       "| 9 | Germany | 50 | 83000 | No  |\n",
       "| 10 | France  | 37 | 67000 | Yes |\n",
       "\n"
      ],
      "text/plain": [
       "   Country Age Salary Purchased\n",
       "1  France  44  72000  No       \n",
       "2  Spain   27  48000  Yes      \n",
       "3  Germany 30  54000  No       \n",
       "4  Spain   38  61000  No       \n",
       "6  France  35  58000  Yes      \n",
       "8  France  48  79000  Yes      \n",
       "9  Germany 50  83000  No       \n",
       "10 France  37  67000  Yes      "
      ]
     },
     "metadata": {},
     "output_type": "display_data"
    }
   ],
   "source": [
    "data_cleaned"
   ]
  },
  {
   "cell_type": "markdown",
   "id": "e5a41f60",
   "metadata": {},
   "source": [
    "### 2. Imputation"
   ]
  },
  {
   "cell_type": "code",
   "execution_count": 11,
   "id": "f5a8ec68",
   "metadata": {},
   "outputs": [],
   "source": [
    "dataset$Age = ifelse(is.na(dataset$Age),\n",
    "                     ave(dataset$Age, FUN = function(x) mean(x, na.rm = TRUE)),\n",
    "                     dataset$Age)"
   ]
  },
  {
   "cell_type": "code",
   "execution_count": 12,
   "id": "3f92c824",
   "metadata": {},
   "outputs": [
    {
     "data": {
      "text/html": [
       "<table class=\"dataframe\">\n",
       "<caption>A data.frame: 10 × 4</caption>\n",
       "<thead>\n",
       "\t<tr><th scope=col>Country</th><th scope=col>Age</th><th scope=col>Salary</th><th scope=col>Purchased</th></tr>\n",
       "\t<tr><th scope=col>&lt;chr&gt;</th><th scope=col>&lt;dbl&gt;</th><th scope=col>&lt;int&gt;</th><th scope=col>&lt;chr&gt;</th></tr>\n",
       "</thead>\n",
       "<tbody>\n",
       "\t<tr><td>France </td><td>44.00000</td><td>72000</td><td>No </td></tr>\n",
       "\t<tr><td>Spain  </td><td>27.00000</td><td>48000</td><td>Yes</td></tr>\n",
       "\t<tr><td>Germany</td><td>30.00000</td><td>54000</td><td>No </td></tr>\n",
       "\t<tr><td>Spain  </td><td>38.00000</td><td>61000</td><td>No </td></tr>\n",
       "\t<tr><td>Germany</td><td>40.00000</td><td>   NA</td><td>Yes</td></tr>\n",
       "\t<tr><td>France </td><td>35.00000</td><td>58000</td><td>Yes</td></tr>\n",
       "\t<tr><td>Spain  </td><td>38.77778</td><td>52000</td><td>No </td></tr>\n",
       "\t<tr><td>France </td><td>48.00000</td><td>79000</td><td>Yes</td></tr>\n",
       "\t<tr><td>Germany</td><td>50.00000</td><td>83000</td><td>No </td></tr>\n",
       "\t<tr><td>France </td><td>37.00000</td><td>67000</td><td>Yes</td></tr>\n",
       "</tbody>\n",
       "</table>\n"
      ],
      "text/latex": [
       "A data.frame: 10 × 4\n",
       "\\begin{tabular}{llll}\n",
       " Country & Age & Salary & Purchased\\\\\n",
       " <chr> & <dbl> & <int> & <chr>\\\\\n",
       "\\hline\n",
       "\t France  & 44.00000 & 72000 & No \\\\\n",
       "\t Spain   & 27.00000 & 48000 & Yes\\\\\n",
       "\t Germany & 30.00000 & 54000 & No \\\\\n",
       "\t Spain   & 38.00000 & 61000 & No \\\\\n",
       "\t Germany & 40.00000 &    NA & Yes\\\\\n",
       "\t France  & 35.00000 & 58000 & Yes\\\\\n",
       "\t Spain   & 38.77778 & 52000 & No \\\\\n",
       "\t France  & 48.00000 & 79000 & Yes\\\\\n",
       "\t Germany & 50.00000 & 83000 & No \\\\\n",
       "\t France  & 37.00000 & 67000 & Yes\\\\\n",
       "\\end{tabular}\n"
      ],
      "text/markdown": [
       "\n",
       "A data.frame: 10 × 4\n",
       "\n",
       "| Country &lt;chr&gt; | Age &lt;dbl&gt; | Salary &lt;int&gt; | Purchased &lt;chr&gt; |\n",
       "|---|---|---|---|\n",
       "| France  | 44.00000 | 72000 | No  |\n",
       "| Spain   | 27.00000 | 48000 | Yes |\n",
       "| Germany | 30.00000 | 54000 | No  |\n",
       "| Spain   | 38.00000 | 61000 | No  |\n",
       "| Germany | 40.00000 |    NA | Yes |\n",
       "| France  | 35.00000 | 58000 | Yes |\n",
       "| Spain   | 38.77778 | 52000 | No  |\n",
       "| France  | 48.00000 | 79000 | Yes |\n",
       "| Germany | 50.00000 | 83000 | No  |\n",
       "| France  | 37.00000 | 67000 | Yes |\n",
       "\n"
      ],
      "text/plain": [
       "   Country Age      Salary Purchased\n",
       "1  France  44.00000 72000  No       \n",
       "2  Spain   27.00000 48000  Yes      \n",
       "3  Germany 30.00000 54000  No       \n",
       "4  Spain   38.00000 61000  No       \n",
       "5  Germany 40.00000    NA  Yes      \n",
       "6  France  35.00000 58000  Yes      \n",
       "7  Spain   38.77778 52000  No       \n",
       "8  France  48.00000 79000  Yes      \n",
       "9  Germany 50.00000 83000  No       \n",
       "10 France  37.00000 67000  Yes      "
      ]
     },
     "metadata": {},
     "output_type": "display_data"
    }
   ],
   "source": [
    "dataset"
   ]
  },
  {
   "cell_type": "code",
   "execution_count": 13,
   "id": "f81e877e",
   "metadata": {},
   "outputs": [],
   "source": [
    "dataset$Salary = ifelse(is.na(dataset$Salary),\n",
    "                        ave(dataset$Salary, FUN = function(x) mean(x, na.rm = TRUE)),\n",
    "                        dataset$Salary)"
   ]
  },
  {
   "cell_type": "code",
   "execution_count": 14,
   "id": "37e6925a",
   "metadata": {},
   "outputs": [
    {
     "data": {
      "text/html": [
       "<table class=\"dataframe\">\n",
       "<caption>A data.frame: 10 × 4</caption>\n",
       "<thead>\n",
       "\t<tr><th scope=col>Country</th><th scope=col>Age</th><th scope=col>Salary</th><th scope=col>Purchased</th></tr>\n",
       "\t<tr><th scope=col>&lt;chr&gt;</th><th scope=col>&lt;dbl&gt;</th><th scope=col>&lt;dbl&gt;</th><th scope=col>&lt;chr&gt;</th></tr>\n",
       "</thead>\n",
       "<tbody>\n",
       "\t<tr><td>France </td><td>44.00000</td><td>72000.00</td><td>No </td></tr>\n",
       "\t<tr><td>Spain  </td><td>27.00000</td><td>48000.00</td><td>Yes</td></tr>\n",
       "\t<tr><td>Germany</td><td>30.00000</td><td>54000.00</td><td>No </td></tr>\n",
       "\t<tr><td>Spain  </td><td>38.00000</td><td>61000.00</td><td>No </td></tr>\n",
       "\t<tr><td>Germany</td><td>40.00000</td><td>63777.78</td><td>Yes</td></tr>\n",
       "\t<tr><td>France </td><td>35.00000</td><td>58000.00</td><td>Yes</td></tr>\n",
       "\t<tr><td>Spain  </td><td>38.77778</td><td>52000.00</td><td>No </td></tr>\n",
       "\t<tr><td>France </td><td>48.00000</td><td>79000.00</td><td>Yes</td></tr>\n",
       "\t<tr><td>Germany</td><td>50.00000</td><td>83000.00</td><td>No </td></tr>\n",
       "\t<tr><td>France </td><td>37.00000</td><td>67000.00</td><td>Yes</td></tr>\n",
       "</tbody>\n",
       "</table>\n"
      ],
      "text/latex": [
       "A data.frame: 10 × 4\n",
       "\\begin{tabular}{llll}\n",
       " Country & Age & Salary & Purchased\\\\\n",
       " <chr> & <dbl> & <dbl> & <chr>\\\\\n",
       "\\hline\n",
       "\t France  & 44.00000 & 72000.00 & No \\\\\n",
       "\t Spain   & 27.00000 & 48000.00 & Yes\\\\\n",
       "\t Germany & 30.00000 & 54000.00 & No \\\\\n",
       "\t Spain   & 38.00000 & 61000.00 & No \\\\\n",
       "\t Germany & 40.00000 & 63777.78 & Yes\\\\\n",
       "\t France  & 35.00000 & 58000.00 & Yes\\\\\n",
       "\t Spain   & 38.77778 & 52000.00 & No \\\\\n",
       "\t France  & 48.00000 & 79000.00 & Yes\\\\\n",
       "\t Germany & 50.00000 & 83000.00 & No \\\\\n",
       "\t France  & 37.00000 & 67000.00 & Yes\\\\\n",
       "\\end{tabular}\n"
      ],
      "text/markdown": [
       "\n",
       "A data.frame: 10 × 4\n",
       "\n",
       "| Country &lt;chr&gt; | Age &lt;dbl&gt; | Salary &lt;dbl&gt; | Purchased &lt;chr&gt; |\n",
       "|---|---|---|---|\n",
       "| France  | 44.00000 | 72000.00 | No  |\n",
       "| Spain   | 27.00000 | 48000.00 | Yes |\n",
       "| Germany | 30.00000 | 54000.00 | No  |\n",
       "| Spain   | 38.00000 | 61000.00 | No  |\n",
       "| Germany | 40.00000 | 63777.78 | Yes |\n",
       "| France  | 35.00000 | 58000.00 | Yes |\n",
       "| Spain   | 38.77778 | 52000.00 | No  |\n",
       "| France  | 48.00000 | 79000.00 | Yes |\n",
       "| Germany | 50.00000 | 83000.00 | No  |\n",
       "| France  | 37.00000 | 67000.00 | Yes |\n",
       "\n"
      ],
      "text/plain": [
       "   Country Age      Salary   Purchased\n",
       "1  France  44.00000 72000.00 No       \n",
       "2  Spain   27.00000 48000.00 Yes      \n",
       "3  Germany 30.00000 54000.00 No       \n",
       "4  Spain   38.00000 61000.00 No       \n",
       "5  Germany 40.00000 63777.78 Yes      \n",
       "6  France  35.00000 58000.00 Yes      \n",
       "7  Spain   38.77778 52000.00 No       \n",
       "8  France  48.00000 79000.00 Yes      \n",
       "9  Germany 50.00000 83000.00 No       \n",
       "10 France  37.00000 67000.00 Yes      "
      ]
     },
     "metadata": {},
     "output_type": "display_data"
    }
   ],
   "source": [
    "dataset"
   ]
  },
  {
   "cell_type": "markdown",
   "id": "44ecf2ef",
   "metadata": {},
   "source": [
    "### 3. Regression imputation"
   ]
  },
  {
   "cell_type": "markdown",
   "id": "4753c078",
   "metadata": {},
   "source": [
    "We will cover this part after we find out what Regression is :)"
   ]
  },
  {
   "cell_type": "markdown",
   "id": "688d5f25",
   "metadata": {},
   "source": [
    "## Encoding categorical data"
   ]
  },
  {
   "cell_type": "code",
   "execution_count": 15,
   "id": "97c5cdc2",
   "metadata": {},
   "outputs": [],
   "source": [
    "dataset$Country = factor(dataset$Country,\n",
    "                         levels = c('France', 'Spain', 'Germany'),\n",
    "                         labels = c(1, 2, 3))"
   ]
  },
  {
   "cell_type": "code",
   "execution_count": 16,
   "id": "8e8cae26",
   "metadata": {},
   "outputs": [
    {
     "data": {
      "text/html": [
       "<table class=\"dataframe\">\n",
       "<caption>A data.frame: 10 × 4</caption>\n",
       "<thead>\n",
       "\t<tr><th scope=col>Country</th><th scope=col>Age</th><th scope=col>Salary</th><th scope=col>Purchased</th></tr>\n",
       "\t<tr><th scope=col>&lt;fct&gt;</th><th scope=col>&lt;dbl&gt;</th><th scope=col>&lt;dbl&gt;</th><th scope=col>&lt;chr&gt;</th></tr>\n",
       "</thead>\n",
       "<tbody>\n",
       "\t<tr><td>1</td><td>44.00000</td><td>72000.00</td><td>No </td></tr>\n",
       "\t<tr><td>2</td><td>27.00000</td><td>48000.00</td><td>Yes</td></tr>\n",
       "\t<tr><td>3</td><td>30.00000</td><td>54000.00</td><td>No </td></tr>\n",
       "\t<tr><td>2</td><td>38.00000</td><td>61000.00</td><td>No </td></tr>\n",
       "\t<tr><td>3</td><td>40.00000</td><td>63777.78</td><td>Yes</td></tr>\n",
       "\t<tr><td>1</td><td>35.00000</td><td>58000.00</td><td>Yes</td></tr>\n",
       "\t<tr><td>2</td><td>38.77778</td><td>52000.00</td><td>No </td></tr>\n",
       "\t<tr><td>1</td><td>48.00000</td><td>79000.00</td><td>Yes</td></tr>\n",
       "\t<tr><td>3</td><td>50.00000</td><td>83000.00</td><td>No </td></tr>\n",
       "\t<tr><td>1</td><td>37.00000</td><td>67000.00</td><td>Yes</td></tr>\n",
       "</tbody>\n",
       "</table>\n"
      ],
      "text/latex": [
       "A data.frame: 10 × 4\n",
       "\\begin{tabular}{llll}\n",
       " Country & Age & Salary & Purchased\\\\\n",
       " <fct> & <dbl> & <dbl> & <chr>\\\\\n",
       "\\hline\n",
       "\t 1 & 44.00000 & 72000.00 & No \\\\\n",
       "\t 2 & 27.00000 & 48000.00 & Yes\\\\\n",
       "\t 3 & 30.00000 & 54000.00 & No \\\\\n",
       "\t 2 & 38.00000 & 61000.00 & No \\\\\n",
       "\t 3 & 40.00000 & 63777.78 & Yes\\\\\n",
       "\t 1 & 35.00000 & 58000.00 & Yes\\\\\n",
       "\t 2 & 38.77778 & 52000.00 & No \\\\\n",
       "\t 1 & 48.00000 & 79000.00 & Yes\\\\\n",
       "\t 3 & 50.00000 & 83000.00 & No \\\\\n",
       "\t 1 & 37.00000 & 67000.00 & Yes\\\\\n",
       "\\end{tabular}\n"
      ],
      "text/markdown": [
       "\n",
       "A data.frame: 10 × 4\n",
       "\n",
       "| Country &lt;fct&gt; | Age &lt;dbl&gt; | Salary &lt;dbl&gt; | Purchased &lt;chr&gt; |\n",
       "|---|---|---|---|\n",
       "| 1 | 44.00000 | 72000.00 | No  |\n",
       "| 2 | 27.00000 | 48000.00 | Yes |\n",
       "| 3 | 30.00000 | 54000.00 | No  |\n",
       "| 2 | 38.00000 | 61000.00 | No  |\n",
       "| 3 | 40.00000 | 63777.78 | Yes |\n",
       "| 1 | 35.00000 | 58000.00 | Yes |\n",
       "| 2 | 38.77778 | 52000.00 | No  |\n",
       "| 1 | 48.00000 | 79000.00 | Yes |\n",
       "| 3 | 50.00000 | 83000.00 | No  |\n",
       "| 1 | 37.00000 | 67000.00 | Yes |\n",
       "\n"
      ],
      "text/plain": [
       "   Country Age      Salary   Purchased\n",
       "1  1       44.00000 72000.00 No       \n",
       "2  2       27.00000 48000.00 Yes      \n",
       "3  3       30.00000 54000.00 No       \n",
       "4  2       38.00000 61000.00 No       \n",
       "5  3       40.00000 63777.78 Yes      \n",
       "6  1       35.00000 58000.00 Yes      \n",
       "7  2       38.77778 52000.00 No       \n",
       "8  1       48.00000 79000.00 Yes      \n",
       "9  3       50.00000 83000.00 No       \n",
       "10 1       37.00000 67000.00 Yes      "
      ]
     },
     "metadata": {},
     "output_type": "display_data"
    }
   ],
   "source": [
    "dataset"
   ]
  },
  {
   "cell_type": "code",
   "execution_count": 17,
   "id": "4520b889",
   "metadata": {},
   "outputs": [],
   "source": [
    "dataset$Purchased = factor(dataset$Purchased,\n",
    "                           levels = c('No', 'Yes'),\n",
    "                           labels = c(0, 1))"
   ]
  },
  {
   "cell_type": "code",
   "execution_count": 18,
   "id": "76dd419f",
   "metadata": {},
   "outputs": [
    {
     "data": {
      "text/html": [
       "<table class=\"dataframe\">\n",
       "<caption>A data.frame: 10 × 4</caption>\n",
       "<thead>\n",
       "\t<tr><th scope=col>Country</th><th scope=col>Age</th><th scope=col>Salary</th><th scope=col>Purchased</th></tr>\n",
       "\t<tr><th scope=col>&lt;fct&gt;</th><th scope=col>&lt;dbl&gt;</th><th scope=col>&lt;dbl&gt;</th><th scope=col>&lt;fct&gt;</th></tr>\n",
       "</thead>\n",
       "<tbody>\n",
       "\t<tr><td>1</td><td>44.00000</td><td>72000.00</td><td>0</td></tr>\n",
       "\t<tr><td>2</td><td>27.00000</td><td>48000.00</td><td>1</td></tr>\n",
       "\t<tr><td>3</td><td>30.00000</td><td>54000.00</td><td>0</td></tr>\n",
       "\t<tr><td>2</td><td>38.00000</td><td>61000.00</td><td>0</td></tr>\n",
       "\t<tr><td>3</td><td>40.00000</td><td>63777.78</td><td>1</td></tr>\n",
       "\t<tr><td>1</td><td>35.00000</td><td>58000.00</td><td>1</td></tr>\n",
       "\t<tr><td>2</td><td>38.77778</td><td>52000.00</td><td>0</td></tr>\n",
       "\t<tr><td>1</td><td>48.00000</td><td>79000.00</td><td>1</td></tr>\n",
       "\t<tr><td>3</td><td>50.00000</td><td>83000.00</td><td>0</td></tr>\n",
       "\t<tr><td>1</td><td>37.00000</td><td>67000.00</td><td>1</td></tr>\n",
       "</tbody>\n",
       "</table>\n"
      ],
      "text/latex": [
       "A data.frame: 10 × 4\n",
       "\\begin{tabular}{llll}\n",
       " Country & Age & Salary & Purchased\\\\\n",
       " <fct> & <dbl> & <dbl> & <fct>\\\\\n",
       "\\hline\n",
       "\t 1 & 44.00000 & 72000.00 & 0\\\\\n",
       "\t 2 & 27.00000 & 48000.00 & 1\\\\\n",
       "\t 3 & 30.00000 & 54000.00 & 0\\\\\n",
       "\t 2 & 38.00000 & 61000.00 & 0\\\\\n",
       "\t 3 & 40.00000 & 63777.78 & 1\\\\\n",
       "\t 1 & 35.00000 & 58000.00 & 1\\\\\n",
       "\t 2 & 38.77778 & 52000.00 & 0\\\\\n",
       "\t 1 & 48.00000 & 79000.00 & 1\\\\\n",
       "\t 3 & 50.00000 & 83000.00 & 0\\\\\n",
       "\t 1 & 37.00000 & 67000.00 & 1\\\\\n",
       "\\end{tabular}\n"
      ],
      "text/markdown": [
       "\n",
       "A data.frame: 10 × 4\n",
       "\n",
       "| Country &lt;fct&gt; | Age &lt;dbl&gt; | Salary &lt;dbl&gt; | Purchased &lt;fct&gt; |\n",
       "|---|---|---|---|\n",
       "| 1 | 44.00000 | 72000.00 | 0 |\n",
       "| 2 | 27.00000 | 48000.00 | 1 |\n",
       "| 3 | 30.00000 | 54000.00 | 0 |\n",
       "| 2 | 38.00000 | 61000.00 | 0 |\n",
       "| 3 | 40.00000 | 63777.78 | 1 |\n",
       "| 1 | 35.00000 | 58000.00 | 1 |\n",
       "| 2 | 38.77778 | 52000.00 | 0 |\n",
       "| 1 | 48.00000 | 79000.00 | 1 |\n",
       "| 3 | 50.00000 | 83000.00 | 0 |\n",
       "| 1 | 37.00000 | 67000.00 | 1 |\n",
       "\n"
      ],
      "text/plain": [
       "   Country Age      Salary   Purchased\n",
       "1  1       44.00000 72000.00 0        \n",
       "2  2       27.00000 48000.00 1        \n",
       "3  3       30.00000 54000.00 0        \n",
       "4  2       38.00000 61000.00 0        \n",
       "5  3       40.00000 63777.78 1        \n",
       "6  1       35.00000 58000.00 1        \n",
       "7  2       38.77778 52000.00 0        \n",
       "8  1       48.00000 79000.00 1        \n",
       "9  3       50.00000 83000.00 0        \n",
       "10 1       37.00000 67000.00 1        "
      ]
     },
     "metadata": {},
     "output_type": "display_data"
    }
   ],
   "source": [
    "dataset"
   ]
  },
  {
   "cell_type": "markdown",
   "id": "3a2662ed",
   "metadata": {},
   "source": [
    "## Splitting the dataset into the Training set and Test set"
   ]
  },
  {
   "cell_type": "code",
   "execution_count": 19,
   "id": "dceb258d",
   "metadata": {},
   "outputs": [
    {
     "name": "stderr",
     "output_type": "stream",
     "text": [
      "Installing package into 'C:/Users/ASUS/AppData/Local/R/win-library/4.4'\n",
      "(as 'lib' is unspecified)\n",
      "\n"
     ]
    },
    {
     "name": "stdout",
     "output_type": "stream",
     "text": [
      "package 'caTools' successfully unpacked and MD5 sums checked\n",
      "\n",
      "The downloaded binary packages are in\n",
      "\tC:\\Users\\ASUS\\AppData\\Local\\Temp\\RtmpeqUv8W\\downloaded_packages\n"
     ]
    }
   ],
   "source": [
    "install.packages('caTools')"
   ]
  },
  {
   "cell_type": "code",
   "execution_count": 20,
   "id": "5c82de4b",
   "metadata": {},
   "outputs": [
    {
     "name": "stderr",
     "output_type": "stream",
     "text": [
      "Warning message:\n",
      "\"package 'caTools' was built under R version 4.4.2\"\n"
     ]
    }
   ],
   "source": [
    "library(caTools)"
   ]
  },
  {
   "cell_type": "code",
   "execution_count": 21,
   "id": "d380c604",
   "metadata": {},
   "outputs": [],
   "source": [
    "set.seed(123)"
   ]
  },
  {
   "cell_type": "code",
   "execution_count": 25,
   "id": "346c62a5",
   "metadata": {},
   "outputs": [],
   "source": [
    "split = sample.split(dataset$Purchased, SplitRatio = 0.8) #Purchased is your dependent variables"
   ]
  },
  {
   "cell_type": "code",
   "execution_count": 26,
   "id": "3cffb55a",
   "metadata": {},
   "outputs": [
    {
     "data": {
      "text/html": [
       "<style>\n",
       ".list-inline {list-style: none; margin:0; padding: 0}\n",
       ".list-inline>li {display: inline-block}\n",
       ".list-inline>li:not(:last-child)::after {content: \"\\00b7\"; padding: 0 .5ex}\n",
       "</style>\n",
       "<ol class=list-inline><li>FALSE</li><li>TRUE</li><li>TRUE</li><li>TRUE</li><li>TRUE</li><li>TRUE</li><li>TRUE</li><li>TRUE</li><li>TRUE</li><li>FALSE</li></ol>\n"
      ],
      "text/latex": [
       "\\begin{enumerate*}\n",
       "\\item FALSE\n",
       "\\item TRUE\n",
       "\\item TRUE\n",
       "\\item TRUE\n",
       "\\item TRUE\n",
       "\\item TRUE\n",
       "\\item TRUE\n",
       "\\item TRUE\n",
       "\\item TRUE\n",
       "\\item FALSE\n",
       "\\end{enumerate*}\n"
      ],
      "text/markdown": [
       "1. FALSE\n",
       "2. TRUE\n",
       "3. TRUE\n",
       "4. TRUE\n",
       "5. TRUE\n",
       "6. TRUE\n",
       "7. TRUE\n",
       "8. TRUE\n",
       "9. TRUE\n",
       "10. FALSE\n",
       "\n",
       "\n"
      ],
      "text/plain": [
       " [1] FALSE  TRUE  TRUE  TRUE  TRUE  TRUE  TRUE  TRUE  TRUE FALSE"
      ]
     },
     "metadata": {},
     "output_type": "display_data"
    }
   ],
   "source": [
    "split"
   ]
  },
  {
   "cell_type": "code",
   "execution_count": 24,
   "id": "0455384a",
   "metadata": {},
   "outputs": [],
   "source": [
    "training_set = subset(dataset, split == TRUE)\n",
    "test_set = subset(dataset, split == FALSE)"
   ]
  },
  {
   "cell_type": "code",
   "execution_count": 27,
   "id": "3b3307af",
   "metadata": {},
   "outputs": [
    {
     "data": {
      "text/html": [
       "<table class=\"dataframe\">\n",
       "<caption>A data.frame: 8 × 4</caption>\n",
       "<thead>\n",
       "\t<tr><th></th><th scope=col>Country</th><th scope=col>Age</th><th scope=col>Salary</th><th scope=col>Purchased</th></tr>\n",
       "\t<tr><th></th><th scope=col>&lt;fct&gt;</th><th scope=col>&lt;dbl&gt;</th><th scope=col>&lt;dbl&gt;</th><th scope=col>&lt;fct&gt;</th></tr>\n",
       "</thead>\n",
       "<tbody>\n",
       "\t<tr><th scope=row>1</th><td>1</td><td>44.00000</td><td>72000.00</td><td>0</td></tr>\n",
       "\t<tr><th scope=row>2</th><td>2</td><td>27.00000</td><td>48000.00</td><td>1</td></tr>\n",
       "\t<tr><th scope=row>3</th><td>3</td><td>30.00000</td><td>54000.00</td><td>0</td></tr>\n",
       "\t<tr><th scope=row>4</th><td>2</td><td>38.00000</td><td>61000.00</td><td>0</td></tr>\n",
       "\t<tr><th scope=row>5</th><td>3</td><td>40.00000</td><td>63777.78</td><td>1</td></tr>\n",
       "\t<tr><th scope=row>7</th><td>2</td><td>38.77778</td><td>52000.00</td><td>0</td></tr>\n",
       "\t<tr><th scope=row>8</th><td>1</td><td>48.00000</td><td>79000.00</td><td>1</td></tr>\n",
       "\t<tr><th scope=row>10</th><td>1</td><td>37.00000</td><td>67000.00</td><td>1</td></tr>\n",
       "</tbody>\n",
       "</table>\n"
      ],
      "text/latex": [
       "A data.frame: 8 × 4\n",
       "\\begin{tabular}{r|llll}\n",
       "  & Country & Age & Salary & Purchased\\\\\n",
       "  & <fct> & <dbl> & <dbl> & <fct>\\\\\n",
       "\\hline\n",
       "\t1 & 1 & 44.00000 & 72000.00 & 0\\\\\n",
       "\t2 & 2 & 27.00000 & 48000.00 & 1\\\\\n",
       "\t3 & 3 & 30.00000 & 54000.00 & 0\\\\\n",
       "\t4 & 2 & 38.00000 & 61000.00 & 0\\\\\n",
       "\t5 & 3 & 40.00000 & 63777.78 & 1\\\\\n",
       "\t7 & 2 & 38.77778 & 52000.00 & 0\\\\\n",
       "\t8 & 1 & 48.00000 & 79000.00 & 1\\\\\n",
       "\t10 & 1 & 37.00000 & 67000.00 & 1\\\\\n",
       "\\end{tabular}\n"
      ],
      "text/markdown": [
       "\n",
       "A data.frame: 8 × 4\n",
       "\n",
       "| <!--/--> | Country &lt;fct&gt; | Age &lt;dbl&gt; | Salary &lt;dbl&gt; | Purchased &lt;fct&gt; |\n",
       "|---|---|---|---|---|\n",
       "| 1 | 1 | 44.00000 | 72000.00 | 0 |\n",
       "| 2 | 2 | 27.00000 | 48000.00 | 1 |\n",
       "| 3 | 3 | 30.00000 | 54000.00 | 0 |\n",
       "| 4 | 2 | 38.00000 | 61000.00 | 0 |\n",
       "| 5 | 3 | 40.00000 | 63777.78 | 1 |\n",
       "| 7 | 2 | 38.77778 | 52000.00 | 0 |\n",
       "| 8 | 1 | 48.00000 | 79000.00 | 1 |\n",
       "| 10 | 1 | 37.00000 | 67000.00 | 1 |\n",
       "\n"
      ],
      "text/plain": [
       "   Country Age      Salary   Purchased\n",
       "1  1       44.00000 72000.00 0        \n",
       "2  2       27.00000 48000.00 1        \n",
       "3  3       30.00000 54000.00 0        \n",
       "4  2       38.00000 61000.00 0        \n",
       "5  3       40.00000 63777.78 1        \n",
       "7  2       38.77778 52000.00 0        \n",
       "8  1       48.00000 79000.00 1        \n",
       "10 1       37.00000 67000.00 1        "
      ]
     },
     "metadata": {},
     "output_type": "display_data"
    }
   ],
   "source": [
    "training_set"
   ]
  },
  {
   "cell_type": "code",
   "execution_count": 28,
   "id": "8aff7b11",
   "metadata": {},
   "outputs": [
    {
     "data": {
      "text/html": [
       "<table class=\"dataframe\">\n",
       "<caption>A data.frame: 2 × 4</caption>\n",
       "<thead>\n",
       "\t<tr><th></th><th scope=col>Country</th><th scope=col>Age</th><th scope=col>Salary</th><th scope=col>Purchased</th></tr>\n",
       "\t<tr><th></th><th scope=col>&lt;fct&gt;</th><th scope=col>&lt;dbl&gt;</th><th scope=col>&lt;dbl&gt;</th><th scope=col>&lt;fct&gt;</th></tr>\n",
       "</thead>\n",
       "<tbody>\n",
       "\t<tr><th scope=row>6</th><td>1</td><td>35</td><td>58000</td><td>1</td></tr>\n",
       "\t<tr><th scope=row>9</th><td>3</td><td>50</td><td>83000</td><td>0</td></tr>\n",
       "</tbody>\n",
       "</table>\n"
      ],
      "text/latex": [
       "A data.frame: 2 × 4\n",
       "\\begin{tabular}{r|llll}\n",
       "  & Country & Age & Salary & Purchased\\\\\n",
       "  & <fct> & <dbl> & <dbl> & <fct>\\\\\n",
       "\\hline\n",
       "\t6 & 1 & 35 & 58000 & 1\\\\\n",
       "\t9 & 3 & 50 & 83000 & 0\\\\\n",
       "\\end{tabular}\n"
      ],
      "text/markdown": [
       "\n",
       "A data.frame: 2 × 4\n",
       "\n",
       "| <!--/--> | Country &lt;fct&gt; | Age &lt;dbl&gt; | Salary &lt;dbl&gt; | Purchased &lt;fct&gt; |\n",
       "|---|---|---|---|---|\n",
       "| 6 | 1 | 35 | 58000 | 1 |\n",
       "| 9 | 3 | 50 | 83000 | 0 |\n",
       "\n"
      ],
      "text/plain": [
       "  Country Age Salary Purchased\n",
       "6 1       35  58000  1        \n",
       "9 3       50  83000  0        "
      ]
     },
     "metadata": {},
     "output_type": "display_data"
    }
   ],
   "source": [
    "test_set"
   ]
  },
  {
   "cell_type": "markdown",
   "id": "90f37937",
   "metadata": {},
   "source": [
    "## Feature Scaling"
   ]
  },
  {
   "cell_type": "code",
   "execution_count": 29,
   "id": "3481a5b9",
   "metadata": {},
   "outputs": [
    {
     "ename": "ERROR",
     "evalue": "Error in colMeans(x, na.rm = TRUE): 'x' must be numeric\n",
     "output_type": "error",
     "traceback": [
      "Error in colMeans(x, na.rm = TRUE): 'x' must be numeric\nTraceback:\n",
      "1. scale(training_set)",
      "2. scale.default(training_set)",
      "3. colMeans(x, na.rm = TRUE)"
     ]
    }
   ],
   "source": [
    "training_set = scale(training_set)"
   ]
  },
  {
   "cell_type": "code",
   "execution_count": 31,
   "id": "15ce3978",
   "metadata": {},
   "outputs": [
    {
     "ename": "ERROR",
     "evalue": "Error in colMeans(x, na.rm = TRUE): 'x' must be numeric\n",
     "output_type": "error",
     "traceback": [
      "Error in colMeans(x, na.rm = TRUE): 'x' must be numeric\nTraceback:\n",
      "1. scale(test_set)",
      "2. scale.default(test_set)",
      "3. colMeans(x, na.rm = TRUE)"
     ]
    }
   ],
   "source": [
    "test_set = scale(test_set)"
   ]
  },
  {
   "cell_type": "code",
   "execution_count": 33,
   "id": "7c275f49",
   "metadata": {},
   "outputs": [],
   "source": [
    "training_set[,2:3] = scale(training_set[,2:3])"
   ]
  },
  {
   "cell_type": "code",
   "execution_count": 34,
   "id": "137f8b7f",
   "metadata": {},
   "outputs": [
    {
     "data": {
      "text/html": [
       "<table class=\"dataframe\">\n",
       "<caption>A data.frame: 8 × 4</caption>\n",
       "<thead>\n",
       "\t<tr><th></th><th scope=col>Country</th><th scope=col>Age</th><th scope=col>Salary</th><th scope=col>Purchased</th></tr>\n",
       "\t<tr><th></th><th scope=col>&lt;fct&gt;</th><th scope=col>&lt;dbl&gt;</th><th scope=col>&lt;dbl&gt;</th><th scope=col>&lt;fct&gt;</th></tr>\n",
       "</thead>\n",
       "<tbody>\n",
       "\t<tr><th scope=row>1</th><td>1</td><td> 0.90101716</td><td> 0.9392746</td><td>0</td></tr>\n",
       "\t<tr><th scope=row>2</th><td>2</td><td>-1.58847494</td><td>-1.3371160</td><td>1</td></tr>\n",
       "\t<tr><th scope=row>3</th><td>3</td><td>-1.14915281</td><td>-0.7680183</td><td>0</td></tr>\n",
       "\t<tr><th scope=row>4</th><td>2</td><td> 0.02237289</td><td>-0.1040711</td><td>0</td></tr>\n",
       "\t<tr><th scope=row>5</th><td>3</td><td> 0.31525431</td><td> 0.1594000</td><td>1</td></tr>\n",
       "\t<tr><th scope=row>7</th><td>2</td><td> 0.13627122</td><td>-0.9577176</td><td>0</td></tr>\n",
       "\t<tr><th scope=row>8</th><td>1</td><td> 1.48678000</td><td> 1.6032218</td><td>1</td></tr>\n",
       "\t<tr><th scope=row>10</th><td>1</td><td>-0.12406783</td><td> 0.4650265</td><td>1</td></tr>\n",
       "</tbody>\n",
       "</table>\n"
      ],
      "text/latex": [
       "A data.frame: 8 × 4\n",
       "\\begin{tabular}{r|llll}\n",
       "  & Country & Age & Salary & Purchased\\\\\n",
       "  & <fct> & <dbl> & <dbl> & <fct>\\\\\n",
       "\\hline\n",
       "\t1 & 1 &  0.90101716 &  0.9392746 & 0\\\\\n",
       "\t2 & 2 & -1.58847494 & -1.3371160 & 1\\\\\n",
       "\t3 & 3 & -1.14915281 & -0.7680183 & 0\\\\\n",
       "\t4 & 2 &  0.02237289 & -0.1040711 & 0\\\\\n",
       "\t5 & 3 &  0.31525431 &  0.1594000 & 1\\\\\n",
       "\t7 & 2 &  0.13627122 & -0.9577176 & 0\\\\\n",
       "\t8 & 1 &  1.48678000 &  1.6032218 & 1\\\\\n",
       "\t10 & 1 & -0.12406783 &  0.4650265 & 1\\\\\n",
       "\\end{tabular}\n"
      ],
      "text/markdown": [
       "\n",
       "A data.frame: 8 × 4\n",
       "\n",
       "| <!--/--> | Country &lt;fct&gt; | Age &lt;dbl&gt; | Salary &lt;dbl&gt; | Purchased &lt;fct&gt; |\n",
       "|---|---|---|---|---|\n",
       "| 1 | 1 |  0.90101716 |  0.9392746 | 0 |\n",
       "| 2 | 2 | -1.58847494 | -1.3371160 | 1 |\n",
       "| 3 | 3 | -1.14915281 | -0.7680183 | 0 |\n",
       "| 4 | 2 |  0.02237289 | -0.1040711 | 0 |\n",
       "| 5 | 3 |  0.31525431 |  0.1594000 | 1 |\n",
       "| 7 | 2 |  0.13627122 | -0.9577176 | 0 |\n",
       "| 8 | 1 |  1.48678000 |  1.6032218 | 1 |\n",
       "| 10 | 1 | -0.12406783 |  0.4650265 | 1 |\n",
       "\n"
      ],
      "text/plain": [
       "   Country Age         Salary     Purchased\n",
       "1  1        0.90101716  0.9392746 0        \n",
       "2  2       -1.58847494 -1.3371160 1        \n",
       "3  3       -1.14915281 -0.7680183 0        \n",
       "4  2        0.02237289 -0.1040711 0        \n",
       "5  3        0.31525431  0.1594000 1        \n",
       "7  2        0.13627122 -0.9577176 0        \n",
       "8  1        1.48678000  1.6032218 1        \n",
       "10 1       -0.12406783  0.4650265 1        "
      ]
     },
     "metadata": {},
     "output_type": "display_data"
    }
   ],
   "source": [
    "training_set"
   ]
  },
  {
   "cell_type": "code",
   "execution_count": 35,
   "id": "fb03d346",
   "metadata": {},
   "outputs": [],
   "source": [
    "test_set[,2:3] = scale(test_set[,2:3])"
   ]
  },
  {
   "cell_type": "code",
   "execution_count": 36,
   "id": "b19d4fc9",
   "metadata": {},
   "outputs": [
    {
     "data": {
      "text/html": [
       "<table class=\"dataframe\">\n",
       "<caption>A data.frame: 2 × 4</caption>\n",
       "<thead>\n",
       "\t<tr><th></th><th scope=col>Country</th><th scope=col>Age</th><th scope=col>Salary</th><th scope=col>Purchased</th></tr>\n",
       "\t<tr><th></th><th scope=col>&lt;fct&gt;</th><th scope=col>&lt;dbl&gt;</th><th scope=col>&lt;dbl&gt;</th><th scope=col>&lt;fct&gt;</th></tr>\n",
       "</thead>\n",
       "<tbody>\n",
       "\t<tr><th scope=row>6</th><td>1</td><td>-0.7071068</td><td>-0.7071068</td><td>1</td></tr>\n",
       "\t<tr><th scope=row>9</th><td>3</td><td> 0.7071068</td><td> 0.7071068</td><td>0</td></tr>\n",
       "</tbody>\n",
       "</table>\n"
      ],
      "text/latex": [
       "A data.frame: 2 × 4\n",
       "\\begin{tabular}{r|llll}\n",
       "  & Country & Age & Salary & Purchased\\\\\n",
       "  & <fct> & <dbl> & <dbl> & <fct>\\\\\n",
       "\\hline\n",
       "\t6 & 1 & -0.7071068 & -0.7071068 & 1\\\\\n",
       "\t9 & 3 &  0.7071068 &  0.7071068 & 0\\\\\n",
       "\\end{tabular}\n"
      ],
      "text/markdown": [
       "\n",
       "A data.frame: 2 × 4\n",
       "\n",
       "| <!--/--> | Country &lt;fct&gt; | Age &lt;dbl&gt; | Salary &lt;dbl&gt; | Purchased &lt;fct&gt; |\n",
       "|---|---|---|---|---|\n",
       "| 6 | 1 | -0.7071068 | -0.7071068 | 1 |\n",
       "| 9 | 3 |  0.7071068 |  0.7071068 | 0 |\n",
       "\n"
      ],
      "text/plain": [
       "  Country Age        Salary     Purchased\n",
       "6 1       -0.7071068 -0.7071068 1        \n",
       "9 3        0.7071068  0.7071068 0        "
      ]
     },
     "metadata": {},
     "output_type": "display_data"
    }
   ],
   "source": [
    "test_set"
   ]
  },
  {
   "cell_type": "code",
   "execution_count": null,
   "id": "2c871fd8",
   "metadata": {},
   "outputs": [],
   "source": []
  }
 ],
 "metadata": {
  "kernelspec": {
   "display_name": "R",
   "language": "R",
   "name": "ir"
  },
  "language_info": {
   "codemirror_mode": "r",
   "file_extension": ".r",
   "mimetype": "text/x-r-source",
   "name": "R",
   "pygments_lexer": "r",
   "version": "4.4.1"
  }
 },
 "nbformat": 4,
 "nbformat_minor": 5
}
