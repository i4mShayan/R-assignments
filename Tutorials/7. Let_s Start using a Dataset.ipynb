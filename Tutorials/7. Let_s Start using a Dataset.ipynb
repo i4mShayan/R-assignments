{
 "cells": [
  {
   "cell_type": "markdown",
   "id": "8000b41e",
   "metadata": {},
   "source": [
    "# Data Manipulation and Cleaning in R\n",
    "This notebook is designed for teaching data manipulation and cleaning using R. We will cover the following topics:\n",
    "- Basic mathematical functions in R\n",
    "- Filtering, subsetting, and sorting data\n",
    "- Importing data from files\n",
    "- Handling and cleaning missing data\n",
    "\n",
    "Let's get started!"
   ]
  },
  {
   "cell_type": "markdown",
   "id": "a9e4cae6",
   "metadata": {},
   "source": [
    "### Basic Mathematical Functions"
   ]
  },
  {
   "cell_type": "code",
   "execution_count": 3,
   "id": "114b21d9",
   "metadata": {},
   "outputs": [
    {
     "name": "stdout",
     "output_type": "stream",
     "text": [
      "Sum: 211 \n",
      "Mean: 30.14286 \n",
      "Median: 23 \n",
      "Standard Deviation: 15.08231"
     ]
    }
   ],
   "source": [
    "# Creating a vector of sample data\n",
    "data <- c(23, 15, 42, 57, 19, 34, 21)\n",
    "\n",
    "# Calculating basic statistics\n",
    "sum_data <- sum(data)\n",
    "mean_data <- mean(data)\n",
    "median_data <- median(data)\n",
    "sd_data <- sd(data)\n",
    "\n",
    "# Displaying results\n",
    "cat(\"Sum:\", sum_data, \"\\nMean:\", mean_data, \"\\nMedian:\", median_data, \"\\nStandard Deviation:\", sd_data)"
   ]
  },
  {
   "cell_type": "markdown",
   "id": "b32a323e",
   "metadata": {},
   "source": [
    "### Filtering and Subsetting Data"
   ]
  },
  {
   "cell_type": "code",
   "execution_count": 3,
   "id": "2462f8f9",
   "metadata": {},
   "outputs": [
    {
     "data": {
      "text/html": [
       "<style>\n",
       ".list-inline {list-style: none; margin:0; padding: 0}\n",
       ".list-inline>li {display: inline-block}\n",
       ".list-inline>li:not(:last-child)::after {content: \"\\00b7\"; padding: 0 .5ex}\n",
       "</style>\n",
       "<ol class=list-inline><li>42</li><li>57</li><li>34</li></ol>\n"
      ],
      "text/latex": [
       "\\begin{enumerate*}\n",
       "\\item 42\n",
       "\\item 57\n",
       "\\item 34\n",
       "\\end{enumerate*}\n"
      ],
      "text/markdown": [
       "1. 42\n",
       "2. 57\n",
       "3. 34\n",
       "\n",
       "\n"
      ],
      "text/plain": [
       "[1] 42 57 34"
      ]
     },
     "metadata": {},
     "output_type": "display_data"
    }
   ],
   "source": [
    "# Example: Filtering numbers greater than 30\n",
    "filtered_data <- subset(data, data > 30)\n",
    "filtered_data"
   ]
  },
  {
   "cell_type": "markdown",
   "id": "0cf46fa0",
   "metadata": {},
   "source": [
    "### Sorting Data"
   ]
  },
  {
   "cell_type": "code",
   "execution_count": 4,
   "id": "49d3e7c6",
   "metadata": {},
   "outputs": [
    {
     "name": "stdout",
     "output_type": "stream",
     "text": [
      "Ascending Order: 15 19 21 23 34 42 57 \n",
      "Descending Order: 57 42 34 23 21 19 15"
     ]
    }
   ],
   "source": [
    "# Sorting data in ascending order\n",
    "sorted_data <- sort(data)\n",
    "\n",
    "# Sorting in descending order\n",
    "sorted_data_desc <- sort(data, decreasing = TRUE)\n",
    "\n",
    "cat(\"Ascending Order:\", sorted_data, \"\\nDescending Order:\", sorted_data_desc)"
   ]
  },
  {
   "cell_type": "markdown",
   "id": "deb62178",
   "metadata": {},
   "source": [
    "### Importing and Cleaning Data"
   ]
  },
  {
   "cell_type": "code",
   "execution_count": 6,
   "id": "6b8676a6",
   "metadata": {},
   "outputs": [
    {
     "data": {
      "text/html": [
       "<table class=\"dataframe\">\n",
       "<caption>A data.frame: 6 × 9</caption>\n",
       "<thead>\n",
       "\t<tr><th></th><th scope=col>Pregnancies</th><th scope=col>Glucose</th><th scope=col>BloodPressure</th><th scope=col>SkinThickness</th><th scope=col>Insulin</th><th scope=col>BMI</th><th scope=col>DiabetesPedigreeFunction</th><th scope=col>Age</th><th scope=col>Outcome</th></tr>\n",
       "\t<tr><th></th><th scope=col>&lt;int&gt;</th><th scope=col>&lt;int&gt;</th><th scope=col>&lt;int&gt;</th><th scope=col>&lt;int&gt;</th><th scope=col>&lt;int&gt;</th><th scope=col>&lt;dbl&gt;</th><th scope=col>&lt;dbl&gt;</th><th scope=col>&lt;int&gt;</th><th scope=col>&lt;int&gt;</th></tr>\n",
       "</thead>\n",
       "<tbody>\n",
       "\t<tr><th scope=row>1</th><td> 6</td><td>148</td><td>72</td><td>35</td><td> NA</td><td>33.6</td><td>0.627</td><td>50</td><td>1</td></tr>\n",
       "\t<tr><th scope=row>2</th><td> 1</td><td> 85</td><td>66</td><td>29</td><td> NA</td><td>26.6</td><td>0.351</td><td>31</td><td>0</td></tr>\n",
       "\t<tr><th scope=row>3</th><td> 8</td><td>183</td><td>64</td><td>NA</td><td> NA</td><td>23.3</td><td>0.672</td><td>32</td><td>1</td></tr>\n",
       "\t<tr><th scope=row>4</th><td> 1</td><td> 89</td><td>66</td><td>23</td><td> 94</td><td>28.1</td><td>0.167</td><td>21</td><td>0</td></tr>\n",
       "\t<tr><th scope=row>5</th><td>NA</td><td>137</td><td>40</td><td>35</td><td>168</td><td>43.1</td><td>2.288</td><td>33</td><td>1</td></tr>\n",
       "\t<tr><th scope=row>6</th><td> 5</td><td>116</td><td>74</td><td>NA</td><td> NA</td><td>25.6</td><td>0.201</td><td>30</td><td>0</td></tr>\n",
       "</tbody>\n",
       "</table>\n"
      ],
      "text/latex": [
       "A data.frame: 6 × 9\n",
       "\\begin{tabular}{r|lllllllll}\n",
       "  & Pregnancies & Glucose & BloodPressure & SkinThickness & Insulin & BMI & DiabetesPedigreeFunction & Age & Outcome\\\\\n",
       "  & <int> & <int> & <int> & <int> & <int> & <dbl> & <dbl> & <int> & <int>\\\\\n",
       "\\hline\n",
       "\t1 &  6 & 148 & 72 & 35 &  NA & 33.6 & 0.627 & 50 & 1\\\\\n",
       "\t2 &  1 &  85 & 66 & 29 &  NA & 26.6 & 0.351 & 31 & 0\\\\\n",
       "\t3 &  8 & 183 & 64 & NA &  NA & 23.3 & 0.672 & 32 & 1\\\\\n",
       "\t4 &  1 &  89 & 66 & 23 &  94 & 28.1 & 0.167 & 21 & 0\\\\\n",
       "\t5 & NA & 137 & 40 & 35 & 168 & 43.1 & 2.288 & 33 & 1\\\\\n",
       "\t6 &  5 & 116 & 74 & NA &  NA & 25.6 & 0.201 & 30 & 0\\\\\n",
       "\\end{tabular}\n"
      ],
      "text/markdown": [
       "\n",
       "A data.frame: 6 × 9\n",
       "\n",
       "| <!--/--> | Pregnancies &lt;int&gt; | Glucose &lt;int&gt; | BloodPressure &lt;int&gt; | SkinThickness &lt;int&gt; | Insulin &lt;int&gt; | BMI &lt;dbl&gt; | DiabetesPedigreeFunction &lt;dbl&gt; | Age &lt;int&gt; | Outcome &lt;int&gt; |\n",
       "|---|---|---|---|---|---|---|---|---|---|\n",
       "| 1 |  6 | 148 | 72 | 35 |  NA | 33.6 | 0.627 | 50 | 1 |\n",
       "| 2 |  1 |  85 | 66 | 29 |  NA | 26.6 | 0.351 | 31 | 0 |\n",
       "| 3 |  8 | 183 | 64 | NA |  NA | 23.3 | 0.672 | 32 | 1 |\n",
       "| 4 |  1 |  89 | 66 | 23 |  94 | 28.1 | 0.167 | 21 | 0 |\n",
       "| 5 | NA | 137 | 40 | 35 | 168 | 43.1 | 2.288 | 33 | 1 |\n",
       "| 6 |  5 | 116 | 74 | NA |  NA | 25.6 | 0.201 | 30 | 0 |\n",
       "\n"
      ],
      "text/plain": [
       "  Pregnancies Glucose BloodPressure SkinThickness Insulin BMI \n",
       "1  6          148     72            35             NA     33.6\n",
       "2  1           85     66            29             NA     26.6\n",
       "3  8          183     64            NA             NA     23.3\n",
       "4  1           89     66            23             94     28.1\n",
       "5 NA          137     40            35            168     43.1\n",
       "6  5          116     74            NA             NA     25.6\n",
       "  DiabetesPedigreeFunction Age Outcome\n",
       "1 0.627                    50  1      \n",
       "2 0.351                    31  0      \n",
       "3 0.672                    32  1      \n",
       "4 0.167                    21  0      \n",
       "5 2.288                    33  1      \n",
       "6 0.201                    30  0      "
      ]
     },
     "metadata": {},
     "output_type": "display_data"
    }
   ],
   "source": [
    "# Importing data from a CSV file\n",
    "data <- read.csv('diabetes.csv')\n",
    "\n",
    "# Displaying the first few rows of the data\n",
    "head(data)"
   ]
  },
  {
   "cell_type": "markdown",
   "id": "7fe5b202",
   "metadata": {},
   "source": [
    "### Handling Missing Data"
   ]
  },
  {
   "cell_type": "code",
   "execution_count": 8,
   "id": "18884f95",
   "metadata": {},
   "outputs": [
    {
     "data": {
      "text/html": [
       "<table class=\"dataframe\">\n",
       "<caption>A data.frame: 4 × 3</caption>\n",
       "<thead>\n",
       "\t<tr><th scope=col>name</th><th scope=col>age</th><th scope=col>score</th></tr>\n",
       "\t<tr><th scope=col>&lt;chr&gt;</th><th scope=col>&lt;dbl&gt;</th><th scope=col>&lt;dbl&gt;</th></tr>\n",
       "</thead>\n",
       "<tbody>\n",
       "\t<tr><td>Alice  </td><td>25</td><td>85</td></tr>\n",
       "\t<tr><td>Bob    </td><td>NA</td><td>90</td></tr>\n",
       "\t<tr><td>Charlie</td><td>30</td><td>NA</td></tr>\n",
       "\t<tr><td>David  </td><td>NA</td><td>88</td></tr>\n",
       "</tbody>\n",
       "</table>\n"
      ],
      "text/latex": [
       "A data.frame: 4 × 3\n",
       "\\begin{tabular}{lll}\n",
       " name & age & score\\\\\n",
       " <chr> & <dbl> & <dbl>\\\\\n",
       "\\hline\n",
       "\t Alice   & 25 & 85\\\\\n",
       "\t Bob     & NA & 90\\\\\n",
       "\t Charlie & 30 & NA\\\\\n",
       "\t David   & NA & 88\\\\\n",
       "\\end{tabular}\n"
      ],
      "text/markdown": [
       "\n",
       "A data.frame: 4 × 3\n",
       "\n",
       "| name &lt;chr&gt; | age &lt;dbl&gt; | score &lt;dbl&gt; |\n",
       "|---|---|---|\n",
       "| Alice   | 25 | 85 |\n",
       "| Bob     | NA | 90 |\n",
       "| Charlie | 30 | NA |\n",
       "| David   | NA | 88 |\n",
       "\n"
      ],
      "text/plain": [
       "  name    age score\n",
       "1 Alice   25  85   \n",
       "2 Bob     NA  90   \n",
       "3 Charlie 30  NA   \n",
       "4 David   NA  88   "
      ]
     },
     "metadata": {},
     "output_type": "display_data"
    }
   ],
   "source": [
    "# Creating a sample data frame with missing values\n",
    "data_with_na <- data.frame(\n",
    "  name = c(\"Alice\", \"Bob\", \"Charlie\", \"David\"),\n",
    "  age = c(25, NA, 30, NA),\n",
    "  score = c(85, 90, NA, 88)\n",
    ")\n",
    "data_with_na"
   ]
  },
  {
   "cell_type": "code",
   "execution_count": 9,
   "id": "ffe230d8",
   "metadata": {},
   "outputs": [
    {
     "data": {
      "text/html": [
       "<table class=\"dataframe\">\n",
       "<caption>A data.frame: 1 × 3</caption>\n",
       "<thead>\n",
       "\t<tr><th></th><th scope=col>name</th><th scope=col>age</th><th scope=col>score</th></tr>\n",
       "\t<tr><th></th><th scope=col>&lt;chr&gt;</th><th scope=col>&lt;dbl&gt;</th><th scope=col>&lt;dbl&gt;</th></tr>\n",
       "</thead>\n",
       "<tbody>\n",
       "\t<tr><th scope=row>1</th><td>Alice</td><td>25</td><td>85</td></tr>\n",
       "</tbody>\n",
       "</table>\n"
      ],
      "text/latex": [
       "A data.frame: 1 × 3\n",
       "\\begin{tabular}{r|lll}\n",
       "  & name & age & score\\\\\n",
       "  & <chr> & <dbl> & <dbl>\\\\\n",
       "\\hline\n",
       "\t1 & Alice & 25 & 85\\\\\n",
       "\\end{tabular}\n"
      ],
      "text/markdown": [
       "\n",
       "A data.frame: 1 × 3\n",
       "\n",
       "| <!--/--> | name &lt;chr&gt; | age &lt;dbl&gt; | score &lt;dbl&gt; |\n",
       "|---|---|---|---|\n",
       "| 1 | Alice | 25 | 85 |\n",
       "\n"
      ],
      "text/plain": [
       "  name  age score\n",
       "1 Alice 25  85   "
      ]
     },
     "metadata": {},
     "output_type": "display_data"
    }
   ],
   "source": [
    "# Removing rows with missing values\n",
    "data_cleaned <- na.omit(data_with_na)\n",
    "data_cleaned"
   ]
  },
  {
   "cell_type": "markdown",
   "id": "45bfda5b",
   "metadata": {},
   "source": [
    "### Replacing Missing Values"
   ]
  },
  {
   "cell_type": "code",
   "execution_count": 10,
   "id": "a9e92007",
   "metadata": {},
   "outputs": [
    {
     "data": {
      "text/html": [
       "<table class=\"dataframe\">\n",
       "<caption>A data.frame: 4 × 3</caption>\n",
       "<thead>\n",
       "\t<tr><th scope=col>name</th><th scope=col>age</th><th scope=col>score</th></tr>\n",
       "\t<tr><th scope=col>&lt;chr&gt;</th><th scope=col>&lt;dbl&gt;</th><th scope=col>&lt;dbl&gt;</th></tr>\n",
       "</thead>\n",
       "<tbody>\n",
       "\t<tr><td>Alice  </td><td>25.0</td><td>85</td></tr>\n",
       "\t<tr><td>Bob    </td><td>27.5</td><td>90</td></tr>\n",
       "\t<tr><td>Charlie</td><td>30.0</td><td>NA</td></tr>\n",
       "\t<tr><td>David  </td><td>27.5</td><td>88</td></tr>\n",
       "</tbody>\n",
       "</table>\n"
      ],
      "text/latex": [
       "A data.frame: 4 × 3\n",
       "\\begin{tabular}{lll}\n",
       " name & age & score\\\\\n",
       " <chr> & <dbl> & <dbl>\\\\\n",
       "\\hline\n",
       "\t Alice   & 25.0 & 85\\\\\n",
       "\t Bob     & 27.5 & 90\\\\\n",
       "\t Charlie & 30.0 & NA\\\\\n",
       "\t David   & 27.5 & 88\\\\\n",
       "\\end{tabular}\n"
      ],
      "text/markdown": [
       "\n",
       "A data.frame: 4 × 3\n",
       "\n",
       "| name &lt;chr&gt; | age &lt;dbl&gt; | score &lt;dbl&gt; |\n",
       "|---|---|---|\n",
       "| Alice   | 25.0 | 85 |\n",
       "| Bob     | 27.5 | 90 |\n",
       "| Charlie | 30.0 | NA |\n",
       "| David   | 27.5 | 88 |\n",
       "\n"
      ],
      "text/plain": [
       "  name    age  score\n",
       "1 Alice   25.0 85   \n",
       "2 Bob     27.5 90   \n",
       "3 Charlie 30.0 NA   \n",
       "4 David   27.5 88   "
      ]
     },
     "metadata": {},
     "output_type": "display_data"
    }
   ],
   "source": [
    "# Replacing NA values with the mean of the column\n",
    "data_with_na$age[is.na(data_with_na$age)] <- mean(data_with_na$age, na.rm = TRUE)\n",
    "data_with_na"
   ]
  },
  {
   "cell_type": "code",
   "execution_count": null,
   "id": "1d8fe56d",
   "metadata": {},
   "outputs": [],
   "source": []
  }
 ],
 "metadata": {
  "kernelspec": {
   "display_name": "R",
   "language": "R",
   "name": "ir"
  },
  "language_info": {
   "codemirror_mode": "r",
   "file_extension": ".r",
   "mimetype": "text/x-r-source",
   "name": "R",
   "pygments_lexer": "r",
   "version": "4.4.1"
  }
 },
 "nbformat": 4,
 "nbformat_minor": 5
}
